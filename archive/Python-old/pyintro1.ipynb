{
  "cells": [
    {
      "cell_type": "markdown",
      "metadata": {
        "id": "jy0nO1OGgGQm"
      },
      "source": [
        "# Python入門(1)\n",
        "\n",
        "* Python入門\n",
        "  * 読み込み・演算・表示\n",
        "  * リスト・タプル・辞書\n",
        "  * 制御構造\n",
        "* 統計の概要\n",
        "\n"
      ]
    },
    {
      "cell_type": "markdown",
      "metadata": {
        "id": "aGrqlvtkr5AF"
      },
      "source": [
        "## 1.1 読み込み・演算・表示"
      ]
    },
    {
      "cell_type": "code",
      "execution_count": null,
      "metadata": {
        "id": "ZejLSVR4ULtD"
      },
      "outputs": [],
      "source": [
        "v1 = 5  # 整数型\n",
        "type(v1)"
      ]
    },
    {
      "cell_type": "code",
      "execution_count": null,
      "metadata": {
        "id": "Lsi9Sd87ULvz"
      },
      "outputs": [],
      "source": [
        "v2 = 6.5  # 浮動小数点型\n",
        "type(v2)"
      ]
    },
    {
      "cell_type": "code",
      "execution_count": null,
      "metadata": {
        "id": "rTYPVjkBULyN"
      },
      "outputs": [],
      "source": [
        "v3 = 'これは文字列です。'  # 文字列型\n",
        "type(v3)"
      ]
    },
    {
      "cell_type": "code",
      "execution_count": null,
      "metadata": {
        "id": "CSsyfOxSUL1b"
      },
      "outputs": [],
      "source": [
        "# print関数\n",
        "\n",
        "print(f'変数v1の値は {v1}、v2の値は {v2:.3} です。')"
      ]
    },
    {
      "cell_type": "code",
      "execution_count": null,
      "metadata": {
        "id": "sO5O6AuXUiuS"
      },
      "outputs": [],
      "source": [
        "# 演算子\n",
        "\n",
        "a = 5\n",
        "b = 6\n",
        "print((a+b)/2)"
      ]
    },
    {
      "cell_type": "markdown",
      "metadata": {
        "id": "Lz-vOheUUshD"
      },
      "source": [
        "## 1.2 リスト・タプル・辞書"
      ]
    },
    {
      "cell_type": "code",
      "execution_count": null,
      "metadata": {
        "id": "YVV9eEUbUizo"
      },
      "outputs": [],
      "source": [
        "# リスト\n",
        "\n",
        "num_list = [10, 20, 30, 40, 50]\n",
        "num_list[2]"
      ]
    },
    {
      "cell_type": "code",
      "execution_count": null,
      "metadata": {
        "id": "M74oS6kwUi2r"
      },
      "outputs": [],
      "source": [
        "# 平均値\n",
        "\n",
        "a = [3, 8, 2, 1, 9]\n",
        "b = (a[0] + a[1] + a[2] + a[3] + a[4]) / 5\n",
        "print(f'平均は {b}')"
      ]
    },
    {
      "cell_type": "code",
      "execution_count": null,
      "metadata": {
        "id": "4eJsj2xvVdMk"
      },
      "outputs": [],
      "source": [
        "# スライス\n",
        "\n",
        "num_list[1:4]"
      ]
    },
    {
      "cell_type": "code",
      "execution_count": null,
      "metadata": {
        "id": "wyeJ9eOLVdO7"
      },
      "outputs": [],
      "source": [
        "# リストのコピー（失敗例）\n",
        "\n",
        "a = [5, 8, 3]\n",
        "b = a\n",
        "print(b)\n",
        "a[1] = 2\n",
        "print(b)"
      ]
    },
    {
      "cell_type": "code",
      "execution_count": null,
      "metadata": {
        "id": "mvd7agA7VdUK"
      },
      "outputs": [],
      "source": [
        "# リストのコピー（成功例）\n",
        "\n",
        "a = [5, 8, 3]\n",
        "b = a.copy()\n",
        "print(b)\n",
        "a[1] = 2\n",
        "print(b)"
      ]
    },
    {
      "cell_type": "code",
      "execution_count": null,
      "metadata": {
        "id": "QNelfpNTVdWx"
      },
      "outputs": [],
      "source": [
        "# タプル\n",
        "\n",
        "a = (2, 8, 7, 1, 5)\n",
        "a[1]"
      ]
    },
    {
      "cell_type": "code",
      "execution_count": null,
      "metadata": {
        "id": "RFEiFlghV6pj"
      },
      "outputs": [],
      "source": [
        "# タプルを書き換えようとしているのでエラーになる\n",
        "a[1] = 3"
      ]
    },
    {
      "cell_type": "code",
      "execution_count": null,
      "metadata": {
        "id": "4xkcc5HfV6sZ"
      },
      "outputs": [],
      "source": [
        "# 辞書\n",
        "\n",
        "c = {'name':'Tom Bean', 'age':21, 'point':80}\n",
        "c['name']"
      ]
    },
    {
      "cell_type": "markdown",
      "metadata": {
        "id": "Ry9-Rc1-WD6i"
      },
      "source": [
        "## 1.3 制御構造"
      ]
    },
    {
      "cell_type": "code",
      "execution_count": null,
      "metadata": {
        "id": "i5ncOAvaV6vx"
      },
      "outputs": [],
      "source": [
        "# if\n",
        "\n",
        "c = {'name':'Tom Bean', 'age':21, 'point':80}\n",
        "if c['age'] >= 18:\n",
        "    print(c['point'])\n",
        "else:\n",
        "    print('Under 18 years old.')"
      ]
    },
    {
      "cell_type": "code",
      "execution_count": null,
      "metadata": {
        "id": "66hhUmABWKpC"
      },
      "outputs": [],
      "source": [
        "# for （インデックス）\n",
        "\n",
        "num_list = [10, 20, 30, 40, 50]\n",
        "s = 0\n",
        "for i in range(5):\n",
        "    s += num_list[i]\n",
        "print(f'平均は {s/5}')"
      ]
    },
    {
      "cell_type": "code",
      "execution_count": null,
      "metadata": {
        "id": "4BUMTWqPWKrp"
      },
      "outputs": [],
      "source": [
        "# for （イテラブルオブジェクト）\n",
        "\n",
        "num_list = [10, 20, 30, 40, 50]\n",
        "s = 0\n",
        "for x in num_list:\n",
        "    s += x\n",
        "print(f'平均は {s/len(num_list)}')"
      ]
    },
    {
      "cell_type": "code",
      "execution_count": null,
      "metadata": {
        "id": "tZAM4GGZWKxb"
      },
      "outputs": [],
      "source": [
        "# while \n",
        "\n",
        "x = 2.0\n",
        "diff = float('inf') # 差の初期値を無限大に設定\n",
        "rnew = x            # 近似値の初期値は入力値\n",
        "\n",
        "while diff > 1.0E-3:\n",
        "  r1 = rnew\n",
        "  r2 = x/r1\n",
        "  rnew = (r1 + r2)/2\n",
        "  diff = r1 - r2\n",
        "\n",
        "print(f'{r2:.8} < {rnew:.8} < {r1:.8}')"
      ]
    },
    {
      "cell_type": "code",
      "execution_count": null,
      "metadata": {
        "id": "sqcOByZmWK0D"
      },
      "outputs": [],
      "source": [
        "# break\n",
        "\n",
        "x = 2.0\n",
        "rnew = x\n",
        "\n",
        "while True:\n",
        "  r1 = rnew\n",
        "  r2 = x/r1\n",
        "  rnew = (r1 + r2)/2\n",
        "  if r1 - r2 < 1.0E-3:\n",
        "    break\n",
        "\n",
        "print(f'{r2:.8} < {rnew:.8} < {r1:.8}')"
      ]
    },
    {
      "cell_type": "code",
      "execution_count": null,
      "metadata": {
        "id": "zoX9RxM9Wzd7"
      },
      "outputs": [],
      "source": [
        "# 実行時エラーの可能性\n",
        "\n",
        "x = float(input('Enter positive number> '))\n",
        "diff = float('inf')\n",
        "rnew = x\n",
        "\n",
        "while diff > 1.0E-3:\n",
        "  r1 = rnew\n",
        "  r2 = x/r1\n",
        "  rnew = (r1 + r2)/2\n",
        "  diff = r1 - r2\n",
        "\n",
        "print(f'{r2:.8} < {rnew:.8} < {r1:.8}')"
      ]
    },
    {
      "cell_type": "code",
      "execution_count": null,
      "metadata": {
        "id": "Xskg5tAkXH0i"
      },
      "outputs": [],
      "source": [
        "# 正の数が得られるまでloop\n",
        "\n",
        "while True:\n",
        "  x = input('Enter positive number> ')\n",
        "  try:\n",
        "    x = float(x)\n",
        "  except ValueError:\n",
        "    print(f'{x}は数値に変換できません。')\n",
        "    continue\n",
        "  if x <= 0:\n",
        "    print(f'{x}は正の数値ではありません。')\n",
        "    continue\n",
        "  break\n",
        "\n",
        "print(x)"
      ]
    }
  ],
  "metadata": {
    "colab": {
      "provenance": []
    },
    "kernelspec": {
      "display_name": "Python 3",
      "name": "python3"
    },
    "language_info": {
      "name": "python"
    }
  },
  "nbformat": 4,
  "nbformat_minor": 0
}
