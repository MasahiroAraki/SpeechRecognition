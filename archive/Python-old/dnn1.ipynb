{
  "cells": [
    {
      "cell_type": "markdown",
      "metadata": {
        "id": "DbuQOBnZ6HCy"
      },
      "source": [
        "このNotebookの内容\n",
        "\n",
        "* ニューラルネットワークの学習\n",
        "* numpyでの行列・テンソルの計算\n",
        "* numpyを用いたニューラルネットのコーディング\n",
        "\n"
      ]
    },
    {
      "cell_type": "markdown",
      "metadata": {
        "id": "7eDAK4LaK9o1"
      },
      "source": [
        "# ニューラルネットの学習"
      ]
    },
    {
      "cell_type": "markdown",
      "metadata": {
        "id": "JU79bJuQLCFP"
      },
      "source": [
        "## 問題の定式化\n",
        "\n",
        "ここでは、ニューラルネットの学習の説明を単純にするために、中間のレイヤー（隠れ層）が1つのネットワーク構造を考える。"
      ]
    },
    {
      "cell_type": "markdown",
      "metadata": {
        "id": "jdLO7k9xPT_-"
      },
      "source": [
        "![fig1-5.png](data:image/png;base64,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)"
      ]
    },
    {
      "cell_type": "markdown",
      "metadata": {
        "id": "psob_hu_PUh-"
      },
      "source": [
        "入力値、隠れ層の値、出力値、およびノード間の結合重みを以下のように定義する。ここで入力は$d$次元ベクトル、隠れ層のノード数は$m$、識別すべきクラス数は$c$とする。\n",
        "\n",
        "入力値: ${\\bf x} = (x_1, \\dots, x_d)^T$\n",
        "\n",
        "隠れ層の値: ${\\bf h} = (h_1, \\dots, h_m)^T$\n",
        "\n",
        "出力値: ${\\bf g} = (g_1, \\dots, g_c)^T$\n",
        "\n",
        "入力ノードと隠れ層ノードとの結合重み: ${\\bf U} = \\{u_{j \\leftarrow i}\\}$\n",
        "\n",
        "隠れ層ノードと出力ノードとの結合重み: ${\\bf W} = \\{w_{k \\leftarrow j}\\}$"
      ]
    },
    {
      "cell_type": "markdown",
      "metadata": {
        "id": "o-GeR6UGRfuQ"
      },
      "source": [
        "各ノードの計算は、入力の重み付き和に対してシグモイド関数などを用いて非線形変換を行う。この変換関数を活性化関数$f$とよぶ。活性化関数の役割は、入力の重み付き和（線型）が小さい値ならばノードの出力を0に近い値に、大きい値ならば1に近い値にする非線形変換を行うことである。この非線形変換の多くの組合せあるいは多段階の組合せによって、ネットワーク全体として複雑な非線形関数を表現する。\n",
        "\n",
        "活性化関数の例として、[シグモイド関数](https://mathtrain.jp/sigmoid)がある。\n",
        "\n",
        "シグモイド関数：$f(x) = \\frac{1}{1+e^{-x}} $"
      ]
    },
    {
      "cell_type": "markdown",
      "metadata": {
        "id": "7661YppoRfcH"
      },
      "source": [
        "このように定式化すると、出力層のノード$y_k$の出力は以下のように計算できる。\n",
        "\n",
        "$y_k = f(\\sum_j w_{k \\leftarrow j} f(\\sum_i u_{j \\leftarrow i} x_i))$"
      ]
    },
    {
      "cell_type": "markdown",
      "metadata": {
        "id": "v-m8lFLKPXMP"
      },
      "source": [
        "## 誤差逆伝播法による学習手順"
      ]
    },
    {
      "cell_type": "markdown",
      "metadata": {
        "id": "doRzpohTVA6Q"
      },
      "source": [
        "### 誤差関数と勾配降下法\n",
        "\n",
        "学習データでは、個々の入力${\\bf x}$について、正解のクラス番号$k \\in \\{1,\\dots,c\\}$ が与えられている。この正解を$c$次元のバイナリベクトル${\\bf b}$（正解にあたる$k$次元目の値が1、残りは0）で表現する。${\\bf b}$を教師信号またはターゲットとよぶ。\n",
        "\n",
        "ニューラルネットの学習では、ネットワークの出力をターゲットに近づけることを目標とする。そのために出力とターゲットの差の二乗和を損失関数$J$と定義し、この$J$の値の最小化を目指す。\n",
        "\n",
        "$J = \\sum_k \\frac{1}{2} (g_k - b_k)^2$\n",
        "\n"
      ]
    },
    {
      "cell_type": "markdown",
      "metadata": {
        "id": "lQcHmEqSVBNV"
      },
      "source": [
        "$E$はネットワークの重み ${\\bf U}, {\\bf W}$ の関数であるので、$J$ を特定の重みで偏微分して勾配を求め、$J$ が減少する方向に少しずつ重みを変化させることで $J$ を小さくしてゆく。$J$ が極小値を持つならば、極小値付近では勾配が0に近づくので、変化量が徐々に小さくなる。このことを利用して誤差関数の最小化を行う方法を勾配降下法とよぶ。ここで $\\rho$ は学習係数であり、通常0.01程度の小さい値を設定する。\n",
        "\n",
        "$w_{k \\leftarrow j}' = w_{k \\leftarrow j} - \\rho \\frac{\\partial J}{\\partial w_{k \\leftarrow j}}$"
      ]
    },
    {
      "cell_type": "markdown",
      "metadata": {
        "id": "nYiaPopIYZls"
      },
      "source": [
        "### 隠れ層と出力層との間の重みの調整\n",
        "\n",
        "まず、隠れ層と出力層との間の重み ${\\bf W}$ の調整法を考える。いま、隠れ層の出力の重み付き和を以下のように定義する。\n",
        "\n",
        "$s_k = \\sum_j w_{k \\leftarrow j} h_j$\n",
        "\n",
        "活性化関数をシグモイド関数とすると、出力層の出力は以下のようになる。\n",
        "\n",
        "$g_k = sigmoid(s_k)$"
      ]
    },
    {
      "cell_type": "markdown",
      "metadata": {
        "id": "xeF6h5JPYZNd"
      },
      "source": [
        "$E$ の勾配は以下のように計算できる。\n",
        "\n",
        "$\\frac{\\partial J}{\\partial w_{k \\leftarrow j}} =  \\frac{\\partial J}{\\partial g_k} \\frac{\\partial g_k}{\\partial s_k} \\frac{\\partial s_k}{\\partial w_{k \\leftarrow j}}$\n",
        "\n",
        "右辺第1項は $J$ の定義式から、以下のようになる。\n",
        "\n",
        "$\\frac{\\partial J}{\\partial g_k} = \\frac{\\partial}{\\partial g_k} \\frac{1}{2} (g_k - b_k)^2 = (g_k - b_k)$\n",
        "\n",
        "右辺第2項は活性化関数の微分であり、$g_k'$ と表記しておく。たとえば、活性化関数としてシグモイド関数を採用すると、その微分（[参考](https://mathtrain.jp/sigmoid)）は以下のようになる。\n",
        "\n",
        "$\\frac{\\partial g_k}{\\partial s_k} = g_k (1 - g_k)$\n",
        "\n",
        "右辺第3項は $s_k$ の定義式から、以下のようになる。\n",
        "\n",
        "$\\frac{\\partial s_k}{\\partial w_{k \\leftarrow j}} = \\frac{\\partial}{w_{k \\leftarrow j}} \\sum_j w_{k \\leftarrow j} h_j = h_j$\n",
        "\n",
        "まとめると、$J$ の勾配は以下のようになり、これを勾配降下法の式に代入して学習が可能になる。\n",
        "\n",
        "$\\frac{\\partial J}{\\partial w_{k \\leftarrow j}} =  (g_k - b_k) g_k' h_j$\n",
        "\n",
        "なお、次の計算のために、誤差項 $\\delta_k$ を以下のように定義する。\n",
        "\n",
        "$\\delta_k =  (g_k - b_k) g'_k$"
      ]
    },
    {
      "cell_type": "markdown",
      "metadata": {
        "id": "C_3yvQGYYY7_"
      },
      "source": [
        "### 入力層と隠れ層との間の重みの調整\n",
        "\n",
        "次に、入力層と隠れ層との間の重み ${\\bf U}$ の調整法を考える。いま、入力層の値の重み付き和を以下のように定義する。\n",
        "\n",
        "$z_j = \\sum_i u_{j \\leftarrow i} x_i$\n",
        "\n",
        "活性化関数をシグモイド関数とすると、隠れ層の出力は以下のようになる。\n",
        "\n",
        "$h_j = sigmoid(z_j)$"
      ]
    },
    {
      "cell_type": "markdown",
      "metadata": {
        "id": "UhEuRZaOfYXs"
      },
      "source": [
        "$J$の勾配は以下のように計算できる。\n",
        "\n",
        "$\\frac{\\partial J}{\\partial u_{j \\leftarrow i}} =  \\frac{\\partial J}{\\partial h_j} \\frac{\\partial h_j}{\\partial z_j} \\frac{\\partial z_j}{\\partial u_{j \\leftarrow i}}$\n",
        "\n",
        "右辺第1項の計算は少し込み入ったものになる。$J$ に直接影響を与える変数は複数の $g_k$ であり、$g_k$ は $s_k$ から、$s_k$ は $h_j$ から計算されているので、右辺第1項は以下のようになる。\n",
        "\n",
        "$\\frac{\\partial J}{\\partial h_j} = \\sum_k \\frac{\\partial J}{\\partial g_k}\\frac{\\partial g_k}{\\partial s_k}\\frac{\\partial s_k}{\\partial h_j} $\n",
        "\n",
        "ここで、上式右辺の和の内部第1項と第2項の積は誤差項$\\delta_k$を使って以下のように書ける。\n",
        "\n",
        "$\\frac{\\partial J}{\\partial g_k}\\frac{\\partial g_k}{\\partial s_k} = (g_k - b_k) g_k' = \\delta_k$\n",
        "\n",
        "和の内部第3項は以下のように計算できる。\n",
        "\n",
        "$\\frac{\\partial s_k}{\\partial h_j} = \\frac{\\partial}{\\partial h_j} \\sum_j w_{k \\leftarrow j} h_j = w_{k \\leftarrow j}$\n",
        "\n",
        "従って、$J$の勾配式の右辺第1項は以下のようになる。\n",
        "\n",
        "$\\frac{\\partial J}{\\partial h_j} = \\sum_k \\delta_k w_{k \\leftarrow j} $\n",
        "\n",
        "右辺第2項は上の議論と同じく、$h_j'$と表記しておく。\n",
        "\n",
        "右辺第3項は$z_j$の定義式から、以下のようになる。\n",
        "\n",
        "$\\frac{\\partial z_j}{\\partial u_{j \\leftarrow i}} = \\frac{\\partial}{u_{j \\leftarrow i}} \\sum_i u_{j \\leftarrow i} x_i = x_i$\n",
        "\n",
        "まとめると、$J$の勾配は以下のようになり、これを勾配降下法の式に代入して学習が可能になる。\n",
        "\n",
        "$\\frac{\\partial J}{\\partial u_{j \\leftarrow i}} =  \\sum_k (\\delta_k w_{k \\leftarrow j}) h_j' x_i$\n",
        "\n",
        "ここで、$\\delta_k$は隠れ層と出力層の重みの調整時に求まっているものを使う。つまり、まず隠れ層と出力層の間の重み ${\\bf W}$ の調整を行って、その時に求めた誤差 $\\delta_k$ を用いて、入力層と隠れ層の重み ${\\bf U}$ の調整を行う。この手順は隠れ層の階層が複数になっても、同様に適用できる。このように誤差が出力側から入力側に向かって伝わるので、この方法を誤差逆伝播法とよぶ。\n"
      ]
    },
    {
      "cell_type": "markdown",
      "metadata": {
        "id": "WrjyLMUQUT55"
      },
      "source": [
        "# numpyでの行列・テンソルの計算"
      ]
    },
    {
      "cell_type": "markdown",
      "metadata": {
        "id": "SLQQKXwyUTdA"
      },
      "source": [
        "Pythonの数値計算ライブラリ numpy を用いると、ベクトル・行列・テンソル*の計算を簡潔なコードで記述することができる。\n",
        "\n",
        "（* テンソルは多次元配列と理解しておけばよい。）\n",
        "\n",
        "Pythonでは関数やクラスなどをまとめて書いたファイルをモジュールとよび、こちらが正確な呼び名であるが、モジュールのことをライブラリとよぶことも多い。"
      ]
    },
    {
      "cell_type": "markdown",
      "metadata": {
        "id": "GOgroiLIUS9e"
      },
      "source": [
        "まず、使用するモジュールを冒頭で読み込む。Python では import <モジュール名> と宣言することで、\n",
        "<モジュール名>.<関数名> のように関数を使用することができる。また、 import <モジュール名> as <別名> と宣言することで、\n",
        "<別名>.<関数名> のように関数を使用することができる。この別名はモジュールによって慣習的に決まっていることが多い。numpy の別名は np を用いる。"
      ]
    },
    {
      "cell_type": "code",
      "execution_count": null,
      "metadata": {
        "id": "mEVscMlEU0D7"
      },
      "outputs": [],
      "source": [
        "import numpy as np"
      ]
    },
    {
      "cell_type": "markdown",
      "metadata": {
        "id": "vS2g5670URqI"
      },
      "source": [
        "## テンソルの計算"
      ]
    },
    {
      "cell_type": "markdown",
      "metadata": {
        "id": "xQB1YSIBVCQP"
      },
      "source": [
        "###和と積\n",
        "\n",
        "テンソルの基本演算である加算は +演算子、掛け算は @演算子を用いる。これらを用いると、ループを用いた要素毎の演算をコーディングする必要はなく、数式の記述と同じようにコーディングできる。\n",
        "\n",
        "また、numpyの関数にテンソルを渡すと、通常は要素毎に計算を行って同じshapeのテンソルを返す。　"
      ]
    },
    {
      "cell_type": "code",
      "execution_count": null,
      "metadata": {
        "id": "5emxQIusVBP8"
      },
      "outputs": [],
      "source": [
        "w = np.array([0.1, 0.2])\n",
        "b = np.array(0.5)\n",
        "X = np.array([[1.0, 1.5],\n",
        "              [0.8, 1.2],\n",
        "              [1.3, 0.9]])"
      ]
    },
    {
      "cell_type": "code",
      "execution_count": null,
      "metadata": {
        "colab": {
          "base_uri": "https://localhost:8080/"
        },
        "id": "LVkWV6lKVB5K",
        "outputId": "3bf57b80-750a-4ae7-9417-c8c5b927b8af"
      },
      "outputs": [
        {
          "data": {
            "text/plain": [
              "array([0.9 , 0.82, 0.81])"
            ]
          },
          "execution_count": 3,
          "metadata": {
            "tags": []
          },
          "output_type": "execute_result"
        }
      ],
      "source": [
        "np.maximum(0, X @ w + b )"
      ]
    },
    {
      "cell_type": "markdown",
      "metadata": {
        "id": "b4LG0i8zVBoQ"
      },
      "source": [
        "shapeの異なるテンソル同士の演算は、曖昧性がない場合は小さい方のテンソルが大きい方のテンソルのshapeに合うようにブロードキャストされる。ブロードキャストの手順は、まず小さい方のテンソルの軸が大きい方に合わせて追加され、その軸の方向に値が繰り返しコピーされると考えればよい。"
      ]
    },
    {
      "cell_type": "markdown",
      "metadata": {
        "id": "-mwF0YctVoVv"
      },
      "source": [
        "###変換\n",
        "\n",
        "テンソルはreshapeメソッド使って同じ要素数の形が異なるテンソルに変換できる。たとえば、28x28の2Dテンソルは、784の要素を持つベクトル（1Dテンソル）に変換できる。\n",
        "\n",
        "注）要素が1個のタプルは、数が括弧で囲まれているものと区別するために \n",
        "(値,) の形となる。"
      ]
    },
    {
      "cell_type": "code",
      "execution_count": null,
      "metadata": {
        "colab": {
          "base_uri": "https://localhost:8080/"
        },
        "id": "fPvXaNihVCcn",
        "outputId": "77cf40b1-344e-4957-8f8d-97e319d6fe3f"
      },
      "outputs": [
        {
          "data": {
            "text/plain": [
              "(3, 2)"
            ]
          },
          "execution_count": 4,
          "metadata": {
            "tags": []
          },
          "output_type": "execute_result"
        }
      ],
      "source": [
        "x = np.array([[1, 2],\n",
        "              [3, 4],\n",
        "              [5, 6]])\n",
        "x.shape"
      ]
    },
    {
      "cell_type": "code",
      "execution_count": null,
      "metadata": {
        "colab": {
          "base_uri": "https://localhost:8080/"
        },
        "id": "TXrUYYy0V0wp",
        "outputId": "e6139f59-94d8-4885-8187-a6ea18b80c82"
      },
      "outputs": [
        {
          "name": "stdout",
          "output_type": "stream",
          "text": [
            "[[1 2 3]\n",
            " [4 5 6]]\n"
          ]
        },
        {
          "data": {
            "text/plain": [
              "(2, 3)"
            ]
          },
          "execution_count": 5,
          "metadata": {
            "tags": []
          },
          "output_type": "execute_result"
        }
      ],
      "source": [
        "x2 = x.reshape((2, 3))\n",
        "print(x2)\n",
        "x2.shape"
      ]
    },
    {
      "cell_type": "code",
      "execution_count": null,
      "metadata": {
        "colab": {
          "base_uri": "https://localhost:8080/"
        },
        "id": "Ka9FvhNmV1UP",
        "outputId": "d1b3173c-bac1-43b3-8ce4-a22496c6feed"
      },
      "outputs": [
        {
          "name": "stdout",
          "output_type": "stream",
          "text": [
            "[1 2 3 4 5 6]\n"
          ]
        },
        {
          "data": {
            "text/plain": [
              "(6,)"
            ]
          },
          "execution_count": 6,
          "metadata": {
            "tags": []
          },
          "output_type": "execute_result"
        }
      ],
      "source": [
        "x3 = x.reshape((2*3,))\n",
        "print(x3)\n",
        "x3.shape"
      ]
    },
    {
      "cell_type": "markdown",
      "metadata": {
        "id": "VWq8FfdYWA82"
      },
      "source": [
        "行列の転置はTメソッドを呼び出す。"
      ]
    },
    {
      "cell_type": "code",
      "execution_count": null,
      "metadata": {
        "colab": {
          "base_uri": "https://localhost:8080/"
        },
        "id": "EQ9zR_7aV1KV",
        "outputId": "7a1b9a4c-3c3b-47bd-9a2d-c57592248c24"
      },
      "outputs": [
        {
          "data": {
            "text/plain": [
              "array([[1, 3, 5],\n",
              "       [2, 4, 6]])"
            ]
          },
          "execution_count": 7,
          "metadata": {
            "tags": []
          },
          "output_type": "execute_result"
        }
      ],
      "source": [
        "x.T"
      ]
    },
    {
      "cell_type": "markdown",
      "metadata": {
        "id": "GDpHVMYE_8hd"
      },
      "source": [
        "# numpyを用いたニューラルネットのコーディング"
      ]
    },
    {
      "cell_type": "markdown",
      "metadata": {
        "id": "1cnci8OfoKpz"
      },
      "source": [
        "ここでは Python の数値計算ライブラリ numpy を用いてニューラルネットのコーディングを行う。"
      ]
    },
    {
      "cell_type": "markdown",
      "metadata": {
        "id": "DPocRM4RUJLU"
      },
      "source": [
        "対象とするネットワークの構造を以下の図に示す。ここでは、入力に加えるバイアス（b, b2）を別に扱っているが、上記の学習の説明において、入力の $d$ 次元ベクトルを定数項1を新たな次元として加えた $d+1$ 次元と読み替えてそのまま適用できる。このバイアス値も学習対象となる。\n",
        "\n",
        "また、多階層に拡張が容易なように重みもw, w2と読み替えている。\n",
        "\n",
        "![fig1-6.png](data:image/png;base64,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)"
      ]
    },
    {
      "cell_type": "markdown",
      "metadata": {
        "id": "YBjAp5y-Odo0"
      },
      "source": []
    },
    {
      "cell_type": "markdown",
      "metadata": {
        "id": "UoMyO5X8Um76"
      },
      "source": [
        "ここでは数学関数モジュール math と数値計算ライブラリ numpy を読み込んでおく。"
      ]
    },
    {
      "cell_type": "code",
      "execution_count": null,
      "metadata": {
        "id": "6uu_VOBbOc_H"
      },
      "outputs": [],
      "source": [
        "import math\n",
        "import numpy as np"
      ]
    },
    {
      "cell_type": "markdown",
      "metadata": {
        "id": "UCKVyQb1VoAa"
      },
      "source": [
        "次に重み、バイアスの初期値を設定する。このコード内では、扱う行列・テンソルは numpy の ndarray とする。ndarray 型の変数は以下のように宣言する。ここで数値の後に小数点を付けているのは、動的型付けにおいて、自動的に浮動小数点数として宣言するためである（整数で表記して、dtype=np.float64 と付加してもよい）。\n",
        "\n",
        "この重みを用いると、このネットワークは XOR 関数を実現していることになる。なお、一般にニューラルネットの重みの初期値は0近辺のもっと小さな値を用いる。"
      ]
    },
    {
      "cell_type": "code",
      "execution_count": null,
      "metadata": {
        "id": "Icix6bpvVodR"
      },
      "outputs": [],
      "source": [
        "w = np.array([[3.,4.], [2.,3.]])\n",
        "b = np.array([[-2.,-4.]])\n",
        "w2 = np.array([[5.,-5.]])\n",
        "b2 = np.array([[-2.]])"
      ]
    },
    {
      "cell_type": "markdown",
      "metadata": {
        "id": "Mw4b_0AuYTem"
      },
      "source": [
        "次にシグモイド関数とその導関数を定義する。ここでは、1つの数値を引数として与えると、その演算結果を返す関数として定義し、 @np.vectorize というデコレータを付けて、ベクトルが入力されたら、各要素に対して演算を行い、その結果をベクトルとして返せるようにする。"
      ]
    },
    {
      "cell_type": "code",
      "execution_count": null,
      "metadata": {
        "id": "JPIYvNQVoLE9"
      },
      "outputs": [],
      "source": [
        "@np.vectorize\n",
        "def sigmoid(x):\n",
        "  return 1 / (1 + math.exp(-x))\n",
        "\n",
        "@np.vectorize\n",
        "def sigmoid_derivative(x):\n",
        "  return sigmoid(x) * (1 - sigmoid(x))\n"
      ]
    },
    {
      "cell_type": "markdown",
      "metadata": {
        "id": "J1upFQrVoKYT"
      },
      "source": [
        "入力と正解は以下のように定義する。\n",
        "\n"
      ]
    },
    {
      "cell_type": "code",
      "execution_count": null,
      "metadata": {
        "id": "qrhX6leUaLc3"
      },
      "outputs": [],
      "source": [
        "x = np.array([1., 0.])\n",
        "t = np.array([1.])"
      ]
    },
    {
      "cell_type": "markdown",
      "metadata": {
        "id": "YNjwb2oYoPY8"
      },
      "source": [
        "前向きの計算は以下のようになる。@演算子は行列の積、.Tは転置を表す。"
      ]
    },
    {
      "cell_type": "code",
      "execution_count": null,
      "metadata": {
        "id": "S8FlWG34oGws"
      },
      "outputs": [],
      "source": [
        "s = w @ x.T + b\n",
        "h = sigmoid(s)\n",
        "z = w2 @ h.T + b2\n",
        "y = sigmoid(z)"
      ]
    },
    {
      "cell_type": "code",
      "execution_count": null,
      "metadata": {
        "colab": {
          "base_uri": "https://localhost:8080/"
        },
        "id": "dO97yuqbahwz",
        "outputId": "408a5e15-8b49-4f81-9027-70e52e220ec9"
      },
      "outputs": [
        {
          "data": {
            "text/plain": [
              "array([[0.7425526]])"
            ]
          },
          "execution_count": 13,
          "metadata": {
            "tags": []
          },
          "output_type": "execute_result"
        }
      ],
      "source": [
        "y"
      ]
    },
    {
      "cell_type": "markdown",
      "metadata": {
        "id": "AP5cHdXpcHc2"
      },
      "source": [
        "## 練習問題\n",
        "\n",
        "以下のコードで定義されるニューラルネットが XOR 関数を実現していることを確認できるようにコードを変更せよ。ただし、ネットワークの出力が0.5以上のとき真、0,5未満のとき偽と判定されたと解釈すること。"
      ]
    },
    {
      "cell_type": "code",
      "execution_count": null,
      "metadata": {
        "colab": {
          "base_uri": "https://localhost:8080/"
        },
        "id": "3XxSwxSochd9",
        "outputId": "8524416e-925f-496c-a6e8-728ee3b26741"
      },
      "outputs": [
        {
          "name": "stdout",
          "output_type": "stream",
          "text": [
            "result = 0.743\n"
          ]
        }
      ],
      "source": [
        "import math\n",
        "import numpy as np\n",
        "\n",
        "# ネットワークの重み\n",
        "w = np.array([[3.,4.], [2.,3.]])\n",
        "b = np.array([[-2.,-4.]])\n",
        "w2 = np.array([[5.,-5.]])\n",
        "b2 = np.array([[-2.]])\n",
        "\n",
        "# 活性化関数とその導関数\n",
        "@np.vectorize\n",
        "def sigmoid(x):\n",
        "  return 1 / (1 + math.exp(-x))\n",
        "\n",
        "@np.vectorize\n",
        "def sigmoid_derivative(x):\n",
        "  return sigmoid(x) * (1 - sigmoid(x))\n",
        "\n",
        "# 入力とターゲット\n",
        "x = np.array([1., 0.])\n",
        "t = np.array([1.])\n",
        "\n",
        "# 前向き計算\n",
        "s = w @ x.T + b\n",
        "h = sigmoid(s)\n",
        "z = w2 @ h.T + b2\n",
        "y = sigmoid(z)\n",
        "\n",
        "# 結果出力\n",
        "print(f'result = {y[0][0]:.3f}')"
      ]
    },
    {
      "cell_type": "markdown",
      "metadata": {
        "id": "TLFu1mmCHP16"
      },
      "source": [
        "## 解答例"
      ]
    },
    {
      "cell_type": "markdown",
      "metadata": {
        "id": "psJO3IaPHdlU"
      },
      "source": [
        "### 練習問題\n",
        "\n",
        "練習問題のコードを実行してから、以下のコードを実行する"
      ]
    },
    {
      "cell_type": "code",
      "execution_count": null,
      "metadata": {
        "colab": {
          "base_uri": "https://localhost:8080/"
        },
        "id": "BpKDoC8aHRoW",
        "outputId": "8c8d1bed-6f86-4579-8778-b32519b49013"
      },
      "outputs": [
        {
          "name": "stdout",
          "output_type": "stream",
          "text": [
            "input = [0. 0.]  result = 0.183\n",
            "input = [0. 1.]  result = 0.743\n",
            "input = [1. 0.]  result = 0.743\n",
            "input = [1. 1.]  result = 0.334\n"
          ]
        }
      ],
      "source": [
        "X = np.array([[0., 0.], [0., 1.], [1., 0.], [1., 1.]])\n",
        "Target = np.array([0., 1., 1., 0.])\n",
        "\n",
        "# 前向き計算\n",
        "def forward(x):\n",
        "  s = w @ x.T + b\n",
        "  h = sigmoid(s)\n",
        "  z = w2 @ h.T + b2\n",
        "  y = sigmoid(z)\n",
        "  return y\n",
        "\n",
        "for x in X:\n",
        "  y = forward(x)\n",
        "  print(f'input = {x}  result = {y[0][0]:.3f}')"
      ]
    }
  ],
  "metadata": {
    "colab": {
      "collapsed_sections": [],
      "name": "dnn-1.ipynb",
      "provenance": []
    },
    "kernelspec": {
      "display_name": "Python 3",
      "name": "python3"
    }
  },
  "nbformat": 4,
  "nbformat_minor": 0
}
