{
  "cells": [
    {
      "cell_type": "markdown",
      "metadata": {
        "id": "yzshjpxJkN_j"
      },
      "source": [
        "# Python入門(2)\n",
        "\n",
        "- 関数\n",
        "- クラス\n",
        "- 入出力\n",
        "- ライブラリ\n",
        "\n",
        "# 記述統計\n",
        "- データ分析\n",
        "- グラフ表示"
      ]
    },
    {
      "cell_type": "markdown",
      "metadata": {
        "id": "30EgpORhJ8LV"
      },
      "source": [
        "## 関数"
      ]
    },
    {
      "cell_type": "markdown",
      "metadata": {
        "id": "HUMng2oCuL1g"
      },
      "source": [
        "memo:  \n",
        "Colabでインデントを下げるショートカットキーは ctrl+'}'"
      ]
    },
    {
      "cell_type": "code",
      "execution_count": null,
      "metadata": {
        "id": "xeDz-Z76KFv7"
      },
      "outputs": [],
      "source": [
        "# 入力を行う関数\n",
        "\n",
        "def input_number():\n",
        "  while True:\n",
        "    x = input('Enter positive number> ')\n",
        "    try:\n",
        "      x = float(x)\n",
        "    except ValueError:\n",
        "      print(f'{x}は数値に変換できません。')\n",
        "      continue\n",
        "    if x <= 0:\n",
        "      print(f'{x}は正の数値ではありません。')\n",
        "      continue\n",
        "    break\n",
        "  return x"
      ]
    },
    {
      "cell_type": "code",
      "execution_count": null,
      "metadata": {
        "id": "Tjh6ztokKOV9"
      },
      "outputs": [],
      "source": [
        "# 平方根を求める関数\n",
        "\n",
        "def square_root(x):\n",
        "  rnew = x\n",
        "  while True:\n",
        "    r1 = rnew\n",
        "    r2 = x/r1\n",
        "    rnew = (r1 + r2)/2\n",
        "    if r1 - r2 < 1.0E-3:\n",
        "      break\n",
        "  return rnew"
      ]
    },
    {
      "cell_type": "code",
      "execution_count": null,
      "metadata": {
        "colab": {
          "base_uri": "https://localhost:8080/"
        },
        "id": "sN2luqNavVPx",
        "outputId": "204da47c-901a-4572-82a1-7e7954568f5b"
      },
      "outputs": [
        {
          "name": "stdout",
          "output_type": "stream",
          "text": [
            "Enter positive number> 2\n",
            "Square root of 2.0 is 1.4142135623746899.\n"
          ]
        }
      ],
      "source": [
        "# 全体の手順\n",
        "\n",
        "x = input_number()\n",
        "sq = square_root(x)\n",
        "print(f'Square root of {x} is {sq}.')"
      ]
    },
    {
      "cell_type": "code",
      "execution_count": null,
      "metadata": {
        "id": "AcDKYgC6KqRn"
      },
      "outputs": [],
      "source": [
        "# デフォルト引数\n",
        "\n",
        "def square_root(x, eps=1.0E-6):\n",
        "  rnew = x\n",
        "  while True:\n",
        "    r1 = rnew\n",
        "    r2 = x/r1\n",
        "    rnew = (r1 + r2)/2\n",
        "    if r1 - r2 < eps:\n",
        "      break\n",
        "  return rnew"
      ]
    },
    {
      "cell_type": "code",
      "execution_count": null,
      "metadata": {
        "colab": {
          "base_uri": "https://localhost:8080/"
        },
        "id": "FepUNlhIK28J",
        "outputId": "798d7be7-d491-4552-e510-e0f35c095077"
      },
      "outputs": [
        {
          "data": {
            "text/plain": [
              "1.414213562373095"
            ]
          },
          "execution_count": 5,
          "metadata": {},
          "output_type": "execute_result"
        }
      ],
      "source": [
        "# 引数1つで呼び出す\n",
        "\n",
        "square_root(2)"
      ]
    },
    {
      "cell_type": "code",
      "execution_count": null,
      "metadata": {
        "colab": {
          "base_uri": "https://localhost:8080/"
        },
        "id": "zOROvlg-KqXx",
        "outputId": "88629159-127a-48a2-c4ab-1c37e5967f82"
      },
      "outputs": [
        {
          "data": {
            "text/plain": [
              "1.4142156862745097"
            ]
          },
          "execution_count": 6,
          "metadata": {},
          "output_type": "execute_result"
        }
      ],
      "source": [
        "# 仮引数の順に実引数を与えて呼び出す\n",
        "square_root(2, 1.0E-2)"
      ]
    },
    {
      "cell_type": "code",
      "execution_count": null,
      "metadata": {
        "colab": {
          "base_uri": "https://localhost:8080/"
        },
        "id": "Fv2Tjq9QKqab",
        "outputId": "5a9137c9-9fc9-41b1-aeb8-eca4f2d61a14"
      },
      "outputs": [
        {
          "data": {
            "text/plain": [
              "1.414213562373095"
            ]
          },
          "execution_count": 7,
          "metadata": {},
          "output_type": "execute_result"
        }
      ],
      "source": [
        "# キーワード引数で呼び出す\n",
        "square_root(2, eps=1.0E-6)"
      ]
    },
    {
      "cell_type": "markdown",
      "metadata": {
        "id": "9Z1WlXOcLN2T"
      },
      "source": [
        "## クラス"
      ]
    },
    {
      "cell_type": "code",
      "execution_count": null,
      "metadata": {
        "colab": {
          "base_uri": "https://localhost:8080/"
        },
        "id": "v94evy7VHL7E",
        "outputId": "3bd78d30-be25-4eaf-fd92-3985a9593680"
      },
      "outputs": [
        {
          "name": "stdout",
          "output_type": "stream",
          "text": [
            "3\n",
            "2\n",
            "9\n",
            "8\n",
            "5\n",
            "None\n"
          ]
        }
      ],
      "source": [
        "# スタックの例\n",
        "\n",
        "class MyStack():\n",
        "  def __init__(self, data):\n",
        "    self.num_list = data\n",
        "\n",
        "  def push(self, elem):\n",
        "    self.num_list.append(elem)\n",
        "\n",
        "  def pop(self):\n",
        "    if self.is_empty() == True:\n",
        "      return None\n",
        "    else:\n",
        "      x = self.num_list[-1]\n",
        "      self.num_list = self.num_list[:-1]\n",
        "      return x\n",
        "\n",
        "  def is_empty(self):\n",
        "    return self.num_list == []\n",
        "\n",
        "  def clear(self):\n",
        "    self.num_list = []\n",
        "\n",
        "if __name__ == '__main__':\n",
        "  st = MyStack([5, 2, 3])\n",
        "  print(st.pop())\n",
        "  print(st.pop())\n",
        "  st.push(8)\n",
        "  st.push(9)\n",
        "  print(st.pop())\n",
        "  print(st.pop())\n",
        "  print(st.pop())\n",
        "  print(st.pop())"
      ]
    },
    {
      "cell_type": "markdown",
      "metadata": {
        "id": "B8Rm4GKqIYiM"
      },
      "source": [
        "# 入出力\n"
      ]
    },
    {
      "cell_type": "code",
      "execution_count": null,
      "metadata": {
        "id": "Ekt4j8RDIYtL"
      },
      "outputs": [],
      "source": [
        "# ファイルの作成\n",
        "\n",
        "data = ''', web, mobile, enterprise, embedded\n",
        "Python, 80, 30, 90, 70\n",
        "Java, 85, 60, 85, 40\n",
        "C, 30, 40, 70, 90\n",
        "'''\n",
        "\n",
        "f = open('data.csv', 'w')\n",
        "f.write(data)\n",
        "f.close()"
      ]
    },
    {
      "cell_type": "code",
      "execution_count": null,
      "metadata": {
        "colab": {
          "base_uri": "https://localhost:8080/"
        },
        "id": "UOA1bEWXUmbM",
        "outputId": "4e9c1701-ee6b-45d8-bcbb-4da9659854ab"
      },
      "outputs": [
        {
          "name": "stdout",
          "output_type": "stream",
          "text": [
            "                     web      mobile  enterprise   embedded\n",
            "      Python          80          30          90         70\n",
            "        Java          85          60          85         40\n",
            "           C          30          40          70         90\n"
          ]
        }
      ],
      "source": [
        "# ファイルの読み込みと表示\n",
        "\n",
        "f = open('data.csv', 'r')\n",
        "data = f.readlines()\n",
        "for line in data:\n",
        "  elems = line.split(',')\n",
        "  for e in elems:\n",
        "    print(f'{e:>12s}', end='')\n",
        "f.close()"
      ]
    },
    {
      "cell_type": "code",
      "execution_count": null,
      "metadata": {
        "colab": {
          "base_uri": "https://localhost:8080/"
        },
        "id": "kNXkdaJqlQQ3",
        "outputId": "ed77b4f9-0f94-48af-b394-a2939a903a39"
      },
      "outputs": [
        {
          "name": "stdout",
          "output_type": "stream",
          "text": [
            "                     web      mobile  enterprise   embedded\n",
            "      Python          80          30          90         70\n",
            "        Java          85          60          85         40\n",
            "           C          30          40          70         90\n"
          ]
        }
      ],
      "source": [
        "# withを用いたファイルの読み込みと表示\n",
        "\n",
        "with open('data.csv', 'r') as f:\n",
        "  data = f.readlines()\n",
        "  for line in data:\n",
        "    elems = line.split(',')\n",
        "    for e in elems:\n",
        "      print(f'{e:>12s}', end='')"
      ]
    },
    {
      "cell_type": "markdown",
      "metadata": {
        "id": "XUgKUGg4MNH7"
      },
      "source": [
        "## ライブラリ"
      ]
    },
    {
      "cell_type": "code",
      "execution_count": null,
      "metadata": {
        "id": "MtUjBq4kTQBN"
      },
      "outputs": [],
      "source": [
        "import numpy as np\n",
        "import matplotlib.pyplot as plt\n",
        "import pandas as pd"
      ]
    },
    {
      "cell_type": "code",
      "execution_count": null,
      "metadata": {
        "colab": {
          "base_uri": "https://localhost:8080/",
          "height": 35
        },
        "id": "3ducW_lnQKyH",
        "outputId": "4b099d89-d858-44f0-b1f5-7c1ab9ceffa0"
      },
      "outputs": [
        {
          "data": {
            "application/vnd.google.colaboratory.intrinsic+json": {
              "type": "string"
            },
            "text/plain": [
              "'%.3f'"
            ]
          },
          "execution_count": 13,
          "metadata": {},
          "output_type": "execute_result"
        }
      ],
      "source": [
        "%precision 3"
      ]
    },
    {
      "cell_type": "markdown",
      "metadata": {
        "id": "qi6VrrHJQSNF"
      },
      "source": [
        "### numpy"
      ]
    },
    {
      "cell_type": "code",
      "execution_count": null,
      "metadata": {
        "colab": {
          "base_uri": "https://localhost:8080/"
        },
        "id": "n1B23aX9QK1R",
        "outputId": "29691c70-fed5-4562-95f0-541dfee0a089"
      },
      "outputs": [
        {
          "name": "stdout",
          "output_type": "stream",
          "text": [
            "[[1.3 2.5 3.1]\n",
            " [4.  5.1 6.9]]\n",
            "type:  <class 'numpy.ndarray'>\n",
            "ndim:  2\n",
            "shape:  (2, 3)\n",
            "dtype:  float64\n"
          ]
        }
      ],
      "source": [
        "# ベクトルや行列は ndarray で保持する\n",
        "\n",
        "arr2 = np.array([[1.3, 2.5, 3.1], [4.0, 5.1, 6.9]])\n",
        "print(arr2)\n",
        "print('type: ', type(arr2))\n",
        "print('ndim: ', arr2.ndim)\n",
        "print('shape: ', arr2.shape)\n",
        "print('dtype: ', arr2.dtype)"
      ]
    },
    {
      "cell_type": "code",
      "execution_count": null,
      "metadata": {
        "colab": {
          "base_uri": "https://localhost:8080/"
        },
        "id": "gzL4tA5nQclM",
        "outputId": "d2a33a89-e2b8-4c7b-9647-2172585f7e75"
      },
      "outputs": [
        {
          "name": "stdout",
          "output_type": "stream",
          "text": [
            "[ 1.581 -0.508 -0.772  0.028 -0.506 -0.47  -1.056 -0.278  0.093 -0.941]\n"
          ]
        }
      ],
      "source": [
        "# 乱数（平均0、分散1の標準正規分布）で配列の初期値を与える\n",
        "arr3 = np.random.randn(10)\n",
        "print(arr3)"
      ]
    },
    {
      "cell_type": "code",
      "execution_count": null,
      "metadata": {
        "colab": {
          "base_uri": "https://localhost:8080/"
        },
        "id": "W2vKsxrRQcos",
        "outputId": "3f4d0b61-dece-475f-b7c5-6e26c3be672c"
      },
      "outputs": [
        {
          "data": {
            "text/plain": [
              "array([1.581, 0.028, 0.093])"
            ]
          },
          "execution_count": 16,
          "metadata": {},
          "output_type": "execute_result"
        }
      ],
      "source": [
        "# ブールインデックスを使った参照\n",
        "\n",
        "arr3[arr3 > 0]"
      ]
    },
    {
      "cell_type": "code",
      "execution_count": null,
      "metadata": {
        "colab": {
          "base_uri": "https://localhost:8080/"
        },
        "id": "Ymv5LEPTp8C3",
        "outputId": "d8be3f51-57d7-476b-c0a5-54569407e774"
      },
      "outputs": [
        {
          "name": "stdout",
          "output_type": "stream",
          "text": [
            "original:\n",
            "[[1 2]\n",
            " [3 4]]\n",
            "transposed:\n",
            "[[1 3]\n",
            " [2 4]]\n",
            "inverse:\n",
            "[[-2.   1. ]\n",
            " [ 1.5 -0.5]]\n",
            "diag:\n",
            "[1 4]\n",
            "det:\n",
            "-2.0000000000000004\n",
            "eigenvalues:\n",
            "(array([-0.372,  5.372]), array([[-0.825, -0.416],\n",
            "       [ 0.566, -0.909]]))\n",
            "sum:\n",
            "[[ 6  8]\n",
            " [10 12]]\n",
            "product:\n",
            "[[19 22]\n",
            " [43 50]]\n"
          ]
        }
      ],
      "source": [
        "# 行列計算\n",
        "\n",
        "m1 = np.array([[1, 2], [3, 4]])\n",
        "m2 = np.array([[5, 6], [7, 8]])\n",
        "\n",
        "print('original:')\n",
        "print(m1)\n",
        "# 転置\n",
        "print('transposed:')\n",
        "print(m1.T)\n",
        "# 逆行列\n",
        "print('inverse:')\n",
        "print(np.linalg.inv(m1))\n",
        "# 対角要素\n",
        "print('diag:')\n",
        "print(np.diag(m1))\n",
        "# 行列式\n",
        "print('det:')\n",
        "print(np.linalg.det(m1))\n",
        "# 固有値\n",
        "print('eigenvalues:')\n",
        "print(np.linalg.eig(m1))\n",
        "# 和\n",
        "print('sum:')\n",
        "print(m1 + m2)\n",
        "# 積\n",
        "print('product:')\n",
        "print(m1 @ m2)"
      ]
    },
    {
      "cell_type": "markdown",
      "metadata": {
        "id": "UesFbiPEQVTB"
      },
      "source": [
        "### matplotlib"
      ]
    },
    {
      "cell_type": "code",
      "execution_count": null,
      "metadata": {
        "colab": {
          "base_uri": "https://localhost:8080/",
          "height": 490
        },
        "id": "Foka6ZBwQK4b",
        "outputId": "e081aae6-5e98-4d19-a720-04c839cc7a79"
      },
      "outputs": [
        {
          "data": {
            "text/plain": [
              "[<matplotlib.lines.Line2D at 0x7fda42c05fd0>]"
            ]
          },
          "execution_count": 18,
          "metadata": {},
          "output_type": "execute_result"
        },
        {
          "data": {
            "image/png": "[encoded data removed]",
            "text/plain": [
              "<Figure size 640x480 with 1 Axes>"
            ]
          },
          "metadata": {},
          "output_type": "display_data"
        }
      ],
      "source": [
        "# 関数のプロット\n",
        "\n",
        "import math\n",
        "x = np.arange(-math.pi, math.pi, 0.1)\n",
        "y = np.sin(x)\n",
        "plt.title('sine curve')\n",
        "plt.xlabel('x')\n",
        "plt.ylabel('y')\n",
        "plt.plot(x, y, 'r-')\n",
        "plt.plot(x, y*2, 'b--')"
      ]
    },
    {
      "cell_type": "code",
      "execution_count": null,
      "metadata": {
        "colab": {
          "base_uri": "https://localhost:8080/",
          "height": 448
        },
        "id": "TY9fobB_QdTx",
        "outputId": "d64b0b98-3a62-4a48-ac1f-a1b7a71355bd"
      },
      "outputs": [
        {
          "data": {
            "text/plain": [
              "<matplotlib.collections.PathCollection at 0x7fda42b24f10>"
            ]
          },
          "execution_count": 19,
          "metadata": {},
          "output_type": "execute_result"
        },
        {
          "data": {
            "image/png": "[encoded data removed]",
            "text/plain": [
              "<Figure size 640x480 with 1 Axes>"
            ]
          },
          "metadata": {},
          "output_type": "display_data"
        }
      ],
      "source": [
        "# 散布図\n",
        "\n",
        "np.random.seed(0)\n",
        "# 平均(0,0)、分散1の正規分布から2次元データを50個生成\n",
        "data = np.random.randn(50, 2)\n",
        "# マーカの色と形を指定して散布図で表示\n",
        "plt.scatter(data[:,0], data[:,1], c='blue',marker='o')"
      ]
    },
    {
      "cell_type": "code",
      "execution_count": null,
      "metadata": {
        "colab": {
          "base_uri": "https://localhost:8080/",
          "height": 537
        },
        "id": "LXDDR_5PQdXS",
        "outputId": "e7bfd1fc-04d2-4d79-9b73-325038d314e1"
      },
      "outputs": [
        {
          "data": {
            "text/plain": [
              "(array([  3.,   6.,   9.,  11.,  30.,  40.,  59.,  87., 103., 114., 116.,\n",
              "        123.,  83.,  77.,  48.,  38.,  22.,  16.,  11.,   4.]),\n",
              " array([-3.046, -2.756, -2.466, -2.175, -1.885, -1.595, -1.304, -1.014,\n",
              "        -0.724, -0.434, -0.143,  0.147,  0.437,  0.727,  1.018,  1.308,\n",
              "         1.598,  1.889,  2.179,  2.469,  2.759]),\n",
              " <BarContainer object of 20 artists>)"
            ]
          },
          "execution_count": 20,
          "metadata": {},
          "output_type": "execute_result"
        },
        {
          "data": {
            "image/png": "[encoded data removed]",
            "text/plain": [
              "<Figure size 640x480 with 1 Axes>"
            ]
          },
          "metadata": {},
          "output_type": "display_data"
        }
      ],
      "source": [
        "# ヒストグラム\n",
        "\n",
        "np.random.seed(0)\n",
        "# 平均0、分散1の正規分布から1次元データを1000個生成\n",
        "data = np.random.randn(1000)\n",
        "# データを20個のbinに分割して、度数・binの端の値を返し、グラフを表示\n",
        "plt.hist(data, bins=20)"
      ]
    },
    {
      "cell_type": "markdown",
      "metadata": {
        "id": "AnIE4w9McQHE"
      },
      "source": [
        "## ライブラリを用いた記述統計とデータの可視化"
      ]
    },
    {
      "cell_type": "code",
      "execution_count": 45,
      "metadata": {
        "colab": {
          "base_uri": "https://localhost:8080/"
        },
        "id": "nXj0846WcRTp",
        "outputId": "df6ef950-29d6-4301-9b6a-e20b0fa98ff8"
      },
      "outputs": [
        {
          "data": {
            "text/plain": [
              "array([44, 47, 64, 67, 67,  9, 83, 21, 36, 87])"
            ]
          },
          "execution_count": 45,
          "metadata": {},
          "output_type": "execute_result"
        }
      ],
      "source": [
        "# 1次元データの生成\n",
        "\n",
        "np.random.seed(0)\n",
        "scores = np.random.randint(100, size=10)\n",
        "scores"
      ]
    },
    {
      "cell_type": "code",
      "execution_count": 46,
      "metadata": {
        "colab": {
          "base_uri": "https://localhost:8080/",
          "height": 394
        },
        "id": "MFlqhJIPcVCl",
        "outputId": "ffa4e827-6809-49c5-c0f2-5a9a42a66757"
      },
      "outputs": [
        {
          "data": {
            "text/html": [
              "\n",
              "  <div id=\"df-2caaa0d0-c3f7-458b-b7e8-7b7d1a33212d\">\n",
              "    <div class=\"colab-df-container\">\n",
              "      <div>\n",
              "<style scoped>\n",
              "    .dataframe tbody tr th:only-of-type {\n",
              "        vertical-align: middle;\n",
              "    }\n",
              "\n",
              "    .dataframe tbody tr th {\n",
              "        vertical-align: top;\n",
              "    }\n",
              "\n",
              "    .dataframe thead th {\n",
              "        text-align: right;\n",
              "    }\n",
              "</style>\n",
              "<table border=\"1\" class=\"dataframe\">\n",
              "  <thead>\n",
              "    <tr style=\"text-align: right;\">\n",
              "      <th></th>\n",
              "      <th>Score</th>\n",
              "    </tr>\n",
              "    <tr>\n",
              "      <th>name</th>\n",
              "      <th></th>\n",
              "    </tr>\n",
              "  </thead>\n",
              "  <tbody>\n",
              "    <tr>\n",
              "      <th>A</th>\n",
              "      <td>44</td>\n",
              "    </tr>\n",
              "    <tr>\n",
              "      <th>B</th>\n",
              "      <td>47</td>\n",
              "    </tr>\n",
              "    <tr>\n",
              "      <th>C</th>\n",
              "      <td>64</td>\n",
              "    </tr>\n",
              "    <tr>\n",
              "      <th>D</th>\n",
              "      <td>67</td>\n",
              "    </tr>\n",
              "    <tr>\n",
              "      <th>E</th>\n",
              "      <td>67</td>\n",
              "    </tr>\n",
              "    <tr>\n",
              "      <th>F</th>\n",
              "      <td>9</td>\n",
              "    </tr>\n",
              "    <tr>\n",
              "      <th>G</th>\n",
              "      <td>83</td>\n",
              "    </tr>\n",
              "    <tr>\n",
              "      <th>H</th>\n",
              "      <td>21</td>\n",
              "    </tr>\n",
              "    <tr>\n",
              "      <th>I</th>\n",
              "      <td>36</td>\n",
              "    </tr>\n",
              "    <tr>\n",
              "      <th>J</th>\n",
              "      <td>87</td>\n",
              "    </tr>\n",
              "  </tbody>\n",
              "</table>\n",
              "</div>\n",
              "      <button class=\"colab-df-convert\" onclick=\"convertToInteractive('df-2caaa0d0-c3f7-458b-b7e8-7b7d1a33212d')\"\n",
              "              title=\"Convert this dataframe to an interactive table.\"\n",
              "              style=\"display:none;\">\n",
              "        \n",
              "  <svg xmlns=\"http://www.w3.org/2000/svg\" height=\"24px\"viewBox=\"0 0 24 24\"\n",
              "       width=\"24px\">\n",
              "    <path d=\"M0 0h24v24H0V0z\" fill=\"none\"/>\n",
              "    <path d=\"M18.56 5.44l.94 2.06.94-2.06 2.06-.94-2.06-.94-.94-2.06-.94 2.06-2.06.94zm-11 1L8.5 8.5l.94-2.06 2.06-.94-2.06-.94L8.5 2.5l-.94 2.06-2.06.94zm10 10l.94 2.06.94-2.06 2.06-.94-2.06-.94-.94-2.06-.94 2.06-2.06.94z\"/><path d=\"M17.41 7.96l-1.37-1.37c-.4-.4-.92-.59-1.43-.59-.52 0-1.04.2-1.43.59L10.3 9.45l-7.72 7.72c-.78.78-.78 2.05 0 2.83L4 21.41c.39.39.9.59 1.41.59.51 0 1.02-.2 1.41-.59l7.78-7.78 2.81-2.81c.8-.78.8-2.07 0-2.86zM5.41 20L4 18.59l7.72-7.72 1.47 1.35L5.41 20z\"/>\n",
              "  </svg>\n",
              "      </button>\n",
              "      \n",
              "  <style>\n",
              "    .colab-df-container {\n",
              "      display:flex;\n",
              "      flex-wrap:wrap;\n",
              "      gap: 12px;\n",
              "    }\n",
              "\n",
              "    .colab-df-convert {\n",
              "      background-color: #E8F0FE;\n",
              "      border: none;\n",
              "      border-radius: 50%;\n",
              "      cursor: pointer;\n",
              "      display: none;\n",
              "      fill: #1967D2;\n",
              "      height: 32px;\n",
              "      padding: 0 0 0 0;\n",
              "      width: 32px;\n",
              "    }\n",
              "\n",
              "    .colab-df-convert:hover {\n",
              "      background-color: #E2EBFA;\n",
              "      box-shadow: 0px 1px 2px rgba(60, 64, 67, 0.3), 0px 1px 3px 1px rgba(60, 64, 67, 0.15);\n",
              "      fill: #174EA6;\n",
              "    }\n",
              "\n",
              "    [theme=dark] .colab-df-convert {\n",
              "      background-color: #3B4455;\n",
              "      fill: #D2E3FC;\n",
              "    }\n",
              "\n",
              "    [theme=dark] .colab-df-convert:hover {\n",
              "      background-color: #434B5C;\n",
              "      box-shadow: 0px 1px 3px 1px rgba(0, 0, 0, 0.15);\n",
              "      filter: drop-shadow(0px 1px 2px rgba(0, 0, 0, 0.3));\n",
              "      fill: #FFFFFF;\n",
              "    }\n",
              "  </style>\n",
              "\n",
              "      <script>\n",
              "        const buttonEl =\n",
              "          document.querySelector('#df-2caaa0d0-c3f7-458b-b7e8-7b7d1a33212d button.colab-df-convert');\n",
              "        buttonEl.style.display =\n",
              "          google.colab.kernel.accessAllowed ? 'block' : 'none';\n",
              "\n",
              "        async function convertToInteractive(key) {\n",
              "          const element = document.querySelector('#df-2caaa0d0-c3f7-458b-b7e8-7b7d1a33212d');\n",
              "          const dataTable =\n",
              "            await google.colab.kernel.invokeFunction('convertToInteractive',\n",
              "                                                     [key], {});\n",
              "          if (!dataTable) return;\n",
              "\n",
              "          const docLinkHtml = 'Like what you see? Visit the ' +\n",
              "            '<a target=\"_blank\" href=https://colab.research.google.com/notebooks/data_table.ipynb>data table notebook</a>'\n",
              "            + ' to learn more about interactive tables.';\n",
              "          element.innerHTML = '';\n",
              "          dataTable['output_type'] = 'display_data';\n",
              "          await google.colab.output.renderOutput(dataTable, element);\n",
              "          const docLink = document.createElement('div');\n",
              "          docLink.innerHTML = docLinkHtml;\n",
              "          element.appendChild(docLink);\n",
              "        }\n",
              "      </script>\n",
              "    </div>\n",
              "  </div>\n",
              "  "
            ],
            "text/plain": [
              "      Score\n",
              "name       \n",
              "A        44\n",
              "B        47\n",
              "C        64\n",
              "D        67\n",
              "E        67\n",
              "F         9\n",
              "G        83\n",
              "H        21\n",
              "I        36\n",
              "J        87"
            ]
          },
          "execution_count": 46,
          "metadata": {},
          "output_type": "execute_result"
        }
      ],
      "source": [
        "scores_df = pd.DataFrame({'Score':scores}, index=pd.Index(['A','B','C','D','E','F','G','H','I','J'], name='name'))\n",
        "scores_df"
      ]
    },
    {
      "cell_type": "code",
      "execution_count": 47,
      "metadata": {
        "colab": {
          "base_uri": "https://localhost:8080/"
        },
        "id": "o-CwvjmYceqQ",
        "outputId": "bc3ce446-668d-4bb1-e36c-c98431329e4b"
      },
      "outputs": [
        {
          "data": {
            "text/plain": [
              "52.5"
            ]
          },
          "execution_count": 47,
          "metadata": {},
          "output_type": "execute_result"
        }
      ],
      "source": [
        "# 平均値\n",
        "\n",
        "np.mean(scores)"
      ]
    },
    {
      "cell_type": "code",
      "execution_count": 48,
      "metadata": {
        "colab": {
          "base_uri": "https://localhost:8080/"
        },
        "id": "Ht9DJKKkch8R",
        "outputId": "99fa794b-8bf8-4043-a728-ca2d3e025cd1"
      },
      "outputs": [
        {
          "data": {
            "text/plain": [
              "Score    52.5\n",
              "dtype: float64"
            ]
          },
          "execution_count": 48,
          "metadata": {},
          "output_type": "execute_result"
        }
      ],
      "source": [
        "scores_df.mean()"
      ]
    },
    {
      "cell_type": "code",
      "execution_count": 49,
      "metadata": {
        "colab": {
          "base_uri": "https://localhost:8080/"
        },
        "id": "YcKoWzfrctgv",
        "outputId": "3cf6b4d6-5c0e-4435-88d6-341ad2af4823"
      },
      "outputs": [
        {
          "data": {
            "text/plain": [
              "55.5"
            ]
          },
          "execution_count": 49,
          "metadata": {},
          "output_type": "execute_result"
        }
      ],
      "source": [
        "# 中央値\n",
        "\n",
        "np.median(scores)"
      ]
    },
    {
      "cell_type": "code",
      "execution_count": 50,
      "metadata": {
        "colab": {
          "base_uri": "https://localhost:8080/"
        },
        "id": "ZYGt_pRqZeSO",
        "outputId": "001d4e00-3db3-4de3-a153-89481afdeaed"
      },
      "outputs": [
        {
          "data": {
            "text/plain": [
              "55.5"
            ]
          },
          "execution_count": 50,
          "metadata": {},
          "output_type": "execute_result"
        }
      ],
      "source": [
        "scores_df.median()['Score']"
      ]
    },
    {
      "cell_type": "code",
      "execution_count": 51,
      "metadata": {
        "colab": {
          "base_uri": "https://localhost:8080/",
          "height": 53
        },
        "id": "DpdXsDyGZgmL",
        "outputId": "f8f876ca-c0e1-4b6f-80f7-649d39a29d71"
      },
      "outputs": [
        {
          "name": "stdout",
          "output_type": "stream",
          "text": [
            "['f', 'f', 'f', 'm', 'f', 'm', 'f', 'f', 'f', 'f', 'm']\n"
          ]
        },
        {
          "data": {
            "application/vnd.google.colaboratory.intrinsic+json": {
              "type": "string"
            },
            "text/plain": [
              "'f'"
            ]
          },
          "execution_count": 51,
          "metadata": {},
          "output_type": "execute_result"
        }
      ],
      "source": [
        "# 最頻値\n",
        "\n",
        "import random\n",
        "\n",
        "m_f_list = ['m', 'f']\n",
        "data = random.choices(m_f_list, k=11)\n",
        "\n",
        "print(data)\n",
        "\n",
        "pd.Series(data).mode()[0]"
      ]
    },
    {
      "cell_type": "code",
      "execution_count": 52,
      "metadata": {
        "colab": {
          "base_uri": "https://localhost:8080/"
        },
        "id": "Sw7N6wpBZnt1",
        "outputId": "0f7054cf-22ea-41f4-f319-bf3761514bd5"
      },
      "outputs": [
        {
          "data": {
            "text/plain": [
              "24.3567239176372"
            ]
          },
          "execution_count": 52,
          "metadata": {},
          "output_type": "execute_result"
        }
      ],
      "source": [
        "# 分散（標本分散）\n",
        "\n",
        "np.std(scores)"
      ]
    },
    {
      "cell_type": "code",
      "execution_count": 53,
      "metadata": {
        "colab": {
          "base_uri": "https://localhost:8080/"
        },
        "id": "jisWiy6FZvKP",
        "outputId": "eba04508-1ddb-410f-94fa-b102b901e463"
      },
      "outputs": [
        {
          "data": {
            "text/plain": [
              "25.67424130654432"
            ]
          },
          "execution_count": 53,
          "metadata": {},
          "output_type": "execute_result"
        }
      ],
      "source": [
        "# 分散（不偏分散）\n",
        "\n",
        "scores_df.std()['Score']"
      ]
    },
    {
      "cell_type": "code",
      "execution_count": 54,
      "metadata": {
        "colab": {
          "base_uri": "https://localhost:8080/",
          "height": 300
        },
        "id": "3NEBI1QAZvHc",
        "outputId": "75af6f7c-cae3-4c22-bbdd-5cf9582caefc"
      },
      "outputs": [
        {
          "data": {
            "text/html": [
              "\n",
              "  <div id=\"df-3a14ca61-8c4e-4132-b1a7-9014fc299e3a\">\n",
              "    <div class=\"colab-df-container\">\n",
              "      <div>\n",
              "<style scoped>\n",
              "    .dataframe tbody tr th:only-of-type {\n",
              "        vertical-align: middle;\n",
              "    }\n",
              "\n",
              "    .dataframe tbody tr th {\n",
              "        vertical-align: top;\n",
              "    }\n",
              "\n",
              "    .dataframe thead th {\n",
              "        text-align: right;\n",
              "    }\n",
              "</style>\n",
              "<table border=\"1\" class=\"dataframe\">\n",
              "  <thead>\n",
              "    <tr style=\"text-align: right;\">\n",
              "      <th></th>\n",
              "      <th>Score</th>\n",
              "    </tr>\n",
              "  </thead>\n",
              "  <tbody>\n",
              "    <tr>\n",
              "      <th>count</th>\n",
              "      <td>10.000000</td>\n",
              "    </tr>\n",
              "    <tr>\n",
              "      <th>mean</th>\n",
              "      <td>52.500000</td>\n",
              "    </tr>\n",
              "    <tr>\n",
              "      <th>std</th>\n",
              "      <td>25.674241</td>\n",
              "    </tr>\n",
              "    <tr>\n",
              "      <th>min</th>\n",
              "      <td>9.000000</td>\n",
              "    </tr>\n",
              "    <tr>\n",
              "      <th>25%</th>\n",
              "      <td>38.000000</td>\n",
              "    </tr>\n",
              "    <tr>\n",
              "      <th>50%</th>\n",
              "      <td>55.500000</td>\n",
              "    </tr>\n",
              "    <tr>\n",
              "      <th>75%</th>\n",
              "      <td>67.000000</td>\n",
              "    </tr>\n",
              "    <tr>\n",
              "      <th>max</th>\n",
              "      <td>87.000000</td>\n",
              "    </tr>\n",
              "  </tbody>\n",
              "</table>\n",
              "</div>\n",
              "      <button class=\"colab-df-convert\" onclick=\"convertToInteractive('df-3a14ca61-8c4e-4132-b1a7-9014fc299e3a')\"\n",
              "              title=\"Convert this dataframe to an interactive table.\"\n",
              "              style=\"display:none;\">\n",
              "        \n",
              "  <svg xmlns=\"http://www.w3.org/2000/svg\" height=\"24px\"viewBox=\"0 0 24 24\"\n",
              "       width=\"24px\">\n",
              "    <path d=\"M0 0h24v24H0V0z\" fill=\"none\"/>\n",
              "    <path d=\"M18.56 5.44l.94 2.06.94-2.06 2.06-.94-2.06-.94-.94-2.06-.94 2.06-2.06.94zm-11 1L8.5 8.5l.94-2.06 2.06-.94-2.06-.94L8.5 2.5l-.94 2.06-2.06.94zm10 10l.94 2.06.94-2.06 2.06-.94-2.06-.94-.94-2.06-.94 2.06-2.06.94z\"/><path d=\"M17.41 7.96l-1.37-1.37c-.4-.4-.92-.59-1.43-.59-.52 0-1.04.2-1.43.59L10.3 9.45l-7.72 7.72c-.78.78-.78 2.05 0 2.83L4 21.41c.39.39.9.59 1.41.59.51 0 1.02-.2 1.41-.59l7.78-7.78 2.81-2.81c.8-.78.8-2.07 0-2.86zM5.41 20L4 18.59l7.72-7.72 1.47 1.35L5.41 20z\"/>\n",
              "  </svg>\n",
              "      </button>\n",
              "      \n",
              "  <style>\n",
              "    .colab-df-container {\n",
              "      display:flex;\n",
              "      flex-wrap:wrap;\n",
              "      gap: 12px;\n",
              "    }\n",
              "\n",
              "    .colab-df-convert {\n",
              "      background-color: #E8F0FE;\n",
              "      border: none;\n",
              "      border-radius: 50%;\n",
              "      cursor: pointer;\n",
              "      display: none;\n",
              "      fill: #1967D2;\n",
              "      height: 32px;\n",
              "      padding: 0 0 0 0;\n",
              "      width: 32px;\n",
              "    }\n",
              "\n",
              "    .colab-df-convert:hover {\n",
              "      background-color: #E2EBFA;\n",
              "      box-shadow: 0px 1px 2px rgba(60, 64, 67, 0.3), 0px 1px 3px 1px rgba(60, 64, 67, 0.15);\n",
              "      fill: #174EA6;\n",
              "    }\n",
              "\n",
              "    [theme=dark] .colab-df-convert {\n",
              "      background-color: #3B4455;\n",
              "      fill: #D2E3FC;\n",
              "    }\n",
              "\n",
              "    [theme=dark] .colab-df-convert:hover {\n",
              "      background-color: #434B5C;\n",
              "      box-shadow: 0px 1px 3px 1px rgba(0, 0, 0, 0.15);\n",
              "      filter: drop-shadow(0px 1px 2px rgba(0, 0, 0, 0.3));\n",
              "      fill: #FFFFFF;\n",
              "    }\n",
              "  </style>\n",
              "\n",
              "      <script>\n",
              "        const buttonEl =\n",
              "          document.querySelector('#df-3a14ca61-8c4e-4132-b1a7-9014fc299e3a button.colab-df-convert');\n",
              "        buttonEl.style.display =\n",
              "          google.colab.kernel.accessAllowed ? 'block' : 'none';\n",
              "\n",
              "        async function convertToInteractive(key) {\n",
              "          const element = document.querySelector('#df-3a14ca61-8c4e-4132-b1a7-9014fc299e3a');\n",
              "          const dataTable =\n",
              "            await google.colab.kernel.invokeFunction('convertToInteractive',\n",
              "                                                     [key], {});\n",
              "          if (!dataTable) return;\n",
              "\n",
              "          const docLinkHtml = 'Like what you see? Visit the ' +\n",
              "            '<a target=\"_blank\" href=https://colab.research.google.com/notebooks/data_table.ipynb>data table notebook</a>'\n",
              "            + ' to learn more about interactive tables.';\n",
              "          element.innerHTML = '';\n",
              "          dataTable['output_type'] = 'display_data';\n",
              "          await google.colab.output.renderOutput(dataTable, element);\n",
              "          const docLink = document.createElement('div');\n",
              "          docLink.innerHTML = docLinkHtml;\n",
              "          element.appendChild(docLink);\n",
              "        }\n",
              "      </script>\n",
              "    </div>\n",
              "  </div>\n",
              "  "
            ],
            "text/plain": [
              "           Score\n",
              "count  10.000000\n",
              "mean   52.500000\n",
              "std    25.674241\n",
              "min     9.000000\n",
              "25%    38.000000\n",
              "50%    55.500000\n",
              "75%    67.000000\n",
              "max    87.000000"
            ]
          },
          "execution_count": 54,
          "metadata": {},
          "output_type": "execute_result"
        }
      ],
      "source": [
        "# 四分位範囲等\n",
        "\n",
        "scores_df.describe()"
      ]
    },
    {
      "cell_type": "code",
      "execution_count": 55,
      "metadata": {
        "colab": {
          "base_uri": "https://localhost:8080/"
        },
        "id": "GJmGvdbZZvFJ",
        "outputId": "d929443d-97c8-42f5-a749-5bcacb7820e0"
      },
      "outputs": [
        {
          "name": "stdout",
          "output_type": "stream",
          "text": [
            "[-0.349 -0.226  0.472  0.595  0.595 -1.786  1.252 -1.293 -0.677  1.416]\n",
            "平均: -2.22e-17, 標準偏差: 1.0\n"
          ]
        }
      ],
      "source": [
        "# 標準化\n",
        "\n",
        "z = (scores - np.mean(scores)) / np.std(scores)\n",
        "print(z)\n",
        "print(f'平均: {np.mean(z):.3}, 標準偏差: {np.std(z):.3}')"
      ]
    },
    {
      "cell_type": "code",
      "execution_count": 56,
      "metadata": {
        "colab": {
          "base_uri": "https://localhost:8080/"
        },
        "id": "pXrl46UmZvCM",
        "outputId": "ebd41b25-83eb-4930-9080-b6fc408f14e9"
      },
      "outputs": [
        {
          "data": {
            "text/plain": [
              "array([46.51 , 47.742, 54.721, 55.953, 55.953, 32.14 , 62.522, 37.067,\n",
              "       43.226, 64.164])"
            ]
          },
          "execution_count": 56,
          "metadata": {},
          "output_type": "execute_result"
        }
      ],
      "source": [
        "# 偏差値\n",
        "\n",
        "50 + 10 * (scores - np.mean(scores)) / np.std(scores)"
      ]
    },
    {
      "cell_type": "code",
      "execution_count": 57,
      "metadata": {
        "colab": {
          "base_uri": "https://localhost:8080/",
          "height": 470
        },
        "id": "TNzhU03OZu_L",
        "outputId": "4586d670-30a6-46a5-8208-d14f2dbd22c8"
      },
      "outputs": [
        {
          "data": {
            "text/plain": [
              "array([[<Axes: title={'center': 'Score'}>]], dtype=object)"
            ]
          },
          "execution_count": 57,
          "metadata": {},
          "output_type": "execute_result"
        },
        {
          "data": {
            "image/png": "[encoded data removed]",
            "text/plain": [
              "<Figure size 640x480 with 1 Axes>"
            ]
          },
          "metadata": {},
          "output_type": "display_data"
        }
      ],
      "source": [
        "# ヒストグラム\n",
        "\n",
        "scores_df.hist(bins=10, range=(0,100))"
      ]
    },
    {
      "cell_type": "code",
      "execution_count": 58,
      "metadata": {
        "colab": {
          "base_uri": "https://localhost:8080/",
          "height": 449
        },
        "id": "3eBy7bCXZu8Y",
        "outputId": "a98ae96c-8680-4087-eea0-8f6a9a92ce46"
      },
      "outputs": [
        {
          "data": {
            "text/plain": [
              "<Axes: >"
            ]
          },
          "execution_count": 58,
          "metadata": {},
          "output_type": "execute_result"
        },
        {
          "data": {
            "image/png": "[encoded data removed]",
            "text/plain": [
              "<Figure size 640x480 with 1 Axes>"
            ]
          },
          "metadata": {},
          "output_type": "display_data"
        }
      ],
      "source": [
        "# 箱ひげ図\n",
        "\n",
        "scores_df.boxplot()"
      ]
    },
    {
      "cell_type": "code",
      "execution_count": 59,
      "metadata": {
        "colab": {
          "base_uri": "https://localhost:8080/",
          "height": 394
        },
        "id": "Ax_KpMWOa7J0",
        "outputId": "15c0cdb5-ab43-4c17-aab7-efdd17a7bf32"
      },
      "outputs": [
        {
          "data": {
            "text/html": [
              "\n",
              "  <div id=\"df-f8362bb8-b839-44f2-9b37-d00bf5b9e94a\">\n",
              "    <div class=\"colab-df-container\">\n",
              "      <div>\n",
              "<style scoped>\n",
              "    .dataframe tbody tr th:only-of-type {\n",
              "        vertical-align: middle;\n",
              "    }\n",
              "\n",
              "    .dataframe tbody tr th {\n",
              "        vertical-align: top;\n",
              "    }\n",
              "\n",
              "    .dataframe thead th {\n",
              "        text-align: right;\n",
              "    }\n",
              "</style>\n",
              "<table border=\"1\" class=\"dataframe\">\n",
              "  <thead>\n",
              "    <tr style=\"text-align: right;\">\n",
              "      <th></th>\n",
              "      <th>Eng</th>\n",
              "      <th>Math</th>\n",
              "    </tr>\n",
              "    <tr>\n",
              "      <th>name</th>\n",
              "      <th></th>\n",
              "      <th></th>\n",
              "    </tr>\n",
              "  </thead>\n",
              "  <tbody>\n",
              "    <tr>\n",
              "      <th>A</th>\n",
              "      <td>15</td>\n",
              "      <td>44</td>\n",
              "    </tr>\n",
              "    <tr>\n",
              "      <th>B</th>\n",
              "      <td>6</td>\n",
              "      <td>7</td>\n",
              "    </tr>\n",
              "    <tr>\n",
              "      <th>C</th>\n",
              "      <td>22</td>\n",
              "      <td>1</td>\n",
              "    </tr>\n",
              "    <tr>\n",
              "      <th>D</th>\n",
              "      <td>57</td>\n",
              "      <td>17</td>\n",
              "    </tr>\n",
              "    <tr>\n",
              "      <th>E</th>\n",
              "      <td>45</td>\n",
              "      <td>41</td>\n",
              "    </tr>\n",
              "    <tr>\n",
              "      <th>F</th>\n",
              "      <td>22</td>\n",
              "      <td>56</td>\n",
              "    </tr>\n",
              "    <tr>\n",
              "      <th>G</th>\n",
              "      <td>31</td>\n",
              "      <td>10</td>\n",
              "    </tr>\n",
              "    <tr>\n",
              "      <th>H</th>\n",
              "      <td>68</td>\n",
              "      <td>98</td>\n",
              "    </tr>\n",
              "    <tr>\n",
              "      <th>I</th>\n",
              "      <td>39</td>\n",
              "      <td>3</td>\n",
              "    </tr>\n",
              "    <tr>\n",
              "      <th>J</th>\n",
              "      <td>84</td>\n",
              "      <td>63</td>\n",
              "    </tr>\n",
              "  </tbody>\n",
              "</table>\n",
              "</div>\n",
              "      <button class=\"colab-df-convert\" onclick=\"convertToInteractive('df-f8362bb8-b839-44f2-9b37-d00bf5b9e94a')\"\n",
              "              title=\"Convert this dataframe to an interactive table.\"\n",
              "              style=\"display:none;\">\n",
              "        \n",
              "  <svg xmlns=\"http://www.w3.org/2000/svg\" height=\"24px\"viewBox=\"0 0 24 24\"\n",
              "       width=\"24px\">\n",
              "    <path d=\"M0 0h24v24H0V0z\" fill=\"none\"/>\n",
              "    <path d=\"M18.56 5.44l.94 2.06.94-2.06 2.06-.94-2.06-.94-.94-2.06-.94 2.06-2.06.94zm-11 1L8.5 8.5l.94-2.06 2.06-.94-2.06-.94L8.5 2.5l-.94 2.06-2.06.94zm10 10l.94 2.06.94-2.06 2.06-.94-2.06-.94-.94-2.06-.94 2.06-2.06.94z\"/><path d=\"M17.41 7.96l-1.37-1.37c-.4-.4-.92-.59-1.43-.59-.52 0-1.04.2-1.43.59L10.3 9.45l-7.72 7.72c-.78.78-.78 2.05 0 2.83L4 21.41c.39.39.9.59 1.41.59.51 0 1.02-.2 1.41-.59l7.78-7.78 2.81-2.81c.8-.78.8-2.07 0-2.86zM5.41 20L4 18.59l7.72-7.72 1.47 1.35L5.41 20z\"/>\n",
              "  </svg>\n",
              "      </button>\n",
              "      \n",
              "  <style>\n",
              "    .colab-df-container {\n",
              "      display:flex;\n",
              "      flex-wrap:wrap;\n",
              "      gap: 12px;\n",
              "    }\n",
              "\n",
              "    .colab-df-convert {\n",
              "      background-color: #E8F0FE;\n",
              "      border: none;\n",
              "      border-radius: 50%;\n",
              "      cursor: pointer;\n",
              "      display: none;\n",
              "      fill: #1967D2;\n",
              "      height: 32px;\n",
              "      padding: 0 0 0 0;\n",
              "      width: 32px;\n",
              "    }\n",
              "\n",
              "    .colab-df-convert:hover {\n",
              "      background-color: #E2EBFA;\n",
              "      box-shadow: 0px 1px 2px rgba(60, 64, 67, 0.3), 0px 1px 3px 1px rgba(60, 64, 67, 0.15);\n",
              "      fill: #174EA6;\n",
              "    }\n",
              "\n",
              "    [theme=dark] .colab-df-convert {\n",
              "      background-color: #3B4455;\n",
              "      fill: #D2E3FC;\n",
              "    }\n",
              "\n",
              "    [theme=dark] .colab-df-convert:hover {\n",
              "      background-color: #434B5C;\n",
              "      box-shadow: 0px 1px 3px 1px rgba(0, 0, 0, 0.15);\n",
              "      filter: drop-shadow(0px 1px 2px rgba(0, 0, 0, 0.3));\n",
              "      fill: #FFFFFF;\n",
              "    }\n",
              "  </style>\n",
              "\n",
              "      <script>\n",
              "        const buttonEl =\n",
              "          document.querySelector('#df-f8362bb8-b839-44f2-9b37-d00bf5b9e94a button.colab-df-convert');\n",
              "        buttonEl.style.display =\n",
              "          google.colab.kernel.accessAllowed ? 'block' : 'none';\n",
              "\n",
              "        async function convertToInteractive(key) {\n",
              "          const element = document.querySelector('#df-f8362bb8-b839-44f2-9b37-d00bf5b9e94a');\n",
              "          const dataTable =\n",
              "            await google.colab.kernel.invokeFunction('convertToInteractive',\n",
              "                                                     [key], {});\n",
              "          if (!dataTable) return;\n",
              "\n",
              "          const docLinkHtml = 'Like what you see? Visit the ' +\n",
              "            '<a target=\"_blank\" href=https://colab.research.google.com/notebooks/data_table.ipynb>data table notebook</a>'\n",
              "            + ' to learn more about interactive tables.';\n",
              "          element.innerHTML = '';\n",
              "          dataTable['output_type'] = 'display_data';\n",
              "          await google.colab.output.renderOutput(dataTable, element);\n",
              "          const docLink = document.createElement('div');\n",
              "          docLink.innerHTML = docLinkHtml;\n",
              "          element.appendChild(docLink);\n",
              "        }\n",
              "      </script>\n",
              "    </div>\n",
              "  </div>\n",
              "  "
            ],
            "text/plain": [
              "      Eng  Math\n",
              "name           \n",
              "A      15    44\n",
              "B       6     7\n",
              "C      22     1\n",
              "D      57    17\n",
              "E      45    41\n",
              "F      22    56\n",
              "G      31    10\n",
              "H      68    98\n",
              "I      39     3\n",
              "J      84    63"
            ]
          },
          "execution_count": 59,
          "metadata": {},
          "output_type": "execute_result"
        }
      ],
      "source": [
        "# 2次元データの生成\n",
        "\n",
        "np.random.seed(17)\n",
        "en_scores = np.random.randint(100,size=10)\n",
        "ma_scores = np.random.randint(100,size=10)\n",
        "scores_df = pd.DataFrame({'Eng':en_scores, 'Math':ma_scores}, index=pd.Index(['A','B','C','D','E','F','G','H','I','J'], name='name'))\n",
        "scores_df"
      ]
    },
    {
      "cell_type": "code",
      "execution_count": 60,
      "metadata": {
        "colab": {
          "base_uri": "https://localhost:8080/",
          "height": 467
        },
        "id": "kLFM2cVFbAuy",
        "outputId": "a15a9c78-3e89-49ff-f43c-101186766a19"
      },
      "outputs": [
        {
          "data": {
            "text/plain": [
              "<Axes: xlabel='Eng', ylabel='Math'>"
            ]
          },
          "execution_count": 60,
          "metadata": {},
          "output_type": "execute_result"
        },
        {
          "data": {
            "image/png": "[encoded data removed]",
            "text/plain": [
              "<Figure size 640x480 with 1 Axes>"
            ]
          },
          "metadata": {},
          "output_type": "display_data"
        }
      ],
      "source": [
        "# 散布図\n",
        "\n",
        "scores_df.plot.scatter(x='Eng', y='Math')"
      ]
    },
    {
      "cell_type": "code",
      "execution_count": 61,
      "metadata": {
        "colab": {
          "base_uri": "https://localhost:8080/"
        },
        "id": "JA3nb6HNbE_F",
        "outputId": "b528a27d-7f89-4b50-f747-1f004989a94a"
      },
      "outputs": [
        {
          "data": {
            "text/plain": [
              "array([[553.29, 392.7 ],\n",
              "       [392.7 , 921.4 ]])"
            ]
          },
          "execution_count": 61,
          "metadata": {},
          "output_type": "execute_result"
        }
      ],
      "source": [
        "# 共分散行列\n",
        "\n",
        "np.cov(en_scores, ma_scores, ddof=0)"
      ]
    },
    {
      "cell_type": "code",
      "execution_count": 62,
      "metadata": {
        "colab": {
          "base_uri": "https://localhost:8080/",
          "height": 467
        },
        "id": "mFc0FFbdbMSs",
        "outputId": "039630a0-fdfa-4de5-8924-651bc83001fb"
      },
      "outputs": [
        {
          "data": {
            "text/plain": [
              "<matplotlib.collections.PathCollection at 0x7fda419b46a0>"
            ]
          },
          "execution_count": 62,
          "metadata": {},
          "output_type": "execute_result"
        },
        {
          "data": {
            "image/png": "[encoded data removed]",
            "text/plain": [
              "<Figure size 640x480 with 1 Axes>"
            ]
          },
          "metadata": {},
          "output_type": "display_data"
        }
      ],
      "source": [
        "# 回帰直線\n",
        "\n",
        "import matplotlib.pyplot as plt\n",
        "\n",
        "poly1 = np.polynomial.polynomial.polyfit(en_scores, ma_scores, deg=1)\n",
        "\n",
        "plt.xlabel('Eng')\n",
        "plt.ylabel('Math')\n",
        "plt.plot(en_scores, np.polynomial.polynomial.polyval(en_scores, poly1), color='red')\n",
        "plt.scatter(en_scores, ma_scores)"
      ]
    },
    {
      "cell_type": "code",
      "execution_count": 63,
      "metadata": {
        "colab": {
          "base_uri": "https://localhost:8080/",
          "height": 700
        },
        "id": "gXpj0yvSbXc1",
        "outputId": "f30df327-e961-4d9a-eaa9-cc8f544e8ef5"
      },
      "outputs": [
        {
          "data": {
            "text/plain": [
              "<matplotlib.colorbar.Colorbar at 0x7fda41896580>"
            ]
          },
          "execution_count": 63,
          "metadata": {},
          "output_type": "execute_result"
        },
        {
          "data": {
            "image/png": "[encoded data removed]",
            "text/plain": [
              "<Figure size 1000x800 with 2 Axes>"
            ]
          },
          "metadata": {},
          "output_type": "display_data"
        }
      ],
      "source": [
        "# ヒートマップ\n",
        "\n",
        "fig = plt.figure(figsize=(10,8))\n",
        "ax = fig.add_subplot(111)\n",
        "c = ax.hist2d(en_scores, ma_scores, bins=[10,10], range=[(0,100),(0,100)])\n",
        "ax.set_xticks(c[1])\n",
        "ax.set_xticks(c[2])\n",
        "fig.colorbar(c[3], ax=ax)"
      ]
    }
  ],
  "metadata": {
    "colab": {
      "provenance": []
    },
    "kernelspec": {
      "display_name": "Python 3",
      "name": "python3"
    },
    "language_info": {
      "name": "python"
    }
  },
  "nbformat": 4,
  "nbformat_minor": 0
}
