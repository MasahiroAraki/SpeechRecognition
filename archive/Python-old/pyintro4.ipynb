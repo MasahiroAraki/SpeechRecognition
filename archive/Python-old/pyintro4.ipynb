{
  "cells": [
    {
      "cell_type": "markdown",
      "metadata": {
        "id": "3-Tuatoh135v"
      },
      "source": [
        "# 推定と検定\n",
        "\n",
        "- 推定\n",
        "- 検定\n",
        "\n",
        "このテキストは「谷合廣紀著: Pythonで理解する統計解析の基礎」を参考にしています。"
      ]
    },
    {
      "cell_type": "code",
      "execution_count": null,
      "metadata": {
        "id": "z3o65ZQ7caP-"
      },
      "outputs": [],
      "source": [
        "# 必要なimport\n",
        "import numpy as np\n",
        "import matplotlib.pyplot as plt\n",
        "import pandas as pd\n",
        "from scipy import stats"
      ]
    },
    {
      "cell_type": "code",
      "execution_count": null,
      "metadata": {
        "id": "hpEB_CIycadW"
      },
      "outputs": [],
      "source": [
        "# notebookの設定\n",
        "%load_ext google.colab.data_table\n",
        "%precision 3\n",
        "pd.options.display.precision = 3"
      ]
    },
    {
      "cell_type": "markdown",
      "metadata": {
        "id": "pHTXP0tUreK_"
      },
      "source": [
        "架空のデータの作成"
      ]
    },
    {
      "cell_type": "code",
      "execution_count": null,
      "metadata": {
        "id": "vOEdY8MyuaWk"
      },
      "outputs": [],
      "source": [
        "# random seed の指定\n",
        "np.random.seed(3)\n",
        "# 300人分のテストのデータ（仮想的な母集団）の生成\n",
        "all_scores = np.random.normal(60, 10, size=300)"
      ]
    },
    {
      "cell_type": "code",
      "execution_count": null,
      "metadata": {
        "colab": {
          "base_uri": "https://localhost:8080/",
          "height": 502
        },
        "id": "YVRY2FqludEP",
        "outputId": "3943e457-f39f-4dc4-cb7e-827b50bf5630"
      },
      "outputs": [
        {
          "data": {
            "text/plain": [
              "(array([ 4.,  6., 20., 48., 68., 60., 48., 23., 18.,  5.]),\n",
              " array([30.843, 36.57 , 42.298, 48.025, 53.753, 59.481, 65.208, 70.936,\n",
              "        76.664, 82.391, 88.119]),\n",
              " <BarContainer object of 10 artists>)"
            ]
          },
          "execution_count": 8,
          "metadata": {},
          "output_type": "execute_result"
        },
        {
          "data": {
            "image/png": "[encoded data removed]",
            "text/plain": [
              "<Figure size 640x480 with 1 Axes>"
            ]
          },
          "metadata": {},
          "output_type": "display_data"
        }
      ],
      "source": [
        "# ヒストグラムの表示\n",
        "counts, bins = np.histogram(all_scores)\n",
        "plt.hist(bins[:-1], bins, weights=counts)"
      ]
    },
    {
      "cell_type": "code",
      "execution_count": null,
      "metadata": {
        "colab": {
          "base_uri": "https://localhost:8080/"
        },
        "id": "Mvjs3Kpnw0Ru",
        "outputId": "187b6f00-5ffe-43c3-b14d-21967cf1f65a"
      },
      "outputs": [
        {
          "name": "stdout",
          "output_type": "stream",
          "text": [
            "Mean: 60.485\n",
            "Var : 104.52\n"
          ]
        }
      ],
      "source": [
        "# 母平均と母分散\n",
        "print(f'Mean: {np.mean(all_scores):.5}')\n",
        "print(f'Var : {np.var(all_scores):.5}')"
      ]
    },
    {
      "cell_type": "code",
      "execution_count": null,
      "metadata": {
        "colab": {
          "base_uri": "https://localhost:8080/"
        },
        "id": "fAyL9pWBxS5e",
        "outputId": "29be2743-5426-450e-b54e-16fa7c58323a"
      },
      "outputs": [
        {
          "data": {
            "text/plain": [
              "(10000, 20)"
            ]
          },
          "execution_count": 10,
          "metadata": {},
          "output_type": "execute_result"
        }
      ],
      "source": [
        "# 20人分のサンプルを10000組作成\n",
        "n = 20\n",
        "n_samples = 10000\n",
        "samples = np.random.choice(all_scores, (n_samples, n))\n",
        "samples.shape"
      ]
    },
    {
      "cell_type": "markdown",
      "metadata": {
        "id": "OZIDZFqoBFPX"
      },
      "source": [
        "## 推定\n"
      ]
    },
    {
      "cell_type": "markdown",
      "metadata": {
        "id": "jLhdqm_Ux68n"
      },
      "source": [
        "### 点推定"
      ]
    },
    {
      "cell_type": "code",
      "execution_count": null,
      "metadata": {
        "colab": {
          "base_uri": "https://localhost:8080/"
        },
        "id": "ImT0DsoyGMtz",
        "outputId": "e19f52fe-63cb-498c-830f-5d6b0e24fd90"
      },
      "outputs": [
        {
          "name": "stdout",
          "output_type": "stream",
          "text": [
            "62.937\n",
            "56.156\n",
            "62.79\n",
            "60.0\n",
            "62.404\n"
          ]
        }
      ],
      "source": [
        "# 少数のセットで平均の推定値を確認\n",
        "for i in range(5):\n",
        "  print(f'{np.mean(samples[i]):.5}')"
      ]
    },
    {
      "cell_type": "code",
      "execution_count": null,
      "metadata": {
        "colab": {
          "base_uri": "https://localhost:8080/"
        },
        "id": "KqP12V0ix_HF",
        "outputId": "37e8fe08-9ea4-4562-bb60-dff411339890"
      },
      "outputs": [
        {
          "name": "stdout",
          "output_type": "stream",
          "text": [
            "60.505\n"
          ]
        }
      ],
      "source": [
        "# 全セットの標本平均\n",
        "sample_means = np.mean(samples, axis=1)\n",
        "print(f'{np.mean(sample_means):.5}')"
      ]
    },
    {
      "cell_type": "code",
      "execution_count": null,
      "metadata": {
        "colab": {
          "base_uri": "https://localhost:8080/"
        },
        "id": "sMVWLYtAx_Ka",
        "outputId": "ffabfd82-9659-4759-8632-3045aed294a4"
      },
      "outputs": [
        {
          "name": "stdout",
          "output_type": "stream",
          "text": [
            "102.62\n",
            "96.37\n",
            "80.561\n",
            "91.41\n",
            "121.61\n"
          ]
        }
      ],
      "source": [
        "# 少数のセットで分散の推定値を確認\n",
        "for i in range(5):\n",
        "  print(f'{np.var(samples[i]):.5}')"
      ]
    },
    {
      "cell_type": "code",
      "execution_count": null,
      "metadata": {
        "colab": {
          "base_uri": "https://localhost:8080/"
        },
        "id": "E6Ca5npA0CoL",
        "outputId": "980635ae-b94b-429a-beb3-5a75af6146e2"
      },
      "outputs": [
        {
          "name": "stdout",
          "output_type": "stream",
          "text": [
            "99.282\n"
          ]
        }
      ],
      "source": [
        "# 全セットの標本分散\n",
        "sample_vars = np.var(samples, axis=1)\n",
        "print(f'{np.mean(sample_vars):.5}')"
      ]
    },
    {
      "cell_type": "code",
      "execution_count": null,
      "metadata": {
        "colab": {
          "base_uri": "https://localhost:8080/"
        },
        "id": "Eok0GvOu0CwF",
        "outputId": "77f441ac-f79a-4c88-de68-60832df3e667"
      },
      "outputs": [
        {
          "name": "stdout",
          "output_type": "stream",
          "text": [
            "104.51\n"
          ]
        }
      ],
      "source": [
        "# 全セットの不偏分散\n",
        "sample_vars = np.var(samples, axis=1, ddof=1)\n",
        "print(f'{np.mean(sample_vars):.5}')"
      ]
    },
    {
      "cell_type": "markdown",
      "metadata": {
        "id": "IFeR1en0x_am"
      },
      "source": [
        "### 区間推定"
      ]
    },
    {
      "cell_type": "code",
      "execution_count": null,
      "metadata": {
        "colab": {
          "base_uri": "https://localhost:8080/"
        },
        "id": "_SewrWaxyBfq",
        "outputId": "6b6a7f35-468d-46ac-b800-3a46ad93d110"
      },
      "outputs": [
        {
          "name": "stdout",
          "output_type": "stream",
          "text": [
            "[53.65 , 62.611]\n"
          ]
        }
      ],
      "source": [
        "# 20人分のサンプルから平均を区間推定\n",
        "n = 20\n",
        "s_mean = np.mean(np.random.choice(all_scores, n))\n",
        "# 母分散\n",
        "p_var = np.var(all_scores)\n",
        "# 区間推定\n",
        "rv = stats.norm()\n",
        "lcl = s_mean - rv.isf(0.025) * np.sqrt(p_var/n)\n",
        "ucl = s_mean - rv.isf(0.975) * np.sqrt(p_var/n)\n",
        "print(f'[{lcl:.5} , {ucl:.5}]')"
      ]
    },
    {
      "cell_type": "code",
      "execution_count": null,
      "metadata": {
        "colab": {
          "base_uri": "https://localhost:8080/"
        },
        "id": "tJbeiG6U5E0S",
        "outputId": "39ed5744-6505-467b-e1c1-c1e16525ec6a"
      },
      "outputs": [
        {
          "name": "stdout",
          "output_type": "stream",
          "text": [
            "[70.61 , 260.45]\n"
          ]
        }
      ],
      "source": [
        "# 20人分のサンプルから分散を区間推定\n",
        "n = 20\n",
        "u_var = np.var(np.random.choice(all_scores, n), ddof=1)\n",
        "\n",
        "# 区間推定による分散\n",
        "rv = stats.chi2(df=n-1)\n",
        "lcl = (n-1) *  u_var / rv.isf(0.025)\n",
        "ucl = (n-1) *  u_var / rv.isf(0.975)\n",
        "print(f'[{lcl:.5} , {ucl:.5}]')"
      ]
    },
    {
      "cell_type": "code",
      "execution_count": null,
      "metadata": {
        "colab": {
          "base_uri": "https://localhost:8080/"
        },
        "id": "3y9oDqDt6Sob",
        "outputId": "626c6026-2970-484e-91a2-21ec3d06f768"
      },
      "outputs": [
        {
          "name": "stdout",
          "output_type": "stream",
          "text": [
            "[57.227 , 63.156]\n"
          ]
        }
      ],
      "source": [
        "# 20人分のサンプルから母分散未知で平均値を区間推定\n",
        "n = 20\n",
        "scores = np.random.choice(all_scores, n)\n",
        "s_mean = np.mean(scores)\n",
        "s_var = np.var(scores, ddof=1)\n",
        "\n",
        "# 区間推定\n",
        "rv = stats.t(df=n-1)\n",
        "lcl = s_mean - rv.isf(0.025) * np.sqrt(s_var/n)\n",
        "ucl = s_mean - rv.isf(0.975) * np.sqrt(s_var/n)\n",
        "print(f'[{lcl:.5} , {ucl:.5}]')"
      ]
    },
    {
      "cell_type": "markdown",
      "metadata": {
        "id": "EBJfyDhPGNFt"
      },
      "source": [
        "## 検定\n",
        "\n",
        "例題：公称95%の正解率で手書き文字を判別できるというソフトを使って、15人の被験者の正解率を平均したところ 87.6% であった。このような実験結果は偶然に起こりえることかどうか検定を行いたい。"
      ]
    },
    {
      "cell_type": "code",
      "execution_count": null,
      "metadata": {
        "colab": {
          "base_uri": "https://localhost:8080/"
        },
        "id": "lDzSv6qyGNN9",
        "outputId": "893f61a7-5325-4e59-9d9e-23c8bef3ec4f"
      },
      "outputs": [
        {
          "data": {
            "text/plain": [
              "array([0.988, 0.92 , 0.936, 0.666, 0.792, 0.956, 0.994, 0.802, 0.95 ,\n",
              "       0.941, 0.932, 0.851, 0.821, 0.816, 0.772])"
            ]
          },
          "execution_count": 70,
          "metadata": {},
          "output_type": "execute_result"
        }
      ],
      "source": [
        "# 例題のデータを生成\n",
        "np.random.seed(20)\n",
        "scores = np.random.normal(0.9, 0.1, size=15)\n",
        "scores"
      ]
    },
    {
      "cell_type": "code",
      "execution_count": null,
      "metadata": {
        "colab": {
          "base_uri": "https://localhost:8080/"
        },
        "id": "jJxzKALBA-1g",
        "outputId": "43e71234-7342-4601-a8db-663d5edcd78b"
      },
      "outputs": [
        {
          "data": {
            "text/plain": [
              "0.875703725367657"
            ]
          },
          "execution_count": 71,
          "metadata": {},
          "output_type": "execute_result"
        }
      ],
      "source": [
        "# 平均\n",
        "np.mean(scores)"
      ]
    },
    {
      "cell_type": "code",
      "execution_count": null,
      "metadata": {
        "colab": {
          "base_uri": "https://localhost:8080/"
        },
        "id": "jBpFws65A-7o",
        "outputId": "8aaa8a52-244e-4725-9c1d-5aa835672f66"
      },
      "outputs": [
        {
          "data": {
            "text/plain": [
              "0.9075300619724538"
            ]
          },
          "execution_count": 73,
          "metadata": {},
          "output_type": "execute_result"
        }
      ],
      "source": [
        "rv = stats.norm(0.95, np.sqrt(0.01/15))\n",
        "rv.isf(0.95)"
      ]
    },
    {
      "cell_type": "code",
      "execution_count": null,
      "metadata": {
        "colab": {
          "base_uri": "https://localhost:8080/"
        },
        "id": "0ikcsOz5A--p",
        "outputId": "85bf6f0a-72b2-4379-f716-deb1b4a0404b"
      },
      "outputs": [
        {
          "data": {
            "text/plain": [
              "(-3.030321734488883, 0.008994174160339931)"
            ]
          },
          "execution_count": 75,
          "metadata": {},
          "output_type": "execute_result"
        }
      ],
      "source": [
        "t, p = stats.ttest_1samp(scores, 0.95)\n",
        "t, p"
      ]
    },
    {
      "cell_type": "markdown",
      "metadata": {
        "id": "2ayEVVIS0ixS"
      },
      "source": [
        "## 練習問題\n",
        "\n"
      ]
    },
    {
      "cell_type": "markdown",
      "metadata": {
        "id": "D8o0Mplj3QUU"
      },
      "source": [
        "### 練習問題4-1\n",
        "\n",
        "大数の法則を確認するシミュレーションプログラムを書いてください。\n"
      ]
    },
    {
      "cell_type": "markdown",
      "metadata": {
        "id": "EqlvfJIz3QXq"
      },
      "source": [
        "### 練習問題4-2\n",
        "\n",
        "中心極限定理を確認するシミュレーションプログラムを書いてください。"
      ]
    },
    {
      "cell_type": "markdown",
      "metadata": {
        "id": "AODjnzx83Ago"
      },
      "source": [
        "### 練習問題4-3\n",
        "\n",
        "分散の点推定において、サンプル数が大きいときの標本分散と不偏分散の推定値を比較してください。\n"
      ]
    },
    {
      "cell_type": "markdown",
      "metadata": {
        "id": "ChIYR3HZrQM0"
      },
      "source": [
        "### 解答例"
      ]
    },
    {
      "cell_type": "code",
      "execution_count": null,
      "metadata": {
        "colab": {
          "base_uri": "https://localhost:8080/",
          "height": 927
        },
        "id": "eh_y6JCFht_E",
        "outputId": "06b3ec3f-4106-4546-b6c3-f8eb719c39c7"
      },
      "outputs": [
        {
          "data": {
            "image/png": "[encoded data removed]",
            "text/plain": [
              "<Figure size 640x480 with 1 Axes>"
            ]
          },
          "metadata": {},
          "output_type": "display_data"
        },
        {
          "data": {
            "image/png": "[encoded data removed]",
            "text/plain": [
              "<Figure size 640x480 with 1 Axes>"
            ]
          },
          "metadata": {},
          "output_type": "display_data"
        }
      ],
      "source": [
        "# 大数の法則と中心極限定理が成り立つことの検証\n",
        "\n",
        "import numpy as np\n",
        "import matplotlib.pyplot as plt\n",
        "\n",
        "np.random.seed(42)\n",
        "\n",
        "# Population parameters\n",
        "population_mean = 5\n",
        "population_std = 2\n",
        "\n",
        "# Sample sizes\n",
        "sample_sizes = [1, 10, 50, 100, 500, 1000, 2000, 4000]\n",
        "\n",
        "# Number of experiments\n",
        "num_experiments = 1000\n",
        "\n",
        "# Law of Large Numbers\n",
        "lln_means = []\n",
        "\n",
        "for n in sample_sizes:\n",
        "    sample_means = [np.mean(np.random.normal(population_mean, population_std, n)) for _ in range(num_experiments)]\n",
        "    lln_means.append(np.mean(sample_means))\n",
        "\n",
        "plt.plot(sample_sizes, lln_means, marker='o')\n",
        "plt.axhline(population_mean, color='r', linestyle='--', label='Population Mean')\n",
        "plt.xlabel('Sample Size')\n",
        "plt.ylabel('Sample Mean')\n",
        "plt.legend()\n",
        "plt.title('Law of Large Numbers')\n",
        "plt.show()\n",
        "\n",
        "# Central Limit Theorem\n",
        "sample_size_for_clt = 50\n",
        "\n",
        "sample_means_for_clt = [np.mean(np.random.normal(population_mean, population_std, sample_size_for_clt)) for _ in range(num_experiments)]\n",
        "\n",
        "plt.hist(sample_means_for_clt, bins=30, density=True)\n",
        "plt.xlabel('Sample Mean')\n",
        "plt.ylabel('Frequency')\n",
        "plt.title('Central Limit Theorem')\n",
        "plt.show()\n"
      ]
    },
    {
      "cell_type": "code",
      "execution_count": null,
      "metadata": {
        "colab": {
          "base_uri": "https://localhost:8080/"
        },
        "id": "fSxwx--P0i7q",
        "outputId": "dcd8caa6-c6ce-4bef-b162-0336ad7ab2cb"
      },
      "outputs": [
        {
          "name": "stdout",
          "output_type": "stream",
          "text": [
            "103.58\n",
            "104.63\n"
          ]
        }
      ],
      "source": [
        "# 標本分散と不偏分散の平均の差\n",
        "\n",
        "# random seed の指定\n",
        "np.random.seed(3)\n",
        "# 300人分のテストのデータ（仮想的な母集団）の生成\n",
        "all_scores = np.random.normal(60, 10, size=300)\n",
        "\n",
        "# 100人分のサンプルを10000組作成\n",
        "n = 100\n",
        "n_samples = 10000\n",
        "samples = np.random.choice(all_scores, (n_samples, n))\n",
        "\n",
        "# 全セットの標本分散\n",
        "sample_vars = np.var(samples, axis=1)\n",
        "print(f'{np.mean(sample_vars):.5}')\n",
        "\n",
        "# 全セットの不偏分散\n",
        "sample_vars = np.var(samples, axis=1, ddof=1)\n",
        "print(f'{np.mean(sample_vars):.5}')"
      ]
    }
  ],
  "metadata": {
    "colab": {
      "provenance": []
    },
    "kernelspec": {
      "display_name": "Python 3",
      "name": "python3"
    },
    "language_info": {
      "name": "python"
    }
  },
  "nbformat": 4,
  "nbformat_minor": 0
}
