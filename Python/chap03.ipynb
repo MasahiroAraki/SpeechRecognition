{
  "nbformat": 4,
  "nbformat_minor": 0,
  "metadata": {
    "colab": {
      "provenance": []
    },
    "kernelspec": {
      "name": "python3",
      "display_name": "Python 3"
    },
    "language_info": {
      "name": "python"
    }
  },
  "cells": [
    {
      "cell_type": "markdown",
      "metadata": {
        "id": "xzl0Tes9AhZU"
      },
      "source": [
        "<a href=\"https://colab.research.google.com/github/MasahiroAraki/SpeechRecognition/blob/master/Python/chap03.ipynb\" target=\"_parent\"><img src=\"https://colab.research.google.com/assets/colab-badge.svg\" alt=\"Open In Colab\"/></a>\n"
      ]
    },
    {
      "cell_type": "markdown",
      "metadata": {
        "id": "pdStA7S3KLiN"
      },
      "source": [
        "## 例題3.2\n",
        "\n",
        "例題3.1の処理をPythonでコーディングせよ．\n"
      ]
    },
    {
      "cell_type": "markdown",
      "metadata": {
        "id": "GsoYARtwKKoX"
      },
      "source": [
        "データの準備と表示"
      ]
    },
    {
      "cell_type": "code",
      "metadata": {
        "colab": {
          "base_uri": "https://localhost:8080/",
          "height": 283
        },
        "id": "NC1AC3-qKKcB",
        "outputId": "28606525-ceb0-4672-d2d8-cfb8da767932"
      },
      "source": [
        "import numpy as np\n",
        "import matplotlib.pyplot as plt\n",
        "\n",
        "X = np.array([[3,2],[3,4],[5,4],[5,6]])\n",
        "plt.scatter(X[:,0], X[:,1])"
      ],
      "execution_count": null,
      "outputs": [
        {
          "output_type": "execute_result",
          "data": {
            "text/plain": [
              "<matplotlib.collections.PathCollection at 0x7fd4aca17dd0>"
            ]
          },
          "metadata": {},
          "execution_count": 5
        },
        {
          "output_type": "display_data",
          "data": {
            "image/png": "[encoded data removed]",
            "text/plain": [
              "<Figure size 432x288 with 1 Axes>"
            ]
          },
          "metadata": {
            "needs_background": "light"
          }
        }
      ]
    },
    {
      "cell_type": "markdown",
      "metadata": {
        "id": "rZLZ9rJEKoTr"
      },
      "source": [
        "numpyを用いた標準化\n",
        "\n",
        "- マニュアル\n",
        "  - [numpy.mean](https://numpy.org/doc/stable/reference/generated/numpy.mean.html)\n",
        "  - [numpy.std](https://numpy.org/doc/stable/reference/generated/numpy.std.html)"
      ]
    },
    {
      "cell_type": "code",
      "metadata": {
        "id": "B7GCP2gkKKu7"
      },
      "source": [],
      "execution_count": null,
      "outputs": []
    },
    {
      "cell_type": "markdown",
      "metadata": {
        "id": "w2MH-6XJKK2u"
      },
      "source": [
        "標準化後のデータの表示"
      ]
    },
    {
      "cell_type": "code",
      "metadata": {
        "id": "ZDuucNyhHbGO"
      },
      "source": [],
      "execution_count": null,
      "outputs": []
    },
    {
      "cell_type": "markdown",
      "metadata": {
        "id": "l-7Ejh26KwUC"
      },
      "source": [
        "機械学習ライブラリ scikit-learn を利用した標準化のコード\n",
        "\n",
        "- マニュアル\n",
        "  - [StandardScaler](https://scikit-learn.org/stable/modules/generated/sklearn.preprocessing.StandardScaler.html#sklearn.preprocessing.StandardScaler)"
      ]
    },
    {
      "cell_type": "code",
      "metadata": {
        "id": "0e32RmvfHbJR"
      },
      "source": [],
      "execution_count": null,
      "outputs": []
    },
    {
      "cell_type": "markdown",
      "metadata": {
        "id": "N_-el_IoAexL"
      },
      "source": [
        "## 例題3.5\n",
        "\n",
        "例題3.4の処理を Python でコーディングせよ．"
      ]
    },
    {
      "cell_type": "markdown",
      "metadata": {
        "id": "xEW-LVnLLLyp"
      },
      "source": [
        "numpyで標準化後のデータから共分散行列を計算し、その共分散行列の第1固有ベクトルを計算\n",
        "\n",
        "- マニュアル\n",
        "  - [numpy.cov](https://numpy.org/doc/stable/reference/generated/numpy.cov.html)\n",
        "  - [numpy.linalg.eig](https://numpy.org/doc/stable/reference/generated/numpy.linalg.eig.html)"
      ]
    },
    {
      "cell_type": "code",
      "metadata": {
        "id": "cMCEzJMWLKtp"
      },
      "source": [],
      "execution_count": null,
      "outputs": []
    },
    {
      "cell_type": "markdown",
      "metadata": {
        "id": "UxCR7pPtLMmP"
      },
      "source": [
        "第1固有ベクトルを用いた1次元データへの変換"
      ]
    },
    {
      "cell_type": "code",
      "metadata": {
        "id": "3PdDcpANLMvC"
      },
      "source": [],
      "execution_count": null,
      "outputs": []
    },
    {
      "cell_type": "markdown",
      "metadata": {
        "id": "0ZFvtGFrLM17"
      },
      "source": [
        "機械学習ライブラリ scikit-learn を利用した主成分分析のコード\n",
        "\n",
        "- マニュアル\n",
        "  - [PCA](https://scikit-learn.org/stable/modules/generated/sklearn.decomposition.PCA.html)"
      ]
    },
    {
      "cell_type": "code",
      "metadata": {
        "id": "H3DGSNXaLM8d"
      },
      "source": [],
      "execution_count": null,
      "outputs": []
    },
    {
      "cell_type": "markdown",
      "metadata": {
        "id": "T-VbI_zBL0pr"
      },
      "source": [
        "### 解答例\n",
        "\n",
        "[chap03a.ipynb](https://github.com/MasahiroAraki/SpeechRecognition/blob/master/Python/chap03a.ipynb)"
      ]
    }
  ]
}