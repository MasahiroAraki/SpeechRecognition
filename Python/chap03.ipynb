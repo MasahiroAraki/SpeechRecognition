{
  "nbformat": 4,
  "nbformat_minor": 0,
  "metadata": {
    "colab": {
      "provenance": []
    },
    "kernelspec": {
      "name": "python3",
      "display_name": "Python 3"
    },
    "language_info": {
      "name": "python"
    }
  },
  "cells": [
    {
      "cell_type": "markdown",
      "metadata": {
        "id": "xzl0Tes9AhZU"
      },
      "source": [
        "<a href=\"https://colab.research.google.com/github/MasahiroAraki/SpeechRecognition/blob/master/Python/chap03.ipynb\" target=\"_parent\"><img src=\"https://colab.research.google.com/assets/colab-badge.svg\" alt=\"Open In Colab\"/></a>\n"
      ]
    },
    {
      "cell_type": "markdown",
      "metadata": {
        "id": "pdStA7S3KLiN"
      },
      "source": [
        "## 例題3.2\n",
        "\n",
        "例題3.1の処理をPythonでコーディングせよ．\n"
      ]
    },
    {
      "cell_type": "markdown",
      "metadata": {
        "id": "GsoYARtwKKoX"
      },
      "source": [
        "データの準備と表示"
      ]
    },
    {
      "cell_type": "code",
      "metadata": {
        "colab": {
          "base_uri": "https://localhost:8080/",
          "height": 449
        },
        "id": "NC1AC3-qKKcB",
        "outputId": "06b1e6f9-39b2-4ce1-a6f4-06b5dd3d6481"
      },
      "source": [
        "import numpy as np\n",
        "import matplotlib.pyplot as plt\n",
        "\n",
        "X = np.array([[3,2],[3,4],[5,4],[5,6]])\n",
        "plt.scatter(X[:,0], X[:,1])"
      ],
      "execution_count": 2,
      "outputs": [
        {
          "output_type": "execute_result",
          "data": {
            "text/plain": [
              "<matplotlib.collections.PathCollection at 0x7f76d55908e0>"
            ]
          },
          "metadata": {},
          "execution_count": 2
        },
        {
          "output_type": "display_data",
          "data": {
            "text/plain": [
              "<Figure size 640x480 with 1 Axes>"
            ],
            "image/png": "[encoded data removed]"
          },
          "metadata": {}
        }
      ]
    },
    {
      "cell_type": "markdown",
      "metadata": {
        "id": "rZLZ9rJEKoTr"
      },
      "source": [
        "numpyを用いた標準化\n",
        "\n",
        "- マニュアル\n",
        "  - [numpy.mean](https://numpy.org/doc/stable/reference/generated/numpy.mean.html)\n",
        "  - [numpy.std](https://numpy.org/doc/stable/reference/generated/numpy.std.html)"
      ]
    },
    {
      "cell_type": "code",
      "metadata": {
        "id": "B7GCP2gkKKu7"
      },
      "source": [],
      "execution_count": 1,
      "outputs": []
    },
    {
      "cell_type": "markdown",
      "metadata": {
        "id": "w2MH-6XJKK2u"
      },
      "source": [
        "標準化後のデータの表示"
      ]
    },
    {
      "cell_type": "code",
      "metadata": {
        "id": "ZDuucNyhHbGO"
      },
      "source": [],
      "execution_count": 1,
      "outputs": []
    },
    {
      "cell_type": "markdown",
      "metadata": {
        "id": "l-7Ejh26KwUC"
      },
      "source": [
        "機械学習ライブラリ scikit-learn を利用した標準化のコード\n",
        "\n",
        "- マニュアル\n",
        "  - [StandardScaler](https://scikit-learn.org/stable/modules/generated/sklearn.preprocessing.StandardScaler.html#sklearn.preprocessing.StandardScaler)"
      ]
    },
    {
      "cell_type": "code",
      "metadata": {
        "id": "0e32RmvfHbJR"
      },
      "source": [],
      "execution_count": 1,
      "outputs": []
    },
    {
      "cell_type": "markdown",
      "metadata": {
        "id": "N_-el_IoAexL"
      },
      "source": [
        "## 例題3.5\n",
        "\n",
        "例題3.4の処理を Python でコーディングせよ．"
      ]
    },
    {
      "cell_type": "markdown",
      "metadata": {
        "id": "xEW-LVnLLLyp"
      },
      "source": [
        "numpyで標準化後のデータから共分散行列を計算し、その共分散行列の第1固有ベクトルを計算\n",
        "\n",
        "- マニュアル\n",
        "  - [numpy.cov](https://numpy.org/doc/stable/reference/generated/numpy.cov.html)\n",
        "  - [numpy.linalg.eig](https://numpy.org/doc/stable/reference/generated/numpy.linalg.eig.html)"
      ]
    },
    {
      "cell_type": "code",
      "metadata": {
        "id": "cMCEzJMWLKtp"
      },
      "source": [],
      "execution_count": 1,
      "outputs": []
    },
    {
      "cell_type": "markdown",
      "metadata": {
        "id": "UxCR7pPtLMmP"
      },
      "source": [
        "第1固有ベクトルを用いた1次元データへの変換"
      ]
    },
    {
      "cell_type": "code",
      "metadata": {
        "id": "3PdDcpANLMvC"
      },
      "source": [],
      "execution_count": 1,
      "outputs": []
    },
    {
      "cell_type": "markdown",
      "metadata": {
        "id": "0ZFvtGFrLM17"
      },
      "source": [
        "機械学習ライブラリ scikit-learn を利用した主成分分析のコード\n",
        "\n",
        "- マニュアル\n",
        "  - [PCA](https://scikit-learn.org/stable/modules/generated/sklearn.decomposition.PCA.html)"
      ]
    },
    {
      "cell_type": "code",
      "metadata": {
        "id": "H3DGSNXaLM8d"
      },
      "source": [],
      "execution_count": 1,
      "outputs": []
    },
    {
      "cell_type": "markdown",
      "metadata": {
        "id": "T-VbI_zBL0pr"
      },
      "source": [
        "## 解答例\n"
      ]
    },
    {
      "cell_type": "code",
      "source": [
        "# 例題3.2 標準化\n",
        "X_normalized = (X - np.mean(X, axis=0)) / np.std(X, axis=0)  # ndarrayのブロードキャスト\n",
        "X_normalized"
      ],
      "metadata": {
        "colab": {
          "base_uri": "https://localhost:8080/"
        },
        "id": "a-a18hJ1NQkL",
        "outputId": "8eb7a9eb-e2c7-49c1-cc1d-5e65b46f453e"
      },
      "execution_count": 3,
      "outputs": [
        {
          "output_type": "execute_result",
          "data": {
            "text/plain": [
              "array([[-1.        , -1.41421356],\n",
              "       [-1.        ,  0.        ],\n",
              "       [ 1.        ,  0.        ],\n",
              "       [ 1.        ,  1.41421356]])"
            ]
          },
          "metadata": {},
          "execution_count": 3
        }
      ]
    },
    {
      "cell_type": "code",
      "source": [
        "# 例題3.2 表示\n",
        "plt.scatter(X_normalized[:,0], X_normalized[:,1])"
      ],
      "metadata": {
        "colab": {
          "base_uri": "https://localhost:8080/",
          "height": 449
        },
        "id": "bvySVjPTNSL3",
        "outputId": "0708fa0a-5361-4c77-f3a4-679a6b5133c9"
      },
      "execution_count": 4,
      "outputs": [
        {
          "output_type": "execute_result",
          "data": {
            "text/plain": [
              "<matplotlib.collections.PathCollection at 0x7f76d54196f0>"
            ]
          },
          "metadata": {},
          "execution_count": 4
        },
        {
          "output_type": "display_data",
          "data": {
            "text/plain": [
              "<Figure size 640x480 with 1 Axes>"
            ],
            "image/png": "[encoded data removed]"
          },
          "metadata": {}
        }
      ]
    },
    {
      "cell_type": "code",
      "source": [
        "# 例題3.2 StandardScalerを使ったコード\n",
        "from sklearn.preprocessing import StandardScaler\n",
        "\n",
        "scaler = StandardScaler()\n",
        "X2_normalized = scaler.fit_transform(X)\n",
        "X2_normalized"
      ],
      "metadata": {
        "colab": {
          "base_uri": "https://localhost:8080/"
        },
        "id": "ykZ520fLNSOj",
        "outputId": "01da3a2b-037d-45f2-e1f3-af2f4e05da9a"
      },
      "execution_count": 6,
      "outputs": [
        {
          "output_type": "execute_result",
          "data": {
            "text/plain": [
              "array([[-1.        , -1.41421356],\n",
              "       [-1.        ,  0.        ],\n",
              "       [ 1.        ,  0.        ],\n",
              "       [ 1.        ,  1.41421356]])"
            ]
          },
          "metadata": {},
          "execution_count": 6
        }
      ]
    },
    {
      "cell_type": "code",
      "source": [
        "#例題3.5 第1固有ベクトルを計算\n",
        "\n",
        "S = np.cov(X_normalized, rowvar=False, bias=True) # 共分散行列の計算 rowvar:データの並ぶ方向 bias:標本分散 \n",
        "eig_val, eig_vec = np.linalg.eig(S)  #固有値と固有ベクトルの計算\n",
        "A = eig_vec[:,0]  # 第1固有ベクトル\n",
        "A"
      ],
      "metadata": {
        "colab": {
          "base_uri": "https://localhost:8080/"
        },
        "id": "IIZLatd8NSSY",
        "outputId": "3775eb6d-fb44-40bc-833f-57a18c5ad5e5"
      },
      "execution_count": 7,
      "outputs": [
        {
          "output_type": "execute_result",
          "data": {
            "text/plain": [
              "array([0.70710678, 0.70710678])"
            ]
          },
          "metadata": {},
          "execution_count": 7
        }
      ]
    },
    {
      "cell_type": "code",
      "source": [
        "#例題3.5 第1固有ベクトルを用いた1次元データへの変換\n",
        "X1 = X_normalized @ A\n",
        "X2 = X1 / np.std(X1)\n",
        "X2"
      ],
      "metadata": {
        "colab": {
          "base_uri": "https://localhost:8080/"
        },
        "id": "ns80TyzLOC5m",
        "outputId": "ef64985f-2d53-4492-d530-f7fa650da278"
      },
      "execution_count": 8,
      "outputs": [
        {
          "output_type": "execute_result",
          "data": {
            "text/plain": [
              "array([-1.30656296, -0.5411961 ,  0.5411961 ,  1.30656296])"
            ]
          },
          "metadata": {},
          "execution_count": 8
        }
      ]
    },
    {
      "cell_type": "code",
      "source": [
        "#例題3.5 PCAを使ったコード\n",
        "from sklearn.decomposition import PCA\n",
        "\n",
        "pca = PCA(n_components=1)\n",
        "X1 = pca.fit_transform(X_normalized)\n",
        "X2 = X1[:,0] / np.std(X1)\n",
        "X2"
      ],
      "metadata": {
        "colab": {
          "base_uri": "https://localhost:8080/"
        },
        "id": "wzxizAGVOPCc",
        "outputId": "6dc31279-8ed7-415d-be73-5ac3c151e2cc"
      },
      "execution_count": 9,
      "outputs": [
        {
          "output_type": "execute_result",
          "data": {
            "text/plain": [
              "array([-1.30656296, -0.5411961 ,  0.5411961 ,  1.30656296])"
            ]
          },
          "metadata": {},
          "execution_count": 9
        }
      ]
    }
  ]
}