{
  "cells": [
    {
      "cell_type": "markdown",
      "metadata": {
        "id": "dNGRugaooWTh"
      },
      "source": [
        "<a href=\"https://colab.research.google.com/github/MasahiroAraki/SpeechRecognition/blob/master/Python/chap06.ipynb\" target=\"_parent\"><img src=\"https://colab.research.google.com/assets/colab-badge.svg\" alt=\"Open In Colab\"/></a>"
      ]
    },
    {
      "cell_type": "markdown",
      "metadata": {
        "id": "F-3MMJjm_oKV"
      },
      "source": [
        "# 6 限界は破れるか（１）－  サポートベクトルマシン  －."
      ]
    },
    {
      "cell_type": "code",
      "execution_count": null,
      "metadata": {
        "colab": {
          "base_uri": "https://localhost:8080/"
        },
        "id": "6rFiVAXrzanT",
        "outputId": "dbd41eca-f74a-44ea-80e9-2f16cf38d615"
      },
      "outputs": [
        {
          "name": "stdout",
          "output_type": "stream",
          "text": [
            "Looking in indexes: https://pypi.org/simple, https://us-python.pkg.dev/colab-wheels/public/simple/\n",
            "Requirement already satisfied: mlxtend in /usr/local/lib/python3.10/dist-packages (0.22.0)\n",
            "Requirement already satisfied: scipy>=1.2.1 in /usr/local/lib/python3.10/dist-packages (from mlxtend) (1.10.1)\n",
            "Requirement already satisfied: numpy>=1.16.2 in /usr/local/lib/python3.10/dist-packages (from mlxtend) (1.22.4)\n",
            "Requirement already satisfied: pandas>=0.24.2 in /usr/local/lib/python3.10/dist-packages (from mlxtend) (1.5.3)\n",
            "Requirement already satisfied: scikit-learn>=1.0.2 in /usr/local/lib/python3.10/dist-packages (from mlxtend) (1.2.2)\n",
            "Requirement already satisfied: matplotlib>=3.0.0 in /usr/local/lib/python3.10/dist-packages (from mlxtend) (3.7.1)\n",
            "Requirement already satisfied: joblib>=0.13.2 in /usr/local/lib/python3.10/dist-packages (from mlxtend) (1.2.0)\n",
            "Requirement already satisfied: setuptools in /usr/local/lib/python3.10/dist-packages (from mlxtend) (67.7.2)\n",
            "Requirement already satisfied: contourpy>=1.0.1 in /usr/local/lib/python3.10/dist-packages (from matplotlib>=3.0.0->mlxtend) (1.0.7)\n",
            "Requirement already satisfied: cycler>=0.10 in /usr/local/lib/python3.10/dist-packages (from matplotlib>=3.0.0->mlxtend) (0.11.0)\n",
            "Requirement already satisfied: fonttools>=4.22.0 in /usr/local/lib/python3.10/dist-packages (from matplotlib>=3.0.0->mlxtend) (4.39.3)\n",
            "Requirement already satisfied: kiwisolver>=1.0.1 in /usr/local/lib/python3.10/dist-packages (from matplotlib>=3.0.0->mlxtend) (1.4.4)\n",
            "Requirement already satisfied: packaging>=20.0 in /usr/local/lib/python3.10/dist-packages (from matplotlib>=3.0.0->mlxtend) (23.1)\n",
            "Requirement already satisfied: pillow>=6.2.0 in /usr/local/lib/python3.10/dist-packages (from matplotlib>=3.0.0->mlxtend) (8.4.0)\n",
            "Requirement already satisfied: pyparsing>=2.3.1 in /usr/local/lib/python3.10/dist-packages (from matplotlib>=3.0.0->mlxtend) (3.0.9)\n",
            "Requirement already satisfied: python-dateutil>=2.7 in /usr/local/lib/python3.10/dist-packages (from matplotlib>=3.0.0->mlxtend) (2.8.2)\n",
            "Requirement already satisfied: pytz>=2020.1 in /usr/local/lib/python3.10/dist-packages (from pandas>=0.24.2->mlxtend) (2022.7.1)\n",
            "Requirement already satisfied: threadpoolctl>=2.0.0 in /usr/local/lib/python3.10/dist-packages (from scikit-learn>=1.0.2->mlxtend) (3.1.0)\n",
            "Requirement already satisfied: six>=1.5 in /usr/local/lib/python3.10/dist-packages (from python-dateutil>=2.7->matplotlib>=3.0.0->mlxtend) (1.16.0)\n"
          ]
        }
      ],
      "source": [
        "!pip install -U mlxtend"
      ]
    },
    {
      "cell_type": "markdown",
      "metadata": {
        "id": "GF6UBbodIM9Q"
      },
      "source": [
        "## ラグランジュの未定乗数法の例\n",
        "\n",
        "### 目的関数が2次関数で制約が1次式の最小化問題\n",
        "\n",
        "* 目的関数：$f(x, y) = x^2 + y^2$\n",
        "* 制約条件：$g(x, y) = x + y = 1$\n",
        "\n",
        "\n",
        "まず、ラグランジュ関数 $L(x, y, λ)$ を次のように定義します。\n",
        "\n",
        "$L(x, y, λ) = f(x, y) - λ * g(x, y) = x^2 + y^2 - λ * (x + y - 1)$\n",
        "\n",
        "目的関数と制約条件を含んだラグランジュ関数を最小化するために、以下の方程式を解きます。\n",
        "\n",
        "$∂L/∂x = 2x - λ = 0 $\n",
        "$∂L/∂y = 2y - λ = 0 $\n",
        "$∂L/∂λ = x + y - 1 = 0 $\n",
        "\n",
        "これらを解くと、$x = y = 1/2$となるので、目的関数 $f(x, y) = x^2 + y^2$ の制約条件 $g(x, y) = x + y = 1$ の下での最小値は、$x = 1/2、y = 1/2$ のとき、$f(x, y) = (1/2)^2 + (1/2)^2 = 1/4 + 1/4 = 1/2$ です。\n",
        "\n"
      ]
    },
    {
      "cell_type": "code",
      "execution_count": null,
      "metadata": {
        "colab": {
          "base_uri": "https://localhost:8080/"
        },
        "id": "SrpqkguhDpSE",
        "outputId": "32f7ef9a-0327-49de-b42e-18f7ce3d65b1"
      },
      "outputs": [
        {
          "name": "stdout",
          "output_type": "stream",
          "text": [
            "最適解: [0.5 0.5]\n",
            "最小値: 0.4999999999999998\n"
          ]
        }
      ],
      "source": [
        "import numpy as np\n",
        "from scipy.optimize import minimize\n",
        "\n",
        "# 目的関数\n",
        "def f(x):\n",
        "    return x[0]**2 + x[1]**2\n",
        "\n",
        "# 制約式\n",
        "cons = ({'type': 'eq', 'fun': lambda x:  x[0] + x[1] - 1})\n",
        "\n",
        "# 初期値\n",
        "x0 = np.array([0.1, 0.1])\n",
        "\n",
        "# 最適化\n",
        "res = minimize(f, x0, constraints=cons)\n",
        "\n",
        "print(\"最適解:\", res.x)\n",
        "print(\"最小値:\", res.fun)\n"
      ]
    },
    {
      "cell_type": "markdown",
      "metadata": {
        "id": "4EuxkmpjLdXY"
      },
      "source": [
        "## 例題6.1\n",
        "\n",
        "線形分離可能なデータに対して、線形SVMでマージン最大の識別面を求めよ。"
      ]
    },
    {
      "cell_type": "markdown",
      "metadata": {
        "id": "iTON6qy7fn7E"
      },
      "source": [
        "データの準備と表示\n",
        "\n",
        "教科書のクラス1,2をこのNotebookではそれぞれクラス0,1と読み替えます。それぞれに対応するSVM用の正解ラベルは1,-1です。"
      ]
    },
    {
      "cell_type": "code",
      "execution_count": null,
      "metadata": {
        "colab": {
          "base_uri": "https://localhost:8080/",
          "height": 449
        },
        "id": "_tPamDpQyLQD",
        "outputId": "8654396f-a786-412c-8ada-e565eda49ccc"
      },
      "outputs": [
        {
          "data": {
            "text/plain": [
              "<matplotlib.legend.Legend at 0x7f9ab0f9e260>"
            ]
          },
          "execution_count": 3,
          "metadata": {},
          "output_type": "execute_result"
        },
        {
          "data": {
            "image/png": "[encoded data removed]",
            "text/plain": [
              "<Figure size 640x480 with 1 Axes>"
            ]
          },
          "metadata": {},
          "output_type": "display_data"
        }
      ],
      "source": [
        "import numpy as np\n",
        "import matplotlib.pyplot as plt\n",
        "from mlxtend.plotting import plot_decision_regions\n",
        "\n",
        "X = np.array([[1.0, 2.0], [1.0, 4.0], [2.0, 4.0], [2.0, 1.0], [5.0, 1.0], [4.0, 2.0]])\n",
        "y = np.array([1, 1, 1, -1, -1, -1])\n",
        "plt.grid()\n",
        "plt.scatter(X[:, 0][y==1], X[:, 1][y==1], c='red', marker='^', label='class0')\n",
        "plt.scatter(X[:, 0][y==-1], X[:, 1][y==-1], c='blue', marker='s', label='class1')\n",
        "plt.legend(loc='upper right')"
      ]
    },
    {
      "cell_type": "markdown",
      "metadata": {
        "id": "teSBETSOI8lE"
      },
      "source": [
        "線形分離可能なデータに対するSVMの学習"
      ]
    },
    {
      "cell_type": "code",
      "execution_count": null,
      "metadata": {
        "colab": {
          "base_uri": "https://localhost:8080/"
        },
        "id": "4rrd6hRrI8s_",
        "outputId": "0bc14537-08db-4441-deec-95256c90902a"
      },
      "outputs": [
        {
          "name": "stdout",
          "output_type": "stream",
          "text": [
            "w =  [-1.00000001  0.99999999]\n",
            "b =  1.6255811141618925e-08\n"
          ]
        }
      ],
      "source": [
        "import numpy as np\n",
        "from scipy.optimize import minimize\n",
        "\n",
        "X = np.array([[1.0, 2.0], [1.0, 4.0], [2.0, 4.0], [2.0, 1.0], [5.0, 1.0], [4.0, 2.0]])\n",
        "y = np.array([1, 1, 1, -1, -1, -1])\n",
        "\n",
        "# パラメータの初期値\n",
        "init_params = np.zeros(X.shape[1] + 1)\n",
        "\n",
        "# 目的関数（ここではL2ノルムを最小化する）\n",
        "def objective(params):\n",
        "    w = params[:-1]\n",
        "    return np.sum(w**2)\n",
        "\n",
        "# 制約条件（全てのデータポイントが正しく分類されていることを保証する）\n",
        "def constraint(params):\n",
        "    w = params[:-1]\n",
        "    b = params[-1]\n",
        "    return y * (np.dot(X, w) + b) - 1\n",
        "\n",
        "cons = ({'type': 'ineq', 'fun': constraint})\n",
        "\n",
        "# 最適化問題を解く\n",
        "solution = minimize(objective, init_params, constraints=cons)\n",
        "\n",
        "# 最適なパラメータを取得する\n",
        "optimal_params = solution.x\n",
        "w = optimal_params[:-1]\n",
        "b = optimal_params[-1]\n",
        "\n",
        "print(\"w = \", w)\n",
        "print(\"b = \", b)"
      ]
    },
    {
      "cell_type": "markdown",
      "metadata": {
        "id": "p5iynU439qVa"
      },
      "source": [
        "scikit-learnの[SVC](https://scikit-learn.org/stable/modules/generated/sklearn.svm.SVC.html)でコーディング"
      ]
    },
    {
      "cell_type": "markdown",
      "metadata": {
        "id": "40ICmWPtyFUH"
      },
      "source": [
        "課題：線形SVCでマージン最大の識別面を求めよ。"
      ]
    },
    {
      "cell_type": "code",
      "execution_count": null,
      "metadata": {
        "id": "xoEY0Q28054t"
      },
      "outputs": [],
      "source": []
    },
    {
      "cell_type": "markdown",
      "metadata": {
        "id": "nQ7b9UBgyFUH"
      },
      "source": [
        "課題：学習された識別面の係数を表示し、マージン最大である$x_1 = x_2$という識別面になっていることを確認せよ。"
      ]
    },
    {
      "cell_type": "code",
      "execution_count": null,
      "metadata": {
        "id": "KawiwZjU08J6"
      },
      "outputs": [],
      "source": []
    },
    {
      "cell_type": "markdown",
      "metadata": {
        "id": "iSoiGRPLyFUI"
      },
      "source": [
        "## 例題6.2\n",
        "\n",
        "線形分離不可能なデータに対するSVMの学習をscikit-learnのSVCでコーディングせよ．"
      ]
    },
    {
      "cell_type": "code",
      "execution_count": null,
      "metadata": {
        "colab": {
          "base_uri": "https://localhost:8080/",
          "height": 449
        },
        "id": "loSy4Y6N0vjd",
        "outputId": "9b67d6d8-670a-4201-8da5-0772a8e54695"
      },
      "outputs": [
        {
          "data": {
            "text/plain": [
              "<matplotlib.legend.Legend at 0x7f9ab104d570>"
            ]
          },
          "execution_count": 5,
          "metadata": {},
          "output_type": "execute_result"
        },
        {
          "data": {
            "image/png": "[encoded data removed]",
            "text/plain": [
              "<Figure size 640x480 with 1 Axes>"
            ]
          },
          "metadata": {},
          "output_type": "display_data"
        }
      ],
      "source": [
        "import numpy as np\n",
        "import matplotlib.pyplot as plt\n",
        "\n",
        "X = np.array([[1.0, 4.0], [2.0, 3.0], [4.0, 3.0], [5.0, 4.0], [2.0, 1.0], [3.0, 2.0], [3.0, 3.0], [4.0, 1.0]])\n",
        "y = np.array([1, 1, 1, 1, -1, -1, -1, -1])\n",
        "plt.grid()\n",
        "plt.scatter(X[:, 0][y==1], X[:, 1][y==1], c='red', marker='^', label='class0')\n",
        "plt.scatter(X[:, 0][y==-1], X[:, 1][y==-1], c='blue', marker='s', label='class1')\n",
        "plt.legend(loc='upper center')"
      ]
    },
    {
      "cell_type": "markdown",
      "metadata": {
        "id": "w5uuLWGtbx4z"
      },
      "source": [
        "課題：多項式カーネルを用いて識別面を求めよ。カーネルの次数は適切なものを選択すること。"
      ]
    },
    {
      "cell_type": "code",
      "execution_count": null,
      "metadata": {
        "id": "LStd8YHt0x5D"
      },
      "outputs": [],
      "source": []
    },
    {
      "cell_type": "markdown",
      "metadata": {
        "id": "e9Y6OObwyFUJ"
      },
      "source": [
        "課題：RBFカーネルを用いて識別面を求めよ。gammaの値は[マニュアル](https://scikit-learn.org/stable/auto_examples/svm/plot_rbf_parameters.html)を読んだ上で適切なものを選択すること。"
      ]
    },
    {
      "cell_type": "code",
      "execution_count": null,
      "metadata": {
        "id": "y5RUJr6t2Gis"
      },
      "outputs": [],
      "source": []
    },
    {
      "cell_type": "markdown",
      "metadata": {
        "id": "FXwgimPyzEr8"
      },
      "source": [
        "# 解答例"
      ]
    },
    {
      "cell_type": "markdown",
      "metadata": {
        "id": "vhKVSVK6zE5i"
      },
      "source": [
        "例題6.1"
      ]
    },
    {
      "cell_type": "code",
      "execution_count": null,
      "metadata": {
        "id": "f2CEjZewzFDr"
      },
      "outputs": [],
      "source": [
        "from sklearn.svm import SVC\n",
        "from mlxtend.plotting import plot_decision_regions\n",
        "\n",
        "clf = SVC(kernel='linear')\n",
        "clf.fit(X,y)\n",
        "plot_decision_regions(X=X, y=y, clf=clf, legend=2)"
      ]
    },
    {
      "cell_type": "code",
      "execution_count": null,
      "metadata": {
        "id": "ISJGMB_FzVB8"
      },
      "outputs": [],
      "source": [
        "print(clf.coef_)\n",
        "print(clf.intercept_)"
      ]
    },
    {
      "cell_type": "markdown",
      "metadata": {
        "id": "2th_JO10zFOb"
      },
      "source": [
        "例題6.2"
      ]
    },
    {
      "cell_type": "code",
      "execution_count": null,
      "metadata": {
        "id": "imC1RznwzFVb"
      },
      "outputs": [],
      "source": [
        "from sklearn.svm import SVC\n",
        "from mlxtend.plotting import plot_decision_regions\n",
        "\n",
        "clf = SVC(kernel='poly', degree=4)\n",
        "clf.fit(X,y)\n",
        "plot_decision_regions(X=X, y=y, clf=clf, legend=2)"
      ]
    },
    {
      "cell_type": "code",
      "execution_count": null,
      "metadata": {
        "id": "2cYZuSI31Gzb"
      },
      "outputs": [],
      "source": [
        "clf = SVC(kernel='rbf', gamma=0.5)\n",
        "clf.fit(X,y)\n",
        "plot_decision_regions(X=X, y=y, clf=clf, legend=2)"
      ]
    },
    {
      "cell_type": "markdown",
      "metadata": {
        "id": "ibplRCyQZiba"
      },
      "source": [
        "## 参考\n",
        "\n",
        "2次計画法ソルバー [cvxopt](https://cvxopt.org/) を使ったコード\n",
        "\n",
        "* cvxopt の最適化ソルバー [solver.qp](https://cvxopt.org/userguide/coneprog.html#cvxopt.solvers.qp)では、最小化する目的関数と制約条件を行列形式で表現します。\n",
        "* Pは目的関数の行列形式、qは線形項、Gとhは制約条件の不等式の行列形式、Aとbは制約条件の等式の行列形式を表しています。\n",
        "  $$\n",
        "  \\begin{align*}\n",
        "  minimize &~~~&  (1/2) \\mathbf{\\alpha}^T P  \\mathbf{\\alpha} + q^T  \\mathbf{\\alpha}\\\\\n",
        "  subject~ to & & G \\mathbf{\\alpha} \\leq h \\\\\n",
        "  & & A \\mathbf{\\alpha}=b\n",
        "  \\end{align*}\n",
        "  $$\n",
        "* サポートベクターのインデックスを取得するために、閾値 1e-5 を使用しています。"
      ]
    },
    {
      "cell_type": "code",
      "execution_count": 1,
      "metadata": {
        "colab": {
          "base_uri": "https://localhost:8080/"
        },
        "id": "Vdrsmme1Zij-",
        "outputId": "2790fd35-cdd8-4107-8eb1-1b362201af8e"
      },
      "outputs": [
        {
          "output_type": "stream",
          "name": "stdout",
          "text": [
            "     pcost       dcost       gap    pres   dres\n",
            " 0: -1.2753e+00 -2.4920e+00  1e+01  3e+00  2e+00\n",
            " 1: -1.4848e+00 -1.7842e+00  2e+00  5e-01  3e-01\n",
            " 2: -9.2315e-01 -1.1119e+00  2e-01  2e-16  2e-15\n",
            " 3: -9.9844e-01 -1.0012e+00  3e-03  1e-16  8e-16\n",
            " 4: -9.9998e-01 -1.0000e+00  3e-05  2e-16  9e-16\n",
            " 5: -1.0000e+00 -1.0000e+00  3e-07  2e-16  7e-16\n",
            "Optimal solution found.\n",
            "識別面のパラメータ (w): [-1.00000007  1.00000006]\n",
            "識別面の切片 (b): 1.30444132162566e-08\n"
          ]
        }
      ],
      "source": [
        "import numpy as np\n",
        "from cvxopt import matrix, solvers\n",
        "\n",
        "X = np.array([[1.0, 2.0], [1.0, 4.0], [2.0, 4.0], [2.0, 1.0], [5.0, 1.0], [4.0, 2.0]])\n",
        "y = np.array([1, 1, 1, -1, -1, -1])\n",
        "\n",
        "# 最適化問題の定義\n",
        "P = matrix(np.outer(y, y) * np.dot(X, X.T))\n",
        "q = matrix(-np.ones(len(X)))\n",
        "G = matrix(-np.eye(len(X)))\n",
        "h = matrix(np.zeros(len(X)))\n",
        "\n",
        "# 最適化問題の解法\n",
        "sol = solvers.qp(P, q, G, h)\n",
        "\n",
        "# 解の取得\n",
        "alpha = np.array(sol['x'])\n",
        "w = np.sum(alpha * y[:, None] * X, axis=0)\n",
        "\n",
        "# サポートベクターのインデックスの取得\n",
        "sv_indices = np.where(alpha > 1e-5)[0]\n",
        "\n",
        "# 切片の計算\n",
        "b = np.mean(y[sv_indices] - np.dot(X[sv_indices], w))\n",
        "\n",
        "# 結果の表示\n",
        "print('識別面のパラメータ (w):', w)\n",
        "print('識別面の切片 (b):', b)"
      ]
    },
    {
      "cell_type": "code",
      "source": [],
      "metadata": {
        "id": "AEiHeDLrIc3R"
      },
      "execution_count": null,
      "outputs": []
    }
  ],
  "metadata": {
    "colab": {
      "provenance": []
    },
    "kernelspec": {
      "display_name": "Python 3",
      "name": "python3"
    },
    "language_info": {
      "name": "python"
    }
  },
  "nbformat": 4,
  "nbformat_minor": 0
}