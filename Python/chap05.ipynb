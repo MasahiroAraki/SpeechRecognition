{
  "nbformat": 4,
  "nbformat_minor": 0,
  "metadata": {
    "colab": {
      "provenance": []
    },
    "kernelspec": {
      "name": "python3",
      "display_name": "Python 3"
    },
    "language_info": {
      "name": "python"
    }
  },
  "cells": [
    {
      "cell_type": "markdown",
      "metadata": {
        "id": "dNGRugaooWTh"
      },
      "source": [
        "<a href=\"https://colab.research.google.com/github/MasahiroAraki/SpeechRecognition/blob/master/Python/chap05.ipynb\" target=\"_parent\"><img src=\"https://colab.research.google.com/assets/colab-badge.svg\" alt=\"Open In Colab\"/></a>"
      ]
    },
    {
      "cell_type": "markdown",
      "source": [
        "# 誤差をできるだけ小さくしよう"
      ],
      "metadata": {
        "id": "VayqcdNiOxrN"
      }
    },
    {
      "cell_type": "markdown",
      "metadata": {
        "id": "4EuxkmpjLdXY"
      },
      "source": [
        "## 例題5.1\n",
        "\n",
        "最小二乗法の解析的手法をPythonでコーディングせよ．"
      ]
    },
    {
      "cell_type": "markdown",
      "metadata": {
        "id": "9tQZcFL94ipi"
      },
      "source": [
        "* 使用する関数\n",
        "  * [numpy.linalg.inv](https://numpy.org/doc/stable/reference/generated/numpy.linalg.inv.html): 逆行列を求める"
      ]
    },
    {
      "cell_type": "markdown",
      "metadata": {
        "id": "iTON6qy7fn7E"
      },
      "source": [
        "線形分離不可能なデータの準備と表示"
      ]
    },
    {
      "cell_type": "code",
      "metadata": {
        "colab": {
          "base_uri": "https://localhost:8080/",
          "height": 430
        },
        "id": "noZlYto46ReE",
        "outputId": "07b61e94-003e-4cf3-dd9a-c26faa7f824a"
      },
      "source": [
        "import numpy as np\n",
        "import matplotlib.pyplot as plt\n",
        "\n",
        "X = np.array([[1.0], [0.5], [-0.2], [-0.4], [-1.3], [-2.0]])\n",
        "y = np.array([1, 1, 0, 1, 0, 0])\n",
        "plt.grid()\n",
        "plt.scatter(X[y==1], np.zeros(len(X[y==1])), c='blue', label='class1')\n",
        "plt.scatter(X[y==0], np.zeros(len(X[y==0])), c='red',  label='class2')\n",
        "plt.tick_params(labelleft=False)\n",
        "plt.legend(loc='upper right')\n",
        "plt.show()"
      ],
      "execution_count": null,
      "outputs": [
        {
          "output_type": "display_data",
          "data": {
            "text/plain": [
              "<Figure size 640x480 with 1 Axes>"
            ],
            "image/png": "[encoded data removed]"
          },
          "metadata": {}
        }
      ]
    },
    {
      "cell_type": "markdown",
      "metadata": {
        "id": "w5uuLWGtbx4z"
      },
      "source": [
        "学習の設定"
      ]
    },
    {
      "cell_type": "code",
      "metadata": {
        "colab": {
          "base_uri": "https://localhost:8080/"
        },
        "id": "eEmY6OJ96T78",
        "outputId": "78396251-4aa2-48fb-d366-b87e20399e15"
      },
      "source": [
        "(n, d) = X.shape\n",
        "X2 = np.concatenate((np.ones((n, 1)), X), axis=1)\n",
        "print(X2)"
      ],
      "execution_count": null,
      "outputs": [
        {
          "output_type": "stream",
          "name": "stdout",
          "text": [
            "[[ 1.   1. ]\n",
            " [ 1.   0.5]\n",
            " [ 1.  -0.2]\n",
            " [ 1.  -0.4]\n",
            " [ 1.  -1.3]\n",
            " [ 1.  -2. ]]\n"
          ]
        }
      ]
    },
    {
      "cell_type": "markdown",
      "metadata": {
        "id": "rqjowi-ggNIw"
      },
      "source": [
        "解析的手法による解法のコードを記述せよ。"
      ]
    },
    {
      "cell_type": "code",
      "metadata": {
        "id": "ODU8bopM6XyT"
      },
      "source": [],
      "execution_count": null,
      "outputs": []
    },
    {
      "cell_type": "markdown",
      "metadata": {
        "id": "vj9iL2dY4ipl"
      },
      "source": [
        "最小二乗法を実行する関数 [numpy.linalg.lstsq](https://numpy.org/doc/stable/reference/generated/numpy.linalg.lstsq.html) を用いた別解を記述せよ。"
      ]
    },
    {
      "cell_type": "code",
      "metadata": {
        "id": "ZNQ6cbSc6YW0"
      },
      "source": [],
      "execution_count": null,
      "outputs": []
    },
    {
      "cell_type": "markdown",
      "metadata": {
        "id": "3uNCdHcAOxCX"
      },
      "source": [
        "## 例題5.3\n",
        "\n",
        "Widrow-Hoffの学習規則を Python でコーディングし、例題5.1 とほぼ同じ結果が得られていることを確認せよ。"
      ]
    },
    {
      "cell_type": "markdown",
      "metadata": {
        "id": "tDA_yQ804ipm"
      },
      "source": [
        "* 使用する関数\n",
        "  * [numpy.sum](https://numpy.org/doc/stable/reference/generated/numpy.sum.html) 要素の和\n",
        "  * [numpy.abs](https://numpy.org/doc/stable/reference/generated/numpy.absolute.html) 絶対値"
      ]
    },
    {
      "cell_type": "markdown",
      "metadata": {
        "id": "uzS-V4e3gXhH"
      },
      "source": [
        "データの準備と表示"
      ]
    },
    {
      "cell_type": "code",
      "metadata": {
        "colab": {
          "base_uri": "https://localhost:8080/",
          "height": 430
        },
        "id": "fPKnLQLA6ZXt",
        "outputId": "927ff5b1-b43d-4ad3-d027-53107515263c"
      },
      "source": [
        "import numpy as np\n",
        "import matplotlib.pyplot as plt\n",
        "\n",
        "X = np.array([[1.0], [0.5], [-0.2], [-0.4], [-1.3], [-2.0]])\n",
        "y = np.array([1, 1, 0, 1, 0, 0])\n",
        "plt.grid()\n",
        "plt.scatter(X[y==1], np.zeros(len(X[y==1])), c='blue', label='class1')\n",
        "plt.scatter(X[y==0], np.zeros(len(X[y==0])), c='red',  label='class2')\n",
        "plt.tick_params(labelleft=False)\n",
        "plt.legend(loc='upper right')\n",
        "plt.show()"
      ],
      "execution_count": null,
      "outputs": [
        {
          "output_type": "display_data",
          "data": {
            "text/plain": [
              "<Figure size 640x480 with 1 Axes>"
            ],
            "image/png": "[encoded data removed]"
          },
          "metadata": {}
        }
      ]
    },
    {
      "cell_type": "markdown",
      "metadata": {
        "id": "Vr4DkizBgl4O"
      },
      "source": [
        "学習の設定"
      ]
    },
    {
      "cell_type": "code",
      "metadata": {
        "colab": {
          "base_uri": "https://localhost:8080/"
        },
        "id": "eBo2_Ywt6coj",
        "outputId": "ea077a5d-6522-4f8d-ca8b-78c732168f31"
      },
      "source": [
        "eps = 1e-8\n",
        "differ = np.inf\n",
        "olderr = np.inf\n",
        "w = np.array([0.2, 0.3]) # 重みの初期値\n",
        "rho = 0.2                # 学習係数\n",
        "(n, d) = X.shape\n",
        "X2 = np.concatenate((np.ones((n, 1)), X), axis=1)\n",
        "print(X2)"
      ],
      "execution_count": null,
      "outputs": [
        {
          "output_type": "stream",
          "name": "stdout",
          "text": [
            "[[ 1.   1. ]\n",
            " [ 1.   0.5]\n",
            " [ 1.  -0.2]\n",
            " [ 1.  -0.4]\n",
            " [ 1.  -1.3]\n",
            " [ 1.  -2. ]]\n"
          ]
        }
      ]
    },
    {
      "cell_type": "markdown",
      "metadata": {
        "id": "h3OlcO8Y4ipn"
      },
      "source": [
        "Widrow-Hoffの学習規則を記述せよ。"
      ]
    },
    {
      "cell_type": "code",
      "metadata": {
        "id": "4z21c2it6ei-"
      },
      "source": [],
      "execution_count": null,
      "outputs": []
    },
    {
      "cell_type": "markdown",
      "metadata": {
        "id": "X8mYdwOCSImO"
      },
      "source": [
        "### 機械学習ライブラリ scikit-learn を利用した勾配降下法のコード\n",
        "\n",
        "以下のコードは、機械学習ライブラリ [scikit-learn](https://scikit-learn.org/stable/index.html) の [make_classification](https://scikit-learn.org/stable/modules/generated/sklearn.datasets.make_classification.html) 関数を用いて、乱数によって線形分離不可能な2クラスの2次元データを生成したものである。\n",
        "\n",
        "このデータに対して、scikit-learn の勾配降下法 [SGDClassifier](https://scikit-learn.org/stable/modules/generated/sklearn.linear_model.SGDClassifier.html) を用いて二乗誤差最小の識別面を求めよ。\n",
        "\n",
        "また、機械学習に関する応用的なライブラリ [mlxtend](https://rasbt.github.io/mlxtend/) の [plot_decision_regions](https://rasbt.github.io/mlxtend/api_subpackages/mlxtend.plotting/#plot_decision_regions) 関数を用いて,\n",
        "得られた識別面を表示せよ。"
      ]
    },
    {
      "cell_type": "code",
      "metadata": {
        "colab": {
          "base_uri": "https://localhost:8080/",
          "height": 430
        },
        "id": "dsjMRCRm6g57",
        "outputId": "f3245288-fe00-4b12-804c-20e81e3753d5"
      },
      "source": [
        "# データの準備\n",
        "from sklearn.datasets import make_classification\n",
        "from sklearn.linear_model import SGDClassifier\n",
        "from mlxtend.plotting import plot_decision_regions\n",
        "import matplotlib.pyplot as plt\n",
        "\n",
        "X, y = make_classification(n_features=2, n_redundant=0, n_clusters_per_class=1, random_state=2)\n",
        "plt.scatter(X[:, 0], X[:, 1], marker='o', c=y)\n",
        "plt.show()"
      ],
      "execution_count": null,
      "outputs": [
        {
          "output_type": "display_data",
          "data": {
            "text/plain": [
              "<Figure size 640x480 with 1 Axes>"
            ],
            "image/png": "[encoded data removed]"
          },
          "metadata": {}
        }
      ]
    },
    {
      "cell_type": "markdown",
      "metadata": {
        "id": "F_IKhy6z5Pml"
      },
      "source": [
        "SGDClassifierの学習と識別面の表示を行うコードを記述せよ。"
      ]
    },
    {
      "cell_type": "code",
      "metadata": {
        "id": "knbI11-B6i6c"
      },
      "source": [],
      "execution_count": null,
      "outputs": []
    },
    {
      "cell_type": "markdown",
      "metadata": {
        "id": "TH3cd0ba5Z0d"
      },
      "source": [
        "# 解答例"
      ]
    },
    {
      "cell_type": "markdown",
      "metadata": {
        "id": "GnRYK8M65aos"
      },
      "source": [
        "### 例題5.1"
      ]
    },
    {
      "cell_type": "code",
      "metadata": {
        "id": "NUnMHUyc6kh7",
        "colab": {
          "base_uri": "https://localhost:8080/"
        },
        "outputId": "8ec8ddd1-d038-4510-e1cf-3d536504a553"
      },
      "source": [
        "w = np.linalg.inv(X2.T @ X2) @ X2.T @ y\n",
        "print(f'result: {w}')"
      ],
      "execution_count": null,
      "outputs": [
        {
          "output_type": "stream",
          "name": "stdout",
          "text": [
            "result: [0.64886731 0.37216828]\n"
          ]
        }
      ]
    },
    {
      "cell_type": "code",
      "metadata": {
        "id": "biy0_9xV6knM",
        "colab": {
          "base_uri": "https://localhost:8080/"
        },
        "outputId": "f0cd5636-ae80-4cd0-a501-806f8095c1f7"
      },
      "source": [
        "w2 = np.linalg.lstsq(X2, y, rcond=None)[0]  # rcond=Noneは警告を消すため\n",
        "print(f'result: {w2}')"
      ],
      "execution_count": null,
      "outputs": [
        {
          "output_type": "stream",
          "name": "stdout",
          "text": [
            "result: [0.64886731 0.37216828]\n"
          ]
        }
      ]
    },
    {
      "cell_type": "markdown",
      "metadata": {
        "id": "GshVprH-5j2t"
      },
      "source": [
        "### 例題5.3"
      ]
    },
    {
      "cell_type": "code",
      "metadata": {
        "id": "9eNxRa8R6nq8",
        "colab": {
          "base_uri": "https://localhost:8080/"
        },
        "outputId": "032af9cb-acc9-402c-c7dc-dd1783f16c21"
      },
      "source": [
        "while differ > eps:\n",
        "    g = X2 @ w - y\n",
        "    w = w - rho * np.sum(g * X2.T, axis=1)\n",
        "    sqrerr = 0.5 * np.sum(g**2)\n",
        "    differ = np.abs(olderr - sqrerr)\n",
        "    olderr = sqrerr\n",
        "    print(f'w = {w}')"
      ],
      "execution_count": null,
      "outputs": [
        {
          "output_type": "stream",
          "name": "stdout",
          "text": [
            "w = [0.704  0.1876]\n",
            "w = [0.549248  0.4776272]\n",
            "w = [0.71941146 0.2792146 ]\n",
            "w = [0.59014072 0.44581365]\n",
            "w = [0.69596241 0.3124593 ]\n",
            "w = [0.61078798 0.42032938]\n",
            "w = [0.6796005  0.33327726]\n",
            "w = [0.62405298 0.40356557]\n",
            "w = [0.66890088 0.34681937]\n",
            "w = [0.63269312 0.39263373]\n",
            "w = [0.66192557 0.35564546]\n",
            "w = [0.63832471 0.38550802]\n",
            "w = [0.65737891 0.36139843]\n",
            "w = [0.64199546 0.38086335]\n",
            "w = [0.65441531 0.36514831]\n",
            "w = [0.64438813 0.37783587]\n",
            "w = [0.65248359 0.36759255]\n",
            "w = [0.6459477  0.37586252]\n",
            "w = [0.65122447 0.36918574]\n",
            "w = [0.64696426 0.37457625]\n",
            "w = [0.65040375 0.37022421]\n",
            "w = [0.64762687 0.37373784]\n",
            "w = [0.64986879 0.37090111]\n",
            "w = [0.64805877 0.37319134]\n",
            "w = [0.64952009 0.37134232]\n",
            "w = [0.64834029 0.37283513]\n",
            "w = [0.6492928 0.3716299]\n",
            "w = [0.64852379 0.37260295]\n",
            "w = [0.64914466 0.37181736]\n",
            "w = [0.6486434  0.37245161]\n",
            "w = [0.64904809 0.37193955]\n",
            "w = [0.64872136 0.37235296]\n",
            "w = [0.64898515 0.37201919]\n",
            "w = [0.64877218 0.37228866]\n",
            "w = [0.64894412 0.3720711 ]\n",
            "w = [0.6488053  0.37224675]\n",
            "w = [0.64891738 0.37210494]\n",
            "w = [0.6488269  0.37221943]\n",
            "w = [0.64889995 0.37212699]\n",
            "w = [0.64884097 0.37220162]\n"
          ]
        }
      ]
    },
    {
      "cell_type": "markdown",
      "source": [
        "### 機械学習ライブラリ scikit-learn を利用した勾配降下法のコード"
      ],
      "metadata": {
        "id": "blKa5Y47wSK6"
      }
    },
    {
      "cell_type": "code",
      "metadata": {
        "id": "NAAlMKUa6nwH",
        "colab": {
          "base_uri": "https://localhost:8080/",
          "height": 430
        },
        "outputId": "02bab0fe-3679-4da6-c63c-0367e52c0116"
      },
      "source": [
        "# 学習係数は学習中に変化させず、重みを小さい値に制限する正則化は行わない\n",
        "clf = SGDClassifier(loss='squared_error', eta0=0.01, learning_rate=\"constant\", penalty=None)\n",
        "clf.fit(X, y)\n",
        "plot_decision_regions(X=X, y=y, clf=clf, legend=2)\n",
        "plt.show()"
      ],
      "execution_count": null,
      "outputs": [
        {
          "output_type": "display_data",
          "data": {
            "text/plain": [
              "<Figure size 640x480 with 1 Axes>"
            ],
            "image/png": "[encoded data removed]"
          },
          "metadata": {}
        }
      ]
    }
  ]
}