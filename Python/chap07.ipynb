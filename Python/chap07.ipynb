{
  "nbformat": 4,
  "nbformat_minor": 0,
  "metadata": {
    "colab": {
      "provenance": [],
      "machine_shape": "hm",
      "gpuType": "A100"
    },
    "kernelspec": {
      "name": "python3",
      "display_name": "Python 3"
    },
    "accelerator": "GPU"
  },
  "cells": [
    {
      "cell_type": "markdown",
      "metadata": {
        "id": "dNGRugaooWTh"
      },
      "source": [
        "<a href=\"https://colab.research.google.com/github/MasahiroAraki/SpeechRecognition/blob/master/Python/chap07.ipynb\" target=\"_parent\"><img src=\"https://colab.research.google.com/assets/colab-badge.svg\" alt=\"Open In Colab\"/></a>"
      ]
    },
    {
      "cell_type": "markdown",
      "source": [
        "# 限界は破れるか（２） ニューラルネットワーク"
      ],
      "metadata": {
        "id": "hJ92TwGBla0w"
      }
    },
    {
      "cell_type": "code",
      "source": [
        "!pip install -U mlxtend"
      ],
      "metadata": {
        "colab": {
          "base_uri": "https://localhost:8080/"
        },
        "id": "qkErEU9V0aoe",
        "outputId": "4bc1accf-0f58-40ad-f44b-df9731ed6d17"
      },
      "execution_count": 1,
      "outputs": [
        {
          "output_type": "stream",
          "name": "stdout",
          "text": [
            "Looking in indexes: https://pypi.org/simple, https://us-python.pkg.dev/colab-wheels/public/simple/\n",
            "Requirement already satisfied: mlxtend in /usr/local/lib/python3.10/dist-packages (0.22.0)\n",
            "Requirement already satisfied: scipy>=1.2.1 in /usr/local/lib/python3.10/dist-packages (from mlxtend) (1.10.1)\n",
            "Requirement already satisfied: numpy>=1.16.2 in /usr/local/lib/python3.10/dist-packages (from mlxtend) (1.22.4)\n",
            "Requirement already satisfied: pandas>=0.24.2 in /usr/local/lib/python3.10/dist-packages (from mlxtend) (1.5.3)\n",
            "Requirement already satisfied: scikit-learn>=1.0.2 in /usr/local/lib/python3.10/dist-packages (from mlxtend) (1.2.2)\n",
            "Requirement already satisfied: matplotlib>=3.0.0 in /usr/local/lib/python3.10/dist-packages (from mlxtend) (3.7.1)\n",
            "Requirement already satisfied: joblib>=0.13.2 in /usr/local/lib/python3.10/dist-packages (from mlxtend) (1.2.0)\n",
            "Requirement already satisfied: setuptools in /usr/local/lib/python3.10/dist-packages (from mlxtend) (67.7.2)\n",
            "Requirement already satisfied: contourpy>=1.0.1 in /usr/local/lib/python3.10/dist-packages (from matplotlib>=3.0.0->mlxtend) (1.1.0)\n",
            "Requirement already satisfied: cycler>=0.10 in /usr/local/lib/python3.10/dist-packages (from matplotlib>=3.0.0->mlxtend) (0.11.0)\n",
            "Requirement already satisfied: fonttools>=4.22.0 in /usr/local/lib/python3.10/dist-packages (from matplotlib>=3.0.0->mlxtend) (4.40.0)\n",
            "Requirement already satisfied: kiwisolver>=1.0.1 in /usr/local/lib/python3.10/dist-packages (from matplotlib>=3.0.0->mlxtend) (1.4.4)\n",
            "Requirement already satisfied: packaging>=20.0 in /usr/local/lib/python3.10/dist-packages (from matplotlib>=3.0.0->mlxtend) (23.1)\n",
            "Requirement already satisfied: pillow>=6.2.0 in /usr/local/lib/python3.10/dist-packages (from matplotlib>=3.0.0->mlxtend) (8.4.0)\n",
            "Requirement already satisfied: pyparsing>=2.3.1 in /usr/local/lib/python3.10/dist-packages (from matplotlib>=3.0.0->mlxtend) (3.1.0)\n",
            "Requirement already satisfied: python-dateutil>=2.7 in /usr/local/lib/python3.10/dist-packages (from matplotlib>=3.0.0->mlxtend) (2.8.2)\n",
            "Requirement already satisfied: pytz>=2020.1 in /usr/local/lib/python3.10/dist-packages (from pandas>=0.24.2->mlxtend) (2022.7.1)\n",
            "Requirement already satisfied: threadpoolctl>=2.0.0 in /usr/local/lib/python3.10/dist-packages (from scikit-learn>=1.0.2->mlxtend) (3.1.0)\n",
            "Requirement already satisfied: six>=1.5 in /usr/local/lib/python3.10/dist-packages (from python-dateutil>=2.7->matplotlib>=3.0.0->mlxtend) (1.16.0)\n"
          ]
        }
      ]
    },
    {
      "cell_type": "markdown",
      "metadata": {
        "id": "GDpHVMYE_8hd"
      },
      "source": [
        "## numpyを用いたニューラルネットのコーディング"
      ]
    },
    {
      "cell_type": "markdown",
      "metadata": {
        "id": "1cnci8OfoKpz"
      },
      "source": [
        "ここでは Python の数値計算ライブラリ numpy を用いてニューラルネットのコーディングを行います。例題として、XOR関数をニューラルネットで実現します。"
      ]
    },
    {
      "cell_type": "markdown",
      "metadata": {
        "id": "DPocRM4RUJLU"
      },
      "source": [
        "対象とするネットワークの構造を以下の図に示します。ここでは、入力に加えるバイアス（b, b2）を別に扱っていますが、上記の学習の説明において、入力の $d$ 次元ベクトルを定数項1を新たな次元として加えた $d+1$ 次元と読み替えてそのまま適用できます。このバイアス値も学習対象です。\n",
        "\n",
        "また、多階層に拡張が容易なように重みもw, w2と読み替えています。\n",
        "\n",
        "![fig1-6.png](data:image/png;base64,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)"
      ]
    },
    {
      "cell_type": "markdown",
      "metadata": {
        "id": "UoMyO5X8Um76"
      },
      "source": [
        "ここでは数学関数モジュール math と数値計算ライブラリ numpy を読み込んでおきます。"
      ]
    },
    {
      "cell_type": "code",
      "execution_count": 2,
      "metadata": {
        "id": "6uu_VOBbOc_H",
        "vscode": {
          "languageId": "python"
        }
      },
      "outputs": [],
      "source": [
        "import math\n",
        "import numpy as np"
      ]
    },
    {
      "cell_type": "markdown",
      "metadata": {
        "id": "UCKVyQb1VoAa"
      },
      "source": [
        "次に重み、バイアスの初期値を設定します。このコード内では、扱う行列・テンソルは numpy の ndarray です。"
      ]
    },
    {
      "cell_type": "code",
      "execution_count": 3,
      "metadata": {
        "id": "Icix6bpvVodR",
        "vscode": {
          "languageId": "python"
        }
      },
      "outputs": [],
      "source": [
        "# 重みとバイアスの初期化\n",
        "w = np.random.rand(2, 2)\n",
        "b = np.array([np.random.rand(2)])\n",
        "w2 = np.array([np.random.rand(2)])\n",
        "b2 = np.array([np.random.rand(1)])"
      ]
    },
    {
      "cell_type": "markdown",
      "metadata": {
        "id": "Mw4b_0AuYTem"
      },
      "source": [
        "次にシグモイド関数とその導関数を定義します。ここでは、1つの数値を引数として与えると、その演算結果を返す関数として定義しておいて、 @np.vectorize というデコレータを付けることで、ベクトルが入力されたら、各要素に対して演算を行い、その結果をベクトルとして返せるようにします。"
      ]
    },
    {
      "cell_type": "code",
      "execution_count": 4,
      "metadata": {
        "id": "JPIYvNQVoLE9",
        "vscode": {
          "languageId": "python"
        }
      },
      "outputs": [],
      "source": [
        "@np.vectorize\n",
        "def sigmoid(x):\n",
        "  return 1 / (1 + math.exp(-x))\n",
        "\n",
        "@np.vectorize\n",
        "def sigmoid_derivative(x):\n",
        "  return sigmoid(x) * (1 - sigmoid(x))"
      ]
    },
    {
      "cell_type": "markdown",
      "metadata": {
        "id": "J1upFQrVoKYT"
      },
      "source": [
        "XOR関数の入力と正解は以下のように定義します。\n",
        "\n"
      ]
    },
    {
      "cell_type": "code",
      "execution_count": 5,
      "metadata": {
        "id": "qrhX6leUaLc3",
        "vscode": {
          "languageId": "python"
        }
      },
      "outputs": [],
      "source": [
        "X = np.array([[0., 0.], [0., 1.], [1., 0.], [1., 1.]])\n",
        "Target = np.array([0., 1., 1., 0.])"
      ]
    },
    {
      "cell_type": "markdown",
      "metadata": {
        "id": "YNjwb2oYoPY8"
      },
      "source": [
        "前向きの計算は以下のようになります。"
      ]
    },
    {
      "cell_type": "code",
      "execution_count": 6,
      "metadata": {
        "id": "S8FlWG34oGws",
        "vscode": {
          "languageId": "python"
        }
      },
      "outputs": [],
      "source": [
        "# 前向き計算\n",
        "def forward(x, w, b, w2, b2):\n",
        "  s = w @ x.T + b\n",
        "  h = sigmoid(s)\n",
        "  z = w2 @ h.T + b2\n",
        "  y = sigmoid(z)\n",
        "  return s, h, z, y"
      ]
    },
    {
      "cell_type": "markdown",
      "source": [
        "学習を行うコードは以下のようになります。"
      ],
      "metadata": {
        "id": "aOcFsAWowHHq"
      }
    },
    {
      "cell_type": "code",
      "source": [
        "# 学習率\n",
        "rho = 1\n",
        "# エポック数\n",
        "epoch = 10000\n",
        "\n",
        "for i in range(epoch):\n",
        "  error = 0\n",
        "  for x, t in zip(X, Target):\n",
        "    # 順伝播\n",
        "    s, h, z, y = forward(x, w, b, w2, b2)\n",
        "    # エラー計算\n",
        "    error += 0.5 * np.power((t - y), 2)\n",
        "    # 逆伝播\n",
        "    delta_2 = -(t - y) * sigmoid_derivative(z)\n",
        "    delta_w2 = rho * delta_2 * h\n",
        "    delta_b2 = rho * delta_2\n",
        "    delta_1 = delta_2 * w2 * sigmoid_derivative(s)\n",
        "    delta_w = rho * np.outer(delta_1, x)\n",
        "    delta_b = rho * delta_1\n",
        "    # 重みとバイアスの更新\n",
        "    w -= delta_w\n",
        "    b -= delta_b\n",
        "    w2 -= delta_w2\n",
        "    b2 -= delta_b2\n",
        "  # 一定のエポック数で誤差を表示\n",
        "  if i%(epoch/10) == 0:\n",
        "    print(f'epoch = {i} error = {error[0][0]/len(X)}')"
      ],
      "metadata": {
        "colab": {
          "base_uri": "https://localhost:8080/"
        },
        "id": "IXdF4NDEq6EK",
        "outputId": "30a4e6d4-9333-4bc8-f553-985e5e3b15c2"
      },
      "execution_count": 7,
      "outputs": [
        {
          "output_type": "stream",
          "name": "stdout",
          "text": [
            "epoch = 0 error = 0.15000457603481795\n",
            "epoch = 1000 error = 0.07376903404983491\n",
            "epoch = 2000 error = 0.06729828591157656\n",
            "epoch = 3000 error = 0.0008062318957395073\n",
            "epoch = 4000 error = 0.00035532291219549366\n",
            "epoch = 5000 error = 0.00022641898874990399\n",
            "epoch = 6000 error = 0.00016571212311208345\n",
            "epoch = 7000 error = 0.00013049285241434035\n",
            "epoch = 8000 error = 0.00010752731800430502\n",
            "epoch = 9000 error = 9.138268105746028e-05\n"
          ]
        }
      ]
    },
    {
      "cell_type": "markdown",
      "source": [
        "このコードでは、重みの初期値によってかなり結果が異なります。誤差が順調に減っている場合は、XOR関数が実現できているので、そのことを確認します。"
      ],
      "metadata": {
        "id": "0G7CmLsOpOrb"
      }
    },
    {
      "cell_type": "code",
      "source": [
        "for x in X:\n",
        "  y = forward(x, w, b, w2, b2)\n",
        "  print(f'input = {x}  result = {y[3][0][0]:.3f}')"
      ],
      "metadata": {
        "colab": {
          "base_uri": "https://localhost:8080/"
        },
        "id": "8AqH6jjxpOze",
        "outputId": "05cc9aa5-eefb-42d3-80d4-ed42135be5fd"
      },
      "execution_count": 8,
      "outputs": [
        {
          "output_type": "stream",
          "name": "stdout",
          "text": [
            "input = [0. 0.]  result = 0.011\n",
            "input = [0. 1.]  result = 0.988\n",
            "input = [1. 0.]  result = 0.988\n",
            "input = [1. 1.]  result = 0.015\n"
          ]
        }
      ]
    },
    {
      "cell_type": "markdown",
      "source": [
        "Tensorflowライブラリを用いたコード\n",
        "\n",
        "上記XOR関数の実現では、隠れ層のユニット数を少し多くすると成功することが多くなります。しかし、numpyを用いたコーディングではテンソルの次元数の変更は修正箇所が多くなりがちです。ニューラルネットのライブラリである Tensorflow を使うと、ネットワーク構造の変更が容易になります。"
      ],
      "metadata": {
        "id": "c0LKTSN8pCux"
      }
    },
    {
      "cell_type": "code",
      "source": [
        "import tensorflow as tf\n",
        "import numpy as np\n",
        "\n",
        "# XORの入力データとラベル\n",
        "x_train = np.array([[0, 0], [0, 1], [1, 0], [1, 1]], dtype=np.float32)\n",
        "y_train = np.array([[0], [1], [1], [0]], dtype=np.float32)\n",
        "\n",
        "# ネットワークの定義\n",
        "model = tf.keras.models.Sequential([\n",
        "    tf.keras.layers.Dense(10, input_shape=(2,), activation='sigmoid'),\n",
        "    tf.keras.layers.Dense(1, activation='sigmoid')\n",
        "])\n",
        "\n",
        "# モデルのコンパイル\n",
        "model.compile(optimizer='adam', loss='mean_squared_error', metrics=['accuracy'])\n",
        "\n",
        "# モデルの学習\n",
        "model.fit(x_train, y_train, epochs=1000, verbose=0)\n",
        "\n",
        "# テストデータでの予測\n",
        "x_test = np.array([[0, 0], [0, 1], [1, 0], [1, 1]], dtype=np.float32)\n",
        "predictions = model.predict(x_test)\n",
        "\n",
        "# 予測結果の表示\n",
        "for i in range(len(x_test)):\n",
        "    print(f\"Input: {x_test[i]}, Predicted Output: {predictions[i]}\")\n"
      ],
      "metadata": {
        "colab": {
          "base_uri": "https://localhost:8080/"
        },
        "id": "KIbV8tnqpC4O",
        "outputId": "3841e9a8-0051-4288-a6ef-6e430d357f8f"
      },
      "execution_count": 9,
      "outputs": [
        {
          "output_type": "stream",
          "name": "stdout",
          "text": [
            "1/1 [==============================] - 0s 72ms/step\n",
            "Input: [0. 0.], Predicted Output: [0.40059492]\n",
            "Input: [0. 1.], Predicted Output: [0.5344604]\n",
            "Input: [1. 0.], Predicted Output: [0.52972174]\n",
            "Input: [1. 1.], Predicted Output: [0.50466746]\n"
          ]
        }
      ]
    },
    {
      "cell_type": "markdown",
      "metadata": {
        "id": "4EuxkmpjLdXY"
      },
      "source": [
        "## 例題7.1\n",
        "\n",
        "教科書では手入力した少数のデータでニューラルネットワークの学習を行っていますが、ここでは乱数を用いて発生させたデータを学習データとして、scikit-learnの[MLPClassifier](https://scikit-learn.org/stable/modules/generated/sklearn.neural_network.MLPClassifier.html)を用いてニューラルネットワークの学習を行います。"
      ]
    },
    {
      "cell_type": "markdown",
      "metadata": {
        "id": "iTON6qy7fn7E"
      },
      "source": [
        "データの準備と表示"
      ]
    },
    {
      "cell_type": "code",
      "execution_count": 10,
      "metadata": {
        "colab": {
          "base_uri": "https://localhost:8080/",
          "height": 449
        },
        "id": "W43GRaro0A3E",
        "outputId": "80632bee-33ae-4297-e795-8808221bfeb3"
      },
      "outputs": [
        {
          "output_type": "execute_result",
          "data": {
            "text/plain": [
              "<matplotlib.collections.PathCollection at 0x7f2ad141d030>"
            ]
          },
          "metadata": {},
          "execution_count": 10
        },
        {
          "output_type": "display_data",
          "data": {
            "text/plain": [
              "<Figure size 640x480 with 1 Axes>"
            ],
            "image/png": "[encoded data removed]"
          },
          "metadata": {}
        }
      ],
      "source": [
        "import numpy as np\n",
        "import matplotlib.pyplot as plt\n",
        "from sklearn.datasets import make_classification\n",
        "from sklearn.neural_network import MLPClassifier\n",
        "from mlxtend.plotting import plot_decision_regions\n",
        "\n",
        "X, y = make_classification(n_features=2, n_redundant=0, n_clusters_per_class=1, random_state=23)\n",
        "plt.scatter(X[:, 0], X[:, 1], marker='o', c=y)"
      ]
    },
    {
      "source": [
        "scikit-learnの[MLPClassifier](https://scikit-learn.org/stable/modules/generated/sklearn.neural_network.MLPClassifier.html)で学習。パラメータはデフォルトとします。"
      ],
      "cell_type": "markdown",
      "metadata": {
        "id": "QO2L-cs10A3H"
      }
    },
    {
      "cell_type": "code",
      "execution_count": 11,
      "metadata": {
        "colab": {
          "base_uri": "https://localhost:8080/",
          "height": 506
        },
        "id": "mj7yiJPL0A3H",
        "outputId": "fed4d49e-7d5a-4b78-f841-798afece5c90"
      },
      "outputs": [
        {
          "output_type": "stream",
          "name": "stderr",
          "text": [
            "/usr/local/lib/python3.10/dist-packages/sklearn/neural_network/_multilayer_perceptron.py:686: ConvergenceWarning: Stochastic Optimizer: Maximum iterations (200) reached and the optimization hasn't converged yet.\n",
            "  warnings.warn(\n"
          ]
        },
        {
          "output_type": "execute_result",
          "data": {
            "text/plain": [
              "<Axes: >"
            ]
          },
          "metadata": {},
          "execution_count": 11
        },
        {
          "output_type": "display_data",
          "data": {
            "text/plain": [
              "<Figure size 640x480 with 1 Axes>"
            ],
            "image/png": "[encoded data removed]"
          },
          "metadata": {}
        }
      ],
      "source": [
        "clf = MLPClassifier()\n",
        "clf.fit(X,y)\n",
        "plot_decision_regions(X=X, y=y, clf=clf, legend=2)"
      ]
    },
    {
      "cell_type": "markdown",
      "source": [
        "デフォルトの繰返し回数200回では誤差関数が収束していないという警告が出ています。インスタンス生成時の引数max_iterの値を少し大きく指定してみます。"
      ],
      "metadata": {
        "id": "ztCgRzaSzJQF"
      }
    },
    {
      "cell_type": "code",
      "source": [
        "clf2 = MLPClassifier(max_iter=500)\n",
        "clf2.fit(X,y)\n",
        "plot_decision_regions(X=X, y=y, clf=clf2, legend=2)"
      ],
      "metadata": {
        "colab": {
          "base_uri": "https://localhost:8080/",
          "height": 449
        },
        "id": "qh6JVUEQzJfb",
        "outputId": "1b1ecc67-4a0a-4271-e447-eff2a2509358"
      },
      "execution_count": 12,
      "outputs": [
        {
          "output_type": "execute_result",
          "data": {
            "text/plain": [
              "<Axes: >"
            ]
          },
          "metadata": {},
          "execution_count": 12
        },
        {
          "output_type": "display_data",
          "data": {
            "text/plain": [
              "<Figure size 640x480 with 1 Axes>"
            ],
            "image/png": "[encoded data removed]"
          },
          "metadata": {}
        }
      ]
    },
    {
      "cell_type": "markdown",
      "source": [
        "識別面は変化していますが、性能はあまり変わらないように見えます。"
      ],
      "metadata": {
        "id": "dApaE4g90Ads"
      }
    },
    {
      "cell_type": "markdown",
      "metadata": {
        "id": "GunyRV4J2KUm"
      },
      "source": [
        "# ニューラルネットワークのためのデータ表現"
      ]
    },
    {
      "cell_type": "markdown",
      "metadata": {
        "id": "yW7IzC38RaMP"
      },
      "source": [
        "ここでは、MNISTとよばれる手描き数字データを使って、学習用のデータの扱い方を学びます。まず、以下のコードを実行し、MNISTデータをndarray形式で読み込みます。"
      ]
    },
    {
      "cell_type": "code",
      "metadata": {
        "id": "dov5lIH32vnP"
      },
      "source": [
        "import tensorflow as tf\n",
        "\n",
        "#学習用画像、学習用画像の正解ラベル、評価用画像、評価用画像の正解ラベルが読み込まれる\n",
        "(X_train, y_train), (X_test, y_test) = tf.keras.datasets.mnist.load_data()"
      ],
      "execution_count": 2,
      "outputs": []
    },
    {
      "cell_type": "markdown",
      "metadata": {
        "id": "AvfM3lh-2KgO"
      },
      "source": [
        "機械学習におけるデータの表現はtensorを用います。tensorは任意の次元の可変長配列とみなすことができます。配列の次元にあたる概念はtensorではランクとよび、よく使われるランクは0から4です。\n",
        "\n",
        "\n",
        "* ランク0: スカラー\n",
        "* ランク1: ベクトル\n",
        "* ランク2: 行列\n",
        "* ランク3以上: 行列の集合\n",
        "\n",
        "ランク2のtensorは1枚の画像データを表し、ランク3のtensorはMNISTの学習データ集合のように画像データの集合を表します（train_images.shapeの出力を確認してください）。\n",
        "\n"
      ]
    },
    {
      "cell_type": "markdown",
      "metadata": {
        "id": "FcR0uM-E2KE9"
      },
      "source": [
        "tensorの表現は、機械学習ライブラリではPythonのList形式ではなく、計算の高速化のため、numpyライブラリのndarray形式を用います。ndarrayで表現したtensorの基本属性は以下の3つです。\n",
        "\n",
        "\n",
        "* ランク（数字並びの軸の数）：ndim\n",
        "* 各軸の要素数：shape\n",
        "* 要素の型：dtype\n",
        "\n",
        "深層学習におけるデータ表現では、tensorの最初（0番目）の軸をsample axisとよび、データの並びを表します。たとえば以下の train_images では 60000個の28x28の画像が並んでいると解釈します。画像中の各ピクセルは0-255の整数値で表されています。\n",
        "\n"
      ]
    },
    {
      "cell_type": "code",
      "metadata": {
        "colab": {
          "base_uri": "https://localhost:8080/"
        },
        "id": "IEK3gcosSBSn",
        "outputId": "5e234f16-98e8-4cf2-dfbe-2e8e3851d916"
      },
      "source": [
        "type(X_train)"
      ],
      "execution_count": 3,
      "outputs": [
        {
          "output_type": "execute_result",
          "data": {
            "text/plain": [
              "numpy.ndarray"
            ]
          },
          "metadata": {},
          "execution_count": 3
        }
      ]
    },
    {
      "cell_type": "code",
      "metadata": {
        "colab": {
          "base_uri": "https://localhost:8080/"
        },
        "id": "MQehHBFW3G8Y",
        "outputId": "6d9547d7-84ba-42af-fa5f-d4e679ebac8a"
      },
      "source": [
        "X_train.ndim"
      ],
      "execution_count": 4,
      "outputs": [
        {
          "output_type": "execute_result",
          "data": {
            "text/plain": [
              "3"
            ]
          },
          "metadata": {},
          "execution_count": 4
        }
      ]
    },
    {
      "cell_type": "code",
      "metadata": {
        "colab": {
          "base_uri": "https://localhost:8080/"
        },
        "id": "5JzLGrFpSI9-",
        "outputId": "23bf45e0-a8fd-45a8-a88c-fd79663c9aaa"
      },
      "source": [
        "X_train.shape"
      ],
      "execution_count": 5,
      "outputs": [
        {
          "output_type": "execute_result",
          "data": {
            "text/plain": [
              "(60000, 28, 28)"
            ]
          },
          "metadata": {},
          "execution_count": 5
        }
      ]
    },
    {
      "cell_type": "code",
      "metadata": {
        "colab": {
          "base_uri": "https://localhost:8080/"
        },
        "id": "X03HhVJaSJU2",
        "outputId": "b8925ec1-1f69-49ad-f1f6-3f6159f45d84"
      },
      "source": [
        "X_train.dtype"
      ],
      "execution_count": 6,
      "outputs": [
        {
          "output_type": "execute_result",
          "data": {
            "text/plain": [
              "dtype('uint8')"
            ]
          },
          "metadata": {},
          "execution_count": 6
        }
      ]
    },
    {
      "cell_type": "markdown",
      "metadata": {
        "id": "hrYd8Ac92iud"
      },
      "source": [
        "tensorから特定の要素を取り出す場合は、indexを指定します。取り出した画像を表示するために、ここではmatplotlibライブラリを用いています。"
      ]
    },
    {
      "cell_type": "code",
      "metadata": {
        "colab": {
          "base_uri": "https://localhost:8080/",
          "height": 449
        },
        "id": "7tV6sx4NSpT3",
        "outputId": "5703b737-efd2-42d5-8834-fbf80631bb2a"
      },
      "source": [
        "import matplotlib.pyplot as plt\n",
        "digit = X_train[5]\n",
        "print(digit.shape)\n",
        "plt.imshow(digit, cmap='gray')\n",
        "plt.show()"
      ],
      "execution_count": 7,
      "outputs": [
        {
          "output_type": "stream",
          "name": "stdout",
          "text": [
            "(28, 28)\n"
          ]
        },
        {
          "output_type": "display_data",
          "data": {
            "text/plain": [
              "<Figure size 640x480 with 1 Axes>"
            ],
            "image/png": "[encoded data removed]"
          },
          "metadata": {}
        }
      ]
    },
    {
      "cell_type": "markdown",
      "metadata": {
        "id": "aUC7Z6DO2iRE"
      },
      "source": [
        "tensorから特定範囲のデータを取り出すにはスライスを用います。範囲の最後を指定しているindexに対応するデータ（この例の場合は20番のデータ）は含まれないことに注意してください。"
      ]
    },
    {
      "cell_type": "code",
      "metadata": {
        "colab": {
          "base_uri": "https://localhost:8080/"
        },
        "id": "k960KbOwSq2W",
        "outputId": "f8907c56-1628-45ab-f3bf-fc078ca99e18"
      },
      "source": [
        "digits = X_train[10:20]\n",
        "print(digits.shape)"
      ],
      "execution_count": 8,
      "outputs": [
        {
          "output_type": "stream",
          "name": "stdout",
          "text": [
            "(10, 28, 28)\n"
          ]
        }
      ]
    },
    {
      "cell_type": "markdown",
      "metadata": {
        "id": "QXYL-fk-yFoa"
      },
      "source": [
        "# Keras入門"
      ]
    },
    {
      "cell_type": "markdown",
      "metadata": {
        "id": "BzwLNfVNyAET"
      },
      "source": [
        "## Kerasとは\n",
        "\n",
        "TensorFlowを下位層のプラットフォームとした深層学習ライブラリです。"
      ]
    },
    {
      "cell_type": "markdown",
      "metadata": {
        "id": "akfSOI0RmNiX"
      },
      "source": [
        "まず、train_imagesとtrain_labelsを使ってニューラルネットワークの学習を行い、次にtest_imagesとtest_labelsを使って性能を評価します。"
      ]
    },
    {
      "cell_type": "markdown",
      "metadata": {
        "id": "iivtP90b2liX"
      },
      "source": [
        "最初にニューラルネットワークの構造を決めます。ニューラルネットワークはレイヤーの積み重ねからなります。レイヤーの種類として、ここではDenseを用いています。Denseは密結合の意味で、そのレイヤーの入力すべてと結合したユニットからなることを示します。最初の引数はそのレイヤーのユニット数です。また、引数activationの値でユニットの活性化関数を決めます。reluは$f(x)=max(0,x)$となる関数、softmaxは入力値の大小関係を保持しながら出力の総和が1となるように変換する関数です。"
      ]
    },
    {
      "cell_type": "code",
      "metadata": {
        "id": "OBU_AWcOmNuk"
      },
      "source": [
        "model = tf.keras.models.Sequential([\n",
        "  tf.keras.layers.Dense(512, activation='relu'),\n",
        "  tf.keras.layers.Dense(10, activation='softmax')\n",
        "])"
      ],
      "execution_count": 11,
      "outputs": []
    },
    {
      "cell_type": "markdown",
      "metadata": {
        "id": "i44HfhXxmOAp"
      },
      "source": [
        "このネットワークに対して、以下の3つの要素を指定して学習可能にします。\n",
        "\n",
        "\n",
        "* 最適化器\n",
        "* 損失関数\n",
        "* 学習やテストの進行をモニタするための指標\n",
        "\n"
      ]
    },
    {
      "cell_type": "code",
      "metadata": {
        "id": "WVsKf9zwmOKN"
      },
      "source": [
        "model.compile(optimizer='rmsprop',\n",
        "              loss='sparse_categorical_crossentropy',\n",
        "              metrics=['accuracy'])"
      ],
      "execution_count": 12,
      "outputs": []
    },
    {
      "cell_type": "markdown",
      "metadata": {
        "id": "pL6VCPi04ZN9"
      },
      "source": [
        "作成したニューラルネットワークの構造に合わせて入力の形式を変換します。また、各画素の値が0-255と大きいので、これを0-1に正規化します。"
      ]
    },
    {
      "cell_type": "code",
      "metadata": {
        "id": "_WHFhz-s4ZXE"
      },
      "source": [
        "X_train = X_train.reshape((60000, 28*28))\n",
        "X_train = X_train.astype('float32')/255\n",
        "X_test = X_test.reshape((10000, 28*28))\n",
        "X_test = X_test.astype('float32')/255"
      ],
      "execution_count": 13,
      "outputs": []
    },
    {
      "cell_type": "markdown",
      "metadata": {
        "id": "3NlNj__f4Zf0"
      },
      "source": [
        "fitメソッドで学習を実行します。accuracy（正解率）の値が繰り返し毎に向上していることを確認してください。"
      ]
    },
    {
      "cell_type": "code",
      "metadata": {
        "id": "_2cXh89V5pvQ",
        "colab": {
          "base_uri": "https://localhost:8080/"
        },
        "outputId": "ffa80479-0d36-4b3b-beb9-f52c4744eb8a"
      },
      "source": [
        "model.fit(X_train, y_train, epochs=5, batch_size=128)"
      ],
      "execution_count": 14,
      "outputs": [
        {
          "output_type": "stream",
          "name": "stdout",
          "text": [
            "Epoch 1/5\n",
            "469/469 [==============================] - 3s 2ms/step - loss: 2.2386 - accuracy: 0.2397\n",
            "Epoch 2/5\n",
            "469/469 [==============================] - 1s 2ms/step - loss: 1.6983 - accuracy: 0.5877\n",
            "Epoch 3/5\n",
            "469/469 [==============================] - 1s 2ms/step - loss: 1.0730 - accuracy: 0.7362\n",
            "Epoch 4/5\n",
            "469/469 [==============================] - 1s 2ms/step - loss: 0.7691 - accuracy: 0.8053\n",
            "Epoch 5/5\n",
            "469/469 [==============================] - 1s 2ms/step - loss: 0.6178 - accuracy: 0.8363\n"
          ]
        },
        {
          "output_type": "execute_result",
          "data": {
            "text/plain": [
              "<keras.callbacks.History at 0x7f519915d570>"
            ]
          },
          "metadata": {},
          "execution_count": 14
        }
      ]
    },
    {
      "cell_type": "markdown",
      "metadata": {
        "id": "1HqK-VU46ngv"
      },
      "source": [
        "次に、学習に用いたのとは別のデータで評価します。accuracyの値が学習データより低くなっていますが、これはニューラルネットワークが学習データに対して過度に適応してしまっていることを示します。"
      ]
    },
    {
      "cell_type": "code",
      "metadata": {
        "id": "dIcybEgc4Zqa",
        "colab": {
          "base_uri": "https://localhost:8080/"
        },
        "outputId": "df56ecf3-2777-4f93-e154-9b306832f6b2"
      },
      "source": [
        "test_loss, test_acc = model.evaluate(X_test, y_test)\n",
        "print('test acc:', test_acc)"
      ],
      "execution_count": 15,
      "outputs": [
        {
          "output_type": "stream",
          "name": "stdout",
          "text": [
            "313/313 [==============================] - 1s 2ms/step - loss: 0.5519 - accuracy: 0.8515\n",
            "test acc: 0.8514999747276306\n"
          ]
        }
      ]
    },
    {
      "cell_type": "markdown",
      "metadata": {
        "id": "uPZ5anz3V787"
      },
      "source": [
        "# 画像認識実験"
      ]
    },
    {
      "cell_type": "markdown",
      "metadata": {
        "id": "N4qpQ461KYsU"
      },
      "source": [
        "ここではTensorFlowのラッパライブラリであるKerasを用いて畳み込みネットワークによる画像認識実験を行います。Kerasでは畳み込み層やプーリング層がレイヤーとして用意されているので、レイヤーを積み重ねてモデルを作成し、学習用データを与えて学習、評価用データで評価という手順となります。"
      ]
    },
    {
      "cell_type": "markdown",
      "metadata": {
        "id": "hO-P4MMqXdqF"
      },
      "source": [
        "ライブラリの読み込み"
      ]
    },
    {
      "cell_type": "code",
      "metadata": {
        "id": "rsKYYcPFXdQa"
      },
      "source": [
        "import numpy as np\n",
        "import tensorflow as tf"
      ],
      "execution_count": 31,
      "outputs": []
    },
    {
      "cell_type": "markdown",
      "metadata": {
        "id": "xPElTXmiXcvB"
      },
      "source": [
        "MNISTデータのロード"
      ]
    },
    {
      "cell_type": "code",
      "metadata": {
        "id": "7CLOuM27XcOq"
      },
      "source": [
        "(X_train, y_train), (X_test, y_test) = tf.keras.datasets.mnist.load_data()"
      ],
      "execution_count": 32,
      "outputs": []
    },
    {
      "cell_type": "markdown",
      "metadata": {
        "id": "0dvamGExXaDx"
      },
      "source": [
        "まず、入力をフラットな配列に変換します。また、元データでは濃淡が0から255までで表現されており、最大値が大きすぎるので、特徴の値の最大値を1とします。"
      ]
    },
    {
      "cell_type": "code",
      "metadata": {
        "id": "Yn8o-L-KXZvL"
      },
      "source": [
        "# input image dimensions\n",
        "img_rows, img_cols = 28, 28\n",
        "\n",
        "X_train = X_train.reshape(X_train.shape[0], img_rows, img_cols, 1)\n",
        "X_test = X_test.reshape(X_test.shape[0], img_rows, img_cols, 1)\n",
        "input_shape = (img_rows, img_cols, 1)\n",
        "\n",
        "X_train = X_train.astype('float32')\n",
        "X_test = X_test.astype('float32')\n",
        "X_train /= 255\n",
        "X_test /= 255"
      ],
      "execution_count": 33,
      "outputs": []
    },
    {
      "cell_type": "markdown",
      "metadata": {
        "id": "vEBLlk2HZ0Bl"
      },
      "source": [
        "正解を示すy_train, y_testの要素は0から9の数字で表されています。ニューラルネットの学習では、出力層のノード数を識別対象のクラス数に合わせ（2クラス問題のみ例外）、その出力と正解情報との差を最小にするように学習します。そのため、正解の数字を10次元のone-hotベクトル（正解の数字に対応する次元の値が1、それ以外の次元の値は0）に変換します。"
      ]
    },
    {
      "cell_type": "code",
      "metadata": {
        "id": "2HtWEE5TZxk0"
      },
      "source": [
        "Y_train = tf.keras.utils.to_categorical(y_train)\n",
        "Y_test = tf.keras.utils.to_categorical(y_test)"
      ],
      "execution_count": 34,
      "outputs": []
    },
    {
      "cell_type": "markdown",
      "metadata": {
        "id": "2FPDi3jeape_"
      },
      "source": [
        "ネットワークの構造は、畳み込み + プーリングを2回行った後、1次元に整形して3層の階層型ニューラルネットで識別を行うようにします。Modelクラスのsummaryメソッドでネットワークの構造を表示することができます。"
      ]
    },
    {
      "cell_type": "code",
      "metadata": {
        "colab": {
          "base_uri": "https://localhost:8080/"
        },
        "id": "rFP17dPYZyQH",
        "outputId": "92fd07c7-cf12-4b28-c66d-ee914a0477fb"
      },
      "source": [
        "n_out = len(Y_train[0])  # 10\n",
        "\n",
        "model = tf.keras.Sequential()\n",
        "model.add(tf.keras.layers.Conv2D(16, kernel_size=(3, 3),\n",
        "                 activation='relu',\n",
        "                 input_shape=input_shape)) # 3x3のフィルタを16枚用意する\n",
        "model.add(tf.keras.layers.MaxPooling2D(pool_size=(2, 2))) # 2x2の範囲で最大値をとる\n",
        "model.add(tf.keras.layers.Conv2D(32, (3, 3), activation='relu')) # 3x3のフィルタを32枚用意する\n",
        "model.add(tf.keras.layers.MaxPooling2D(pool_size=(2, 2)))\n",
        "model.add(tf.keras.layers.Flatten())  #1次元に成形\n",
        "model.add(tf.keras.layers.Dense(128, activation='relu'))\n",
        "model.add(tf.keras.layers.Dense(n_out, activation='softmax'))\n",
        "model.summary()"
      ],
      "execution_count": 35,
      "outputs": [
        {
          "output_type": "stream",
          "name": "stdout",
          "text": [
            "Model: \"sequential_5\"\n",
            "_________________________________________________________________\n",
            " Layer (type)                Output Shape              Param #   \n",
            "=================================================================\n",
            " conv2d_6 (Conv2D)           (None, 26, 26, 16)        160       \n",
            "                                                                 \n",
            " max_pooling2d_6 (MaxPooling  (None, 13, 13, 16)       0         \n",
            " 2D)                                                             \n",
            "                                                                 \n",
            " conv2d_7 (Conv2D)           (None, 11, 11, 32)        4640      \n",
            "                                                                 \n",
            " max_pooling2d_7 (MaxPooling  (None, 5, 5, 32)         0         \n",
            " 2D)                                                             \n",
            "                                                                 \n",
            " flatten_3 (Flatten)         (None, 800)               0         \n",
            "                                                                 \n",
            " dense_8 (Dense)             (None, 128)               102528    \n",
            "                                                                 \n",
            " dense_9 (Dense)             (None, 10)                1290      \n",
            "                                                                 \n",
            "=================================================================\n",
            "Total params: 108,618\n",
            "Trainable params: 108,618\n",
            "Non-trainable params: 0\n",
            "_________________________________________________________________\n"
          ]
        }
      ]
    },
    {
      "cell_type": "markdown",
      "metadata": {
        "id": "rUy26CyMbQeY"
      },
      "source": [
        "学習に用いる最適化器はよく使われている AdamW をもちいます。\n",
        "\n",
        "評価はテストデータの正解率で行います。"
      ]
    },
    {
      "cell_type": "code",
      "metadata": {
        "colab": {
          "base_uri": "https://localhost:8080/"
        },
        "id": "h6Psp8r-Zy7s",
        "outputId": "679408a2-934f-46f7-ae9a-f8a8afa3643f"
      },
      "source": [
        "model.compile(loss = 'categorical_crossentropy',\n",
        "              optimizer = tf.keras.optimizers.AdamW(),\n",
        "              metrics = ['accuracy'])\n",
        "model.fit(X_train, Y_train, epochs=5, batch_size=200)\n",
        "score = model.evaluate(X_test, Y_test, verbose=0)\n",
        "print('Test loss:', score[0])\n",
        "print('Test accuracy:', score[1])"
      ],
      "execution_count": 36,
      "outputs": [
        {
          "output_type": "stream",
          "name": "stdout",
          "text": [
            "Epoch 1/5\n",
            "300/300 [==============================] - 3s 3ms/step - loss: 0.3169 - accuracy: 0.9120\n",
            "Epoch 2/5\n",
            "300/300 [==============================] - 1s 3ms/step - loss: 0.0751 - accuracy: 0.9775\n",
            "Epoch 3/5\n",
            "300/300 [==============================] - 1s 3ms/step - loss: 0.0523 - accuracy: 0.9844\n",
            "Epoch 4/5\n",
            "300/300 [==============================] - 1s 3ms/step - loss: 0.0415 - accuracy: 0.9868\n",
            "Epoch 5/5\n",
            "300/300 [==============================] - 1s 3ms/step - loss: 0.0339 - accuracy: 0.9896\n",
            "Test loss: 0.03249363228678703\n",
            "Test accuracy: 0.9890999794006348\n"
          ]
        }
      ]
    },
    {
      "source": [
        "## 練習問題\n",
        "\n",
        "例題7.1において、ネットワーク構造を変化させ、勾配消失が起きる状況を確認せよ。また、この勾配消失が起きたネットワークの活性化関数を変化させることで学習が可能になることを確認せよ。"
      ],
      "cell_type": "markdown",
      "metadata": {
        "id": "exvJCEgC0A3I"
      }
    },
    {
      "cell_type": "code",
      "execution_count": 30,
      "metadata": {
        "id": "vxvTs_0c0A3I"
      },
      "outputs": [],
      "source": []
    },
    {
      "cell_type": "markdown",
      "source": [
        "## 解答例"
      ],
      "metadata": {
        "id": "ohz31_K80FBX"
      }
    },
    {
      "cell_type": "code",
      "source": [
        "# 勾配消失が起きる設定\n",
        "import numpy as np\n",
        "import matplotlib.pyplot as plt\n",
        "from sklearn.datasets import make_classification\n",
        "from sklearn.neural_network import MLPClassifier\n",
        "from mlxtend.plotting import plot_decision_regions\n",
        "\n",
        "X, y = make_classification(n_features=2, n_redundant=0, n_clusters_per_class=1, random_state=23)\n",
        "plt.scatter(X[:, 0], X[:, 1], marker='o', c=y)\n",
        "\n",
        "# 隠れ層のユニット数:4、階層数；6、活性化関数:シグモイド、エポック数:100000\n",
        "clf3 = MLPClassifier(hidden_layer_sizes=(4,4,4,4,4,4), activation='logistic', learning_rate_init=0.001, max_iter=100000)\n",
        "clf3.fit(X,y)\n",
        "plot_decision_regions(X=X, y=y, clf=clf3, legend=2)"
      ],
      "metadata": {
        "colab": {
          "base_uri": "https://localhost:8080/",
          "height": 449
        },
        "id": "B_vSNjIP0FOe",
        "outputId": "cfb2f466-9ab7-43b2-fbb0-d58d43a1720e"
      },
      "execution_count": 31,
      "outputs": [
        {
          "output_type": "execute_result",
          "data": {
            "text/plain": [
              "<Axes: >"
            ]
          },
          "metadata": {},
          "execution_count": 31
        },
        {
          "output_type": "display_data",
          "data": {
            "text/plain": [
              "<Figure size 640x480 with 1 Axes>"
            ],
            "image/png": "[encoded data removed]"
          },
          "metadata": {}
        }
      ]
    },
    {
      "cell_type": "code",
      "source": [
        "# 活性化関数を変更、エポック数を小さくする\n",
        "# 隠れ層のユニット数:4、階層数；6、活性化関数:ReLU、エポック数:1000\n",
        "clf4 = MLPClassifier(hidden_layer_sizes=(4,4,4,4,4,4), activation='relu', learning_rate_init=0.001, max_iter=1000)\n",
        "clf4.fit(X,y)\n",
        "plot_decision_regions(X=X, y=y, clf=clf4, legend=2)"
      ],
      "metadata": {
        "colab": {
          "base_uri": "https://localhost:8080/",
          "height": 506
        },
        "id": "sWtcRZQtjufo",
        "outputId": "c0333045-3eaf-40ec-97ed-cc456c19a59b"
      },
      "execution_count": 32,
      "outputs": [
        {
          "output_type": "stream",
          "name": "stderr",
          "text": [
            "/usr/local/lib/python3.10/dist-packages/sklearn/neural_network/_multilayer_perceptron.py:686: ConvergenceWarning: Stochastic Optimizer: Maximum iterations (1000) reached and the optimization hasn't converged yet.\n",
            "  warnings.warn(\n"
          ]
        },
        {
          "output_type": "execute_result",
          "data": {
            "text/plain": [
              "<Axes: >"
            ]
          },
          "metadata": {},
          "execution_count": 32
        },
        {
          "output_type": "display_data",
          "data": {
            "text/plain": [
              "<Figure size 640x480 with 1 Axes>"
            ],
            "image/png": "[encoded data removed]"
          },
          "metadata": {}
        }
      ]
    }
  ]
}